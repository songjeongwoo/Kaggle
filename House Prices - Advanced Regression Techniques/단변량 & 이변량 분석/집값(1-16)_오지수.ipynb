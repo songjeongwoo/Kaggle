{
 "cells": [
  {
   "cell_type": "code",
   "execution_count": 1,
   "id": "502def7a",
   "metadata": {},
   "outputs": [],
   "source": [
    "import pandas as pd\n",
    "import numpy as np\n",
    "import random as rd\n",
    "\n",
    "import matplotlib.pyplot as plt\n",
    "import seaborn as sns\n",
    "from statsmodels.graphics.mosaicplot import mosaic\n",
    "\n",
    "import statsmodels.api as sm  # 로지스틱함수\n",
    "import scipy.stats as spst  # 카이제곱검정\n",
    "\n",
    "import warnings   \n",
    "warnings.filterwarnings(\"ignore\")"
   ]
  },
  {
   "cell_type": "code",
   "execution_count": 2,
   "id": "b320fc9b",
   "metadata": {},
   "outputs": [],
   "source": [
    "import pandas as pd\n",
    "\n",
    "data=pd.read_csv('train.csv')"
   ]
  },
  {
   "cell_type": "code",
   "execution_count": 3,
   "id": "5564058f",
   "metadata": {},
   "outputs": [
    {
     "data": {
      "text/plain": [
       "['Id',\n",
       " 'MSSubClass',\n",
       " 'MSZoning',\n",
       " 'LotFrontage',\n",
       " 'LotArea',\n",
       " 'Street',\n",
       " 'Alley',\n",
       " 'LotShape',\n",
       " 'LandContour',\n",
       " 'Utilities',\n",
       " 'LotConfig',\n",
       " 'LandSlope',\n",
       " 'Neighborhood',\n",
       " 'Condition1',\n",
       " 'Condition2',\n",
       " 'BldgType',\n",
       " 'HouseStyle',\n",
       " 'OverallQual',\n",
       " 'OverallCond',\n",
       " 'YearBuilt',\n",
       " 'YearRemodAdd',\n",
       " 'RoofStyle',\n",
       " 'RoofMatl',\n",
       " 'Exterior1st',\n",
       " 'Exterior2nd',\n",
       " 'MasVnrType',\n",
       " 'MasVnrArea',\n",
       " 'ExterQual',\n",
       " 'ExterCond',\n",
       " 'Foundation',\n",
       " 'BsmtQual',\n",
       " 'BsmtCond',\n",
       " 'BsmtExposure',\n",
       " 'BsmtFinType1',\n",
       " 'BsmtFinSF1',\n",
       " 'BsmtFinType2',\n",
       " 'BsmtFinSF2',\n",
       " 'BsmtUnfSF',\n",
       " 'TotalBsmtSF',\n",
       " 'Heating',\n",
       " 'HeatingQC',\n",
       " 'CentralAir',\n",
       " 'Electrical',\n",
       " '1stFlrSF',\n",
       " '2ndFlrSF',\n",
       " 'LowQualFinSF',\n",
       " 'GrLivArea',\n",
       " 'BsmtFullBath',\n",
       " 'BsmtHalfBath',\n",
       " 'FullBath',\n",
       " 'HalfBath',\n",
       " 'BedroomAbvGr',\n",
       " 'KitchenAbvGr',\n",
       " 'KitchenQual',\n",
       " 'TotRmsAbvGrd',\n",
       " 'Functional',\n",
       " 'Fireplaces',\n",
       " 'FireplaceQu',\n",
       " 'GarageType',\n",
       " 'GarageYrBlt',\n",
       " 'GarageFinish',\n",
       " 'GarageCars',\n",
       " 'GarageArea',\n",
       " 'GarageQual',\n",
       " 'GarageCond',\n",
       " 'PavedDrive',\n",
       " 'WoodDeckSF',\n",
       " 'OpenPorchSF',\n",
       " 'EnclosedPorch',\n",
       " '3SsnPorch',\n",
       " 'ScreenPorch',\n",
       " 'PoolArea',\n",
       " 'PoolQC',\n",
       " 'Fence',\n",
       " 'MiscFeature',\n",
       " 'MiscVal',\n",
       " 'MoSold',\n",
       " 'YrSold',\n",
       " 'SaleType',\n",
       " 'SaleCondition',\n",
       " 'SalePrice']"
      ]
     },
     "execution_count": 3,
     "metadata": {},
     "output_type": "execute_result"
    }
   ],
   "source": [
    "list(data)"
   ]
  },
  {
   "cell_type": "code",
   "execution_count": 4,
   "id": "f05a13f8",
   "metadata": {},
   "outputs": [
    {
     "name": "stdout",
     "output_type": "stream",
     "text": [
      "이 데이터 셋은 1460 개의 행과 81개의 열을 가지고 있습니다.\n",
      "\n",
      "각 데이터 타입 개수\n",
      " object     43\n",
      "int64      35\n",
      "float64     3\n",
      "dtype: int64\n",
      "\n",
      "null 칼럼과 그 개수\n",
      " PoolQC          1453\n",
      "MiscFeature     1406\n",
      "Alley           1369\n",
      "Fence           1179\n",
      "FireplaceQu      690\n",
      "LotFrontage      259\n",
      "GarageType        81\n",
      "GarageYrBlt       81\n",
      "GarageFinish      81\n",
      "GarageQual        81\n",
      "GarageCond        81\n",
      "BsmtExposure      38\n",
      "BsmtFinType2      38\n",
      "BsmtFinType1      37\n",
      "BsmtCond          37\n",
      "BsmtQual          37\n",
      "MasVnrArea         8\n",
      "MasVnrType         8\n",
      "Electrical         1\n",
      "dtype: int64\n"
     ]
    }
   ],
   "source": [
    "print('이 데이터 셋은 {} 개의 행과 {}개의 열을 가지고 있습니다.'.format(data.shape[0],data.shape[1]))\n",
    "print('\\n각 데이터 타입 개수\\n',data.dtypes.value_counts())\n",
    "isnull_series = data.isnull().sum()\n",
    "print('\\nnull 칼럼과 그 개수\\n',isnull_series[isnull_series>0].sort_values(ascending = False))"
   ]
  },
  {
   "cell_type": "code",
   "execution_count": 5,
   "id": "dacf7784",
   "metadata": {},
   "outputs": [
    {
     "name": "stdout",
     "output_type": "stream",
     "text": [
      "<class 'pandas.core.frame.DataFrame'>\n",
      "RangeIndex: 1460 entries, 0 to 1459\n",
      "Data columns (total 81 columns):\n",
      " #   Column         Non-Null Count  Dtype  \n",
      "---  ------         --------------  -----  \n",
      " 0   Id             1460 non-null   int64  \n",
      " 1   MSSubClass     1460 non-null   int64  \n",
      " 2   MSZoning       1460 non-null   object \n",
      " 3   LotFrontage    1201 non-null   float64\n",
      " 4   LotArea        1460 non-null   int64  \n",
      " 5   Street         1460 non-null   object \n",
      " 6   Alley          91 non-null     object \n",
      " 7   LotShape       1460 non-null   object \n",
      " 8   LandContour    1460 non-null   object \n",
      " 9   Utilities      1460 non-null   object \n",
      " 10  LotConfig      1460 non-null   object \n",
      " 11  LandSlope      1460 non-null   object \n",
      " 12  Neighborhood   1460 non-null   object \n",
      " 13  Condition1     1460 non-null   object \n",
      " 14  Condition2     1460 non-null   object \n",
      " 15  BldgType       1460 non-null   object \n",
      " 16  HouseStyle     1460 non-null   object \n",
      " 17  OverallQual    1460 non-null   int64  \n",
      " 18  OverallCond    1460 non-null   int64  \n",
      " 19  YearBuilt      1460 non-null   int64  \n",
      " 20  YearRemodAdd   1460 non-null   int64  \n",
      " 21  RoofStyle      1460 non-null   object \n",
      " 22  RoofMatl       1460 non-null   object \n",
      " 23  Exterior1st    1460 non-null   object \n",
      " 24  Exterior2nd    1460 non-null   object \n",
      " 25  MasVnrType     1452 non-null   object \n",
      " 26  MasVnrArea     1452 non-null   float64\n",
      " 27  ExterQual      1460 non-null   object \n",
      " 28  ExterCond      1460 non-null   object \n",
      " 29  Foundation     1460 non-null   object \n",
      " 30  BsmtQual       1423 non-null   object \n",
      " 31  BsmtCond       1423 non-null   object \n",
      " 32  BsmtExposure   1422 non-null   object \n",
      " 33  BsmtFinType1   1423 non-null   object \n",
      " 34  BsmtFinSF1     1460 non-null   int64  \n",
      " 35  BsmtFinType2   1422 non-null   object \n",
      " 36  BsmtFinSF2     1460 non-null   int64  \n",
      " 37  BsmtUnfSF      1460 non-null   int64  \n",
      " 38  TotalBsmtSF    1460 non-null   int64  \n",
      " 39  Heating        1460 non-null   object \n",
      " 40  HeatingQC      1460 non-null   object \n",
      " 41  CentralAir     1460 non-null   object \n",
      " 42  Electrical     1459 non-null   object \n",
      " 43  1stFlrSF       1460 non-null   int64  \n",
      " 44  2ndFlrSF       1460 non-null   int64  \n",
      " 45  LowQualFinSF   1460 non-null   int64  \n",
      " 46  GrLivArea      1460 non-null   int64  \n",
      " 47  BsmtFullBath   1460 non-null   int64  \n",
      " 48  BsmtHalfBath   1460 non-null   int64  \n",
      " 49  FullBath       1460 non-null   int64  \n",
      " 50  HalfBath       1460 non-null   int64  \n",
      " 51  BedroomAbvGr   1460 non-null   int64  \n",
      " 52  KitchenAbvGr   1460 non-null   int64  \n",
      " 53  KitchenQual    1460 non-null   object \n",
      " 54  TotRmsAbvGrd   1460 non-null   int64  \n",
      " 55  Functional     1460 non-null   object \n",
      " 56  Fireplaces     1460 non-null   int64  \n",
      " 57  FireplaceQu    770 non-null    object \n",
      " 58  GarageType     1379 non-null   object \n",
      " 59  GarageYrBlt    1379 non-null   float64\n",
      " 60  GarageFinish   1379 non-null   object \n",
      " 61  GarageCars     1460 non-null   int64  \n",
      " 62  GarageArea     1460 non-null   int64  \n",
      " 63  GarageQual     1379 non-null   object \n",
      " 64  GarageCond     1379 non-null   object \n",
      " 65  PavedDrive     1460 non-null   object \n",
      " 66  WoodDeckSF     1460 non-null   int64  \n",
      " 67  OpenPorchSF    1460 non-null   int64  \n",
      " 68  EnclosedPorch  1460 non-null   int64  \n",
      " 69  3SsnPorch      1460 non-null   int64  \n",
      " 70  ScreenPorch    1460 non-null   int64  \n",
      " 71  PoolArea       1460 non-null   int64  \n",
      " 72  PoolQC         7 non-null      object \n",
      " 73  Fence          281 non-null    object \n",
      " 74  MiscFeature    54 non-null     object \n",
      " 75  MiscVal        1460 non-null   int64  \n",
      " 76  MoSold         1460 non-null   int64  \n",
      " 77  YrSold         1460 non-null   int64  \n",
      " 78  SaleType       1460 non-null   object \n",
      " 79  SaleCondition  1460 non-null   object \n",
      " 80  SalePrice      1460 non-null   int64  \n",
      "dtypes: float64(3), int64(35), object(43)\n",
      "memory usage: 924.0+ KB\n"
     ]
    }
   ],
   "source": [
    "data.info()"
   ]
  },
  {
   "cell_type": "markdown",
   "id": "ba29d8ba",
   "metadata": {},
   "source": [
    "### ① Target(saleprice)"
   ]
  },
  {
   "cell_type": "code",
   "execution_count": 6,
   "id": "0e269704",
   "metadata": {},
   "outputs": [],
   "source": [
    "var = 'SalePrice'"
   ]
  },
  {
   "cell_type": "markdown",
   "id": "fd45b9a9",
   "metadata": {},
   "source": [
    "1. 변수의 비즈니스 의미 :집 값\n",
    "2. 숫자형\n",
    "3. NaN 없음"
   ]
  },
  {
   "cell_type": "markdown",
   "id": "c0ed8710",
   "metadata": {},
   "source": [
    "4) 기초통계량(수치화)"
   ]
  },
  {
   "cell_type": "code",
   "execution_count": 7,
   "id": "3f81583a",
   "metadata": {},
   "outputs": [
    {
     "data": {
      "text/plain": [
       "count      1460.000000\n",
       "mean     180921.195890\n",
       "std       79442.502883\n",
       "min       34900.000000\n",
       "25%      129975.000000\n",
       "50%      163000.000000\n",
       "75%      214000.000000\n",
       "max      755000.000000\n",
       "Name: SalePrice, dtype: float64"
      ]
     },
     "execution_count": 7,
     "metadata": {},
     "output_type": "execute_result"
    }
   ],
   "source": [
    "data[var].describe() "
   ]
  },
  {
   "cell_type": "code",
   "execution_count": 8,
   "id": "f55db369",
   "metadata": {},
   "outputs": [
    {
     "data": {
      "image/png": "[encoded data removed]",
      "text/plain": [
       "<Figure size 432x288 with 1 Axes>"
      ]
     },
     "metadata": {
      "needs_background": "light"
     },
     "output_type": "display_data"
    },
    {
     "name": "stdout",
     "output_type": "stream",
     "text": [
      "Skewness: 1.882876\n",
      "Kurtosis: 6.536282\n"
     ]
    }
   ],
   "source": [
    "sns.histplot(x=var,data=data)\n",
    "var_m = np.mean(data[var])\n",
    "plt.axvline(var_m, color='red', linestyle='-')\n",
    "plt.text(var_m + 0.5, 60, round(var_m, 2), color='r')\n",
    "plt.show()\n",
    "print(\"Skewness: %f\" % data[var].skew()) \n",
    "print(\"Kurtosis: %f\" % data[var].kurt())"
   ]
  },
  {
   "cell_type": "markdown",
   "id": "7c455eee",
   "metadata": {},
   "source": [
    "- 왜도가 0보다 큰 값으로 왼쪽으로 치우친 분포\n",
    "- 첨도가 0보다 큰 값으로 정규분포보다 뾰족한 형태\n",
    "- 150000달러가 가장 많음\n",
    "- 500000달러 이후로는 매우 극소수 존재"
   ]
  },
  {
   "cell_type": "markdown",
   "id": "10fd9e7c",
   "metadata": {},
   "source": [
    "###### 참고\n",
    "'''\n",
    "- 첨도\n",
    "첨도(kurtosis)는 정규분포 대비 봉오리의 높이를 알아보는 측도입니다.  \n",
    "첨도가 '0'보다 크면 (β4 > 0) 정규분포보다 뾰족하다는 의미이며, \n",
    "첨도가 '0'보다 작으면 (β4 < 0) 정규분포보다 납작하다는 뜻으로 해석하면 되겠습니다.\n",
    "\n",
    "- 왜도\n",
    "왜도(skewness)는 자료의 대칭성을 알아보는 측도입니다.  \n",
    "좌우 대칭형태를 띠는 정규분포는 왜도(β3) 점수가 '0' 이며, \n",
    "오른쪽으로 꼬리가 긴 분포 (right-skewed distribution)은 왜도 점수가 '0'보다 크며(β3 > 0), \n",
    "왼쪽으로 꼬리가 긴 분포(left-skewed distribution)은 왜도 점수가 '0'보다 작습니다((β3 < 0).  \n",
    "'''\n"
   ]
  },
  {
   "cell_type": "code",
   "execution_count": 9,
   "id": "4edb6c9d",
   "metadata": {},
   "outputs": [
    {
     "data": {
      "text/plain": [
       "Text(185921.19589041095, 6e-06, '180921.2')"
      ]
     },
     "execution_count": 9,
     "metadata": {},
     "output_type": "execute_result"
    },
    {
     "data": {
      "image/png": "[encoded data removed]",
      "text/plain": [
       "<Figure size 432x288 with 1 Axes>"
      ]
     },
     "metadata": {
      "needs_background": "light"
     },
     "output_type": "display_data"
    }
   ],
   "source": [
    "plt.subplot(4, 1, 2)\n",
    "sns.kdeplot(data[var])\n",
    "plt.axvline(var_m, color='red', linestyle='-')\n",
    "plt.text(var_m + 5000, 6e-6, round(var_m, 2), color='r')"
   ]
  },
  {
   "cell_type": "markdown",
   "id": "642800ce",
   "metadata": {},
   "source": [
    "### ② feature1 (MSSubClass) "
   ]
  },
  {
   "cell_type": "code",
   "execution_count": 10,
   "id": "fee1848c",
   "metadata": {},
   "outputs": [],
   "source": [
    "var = 'MSSubClass'"
   ]
  },
  {
   "cell_type": "markdown",
   "id": "7a5088c2",
   "metadata": {},
   "source": [
    "1. 변수의 비즈니스 의미 : 판매와 관련된 주거 유형\n",
    "\n",
    "2. 범주형\n",
    "- 20 : 1층 1946년 이후 건설\n",
    "- 30 : 1층 1945년 이전 건설\n",
    "- 40 : 1층 다락방 ( 미완성)\n",
    "- 45 : 1.5층 (미완성)\n",
    "- 50 : 1.5층 (완성)\n",
    "- 60 : 2층 1946년 이후 건설\n",
    "- 70 : 2층 1945년 이전 건설\n",
    "- 75 : 모든 시대의 2.5층\n",
    "- 80 : split-level(짧은 계단 세트로 층이 나뉜 구조) or 다층\n",
    "- 85 : split-foyer (일반적으로 바닥과 주요생활 층으로 이어지는 짧은 계단, 전면 진입로)\n",
    "- 90 : 복층\n",
    "- 120 : 1층 PUD - 1946년 이후 건설\n",
    "- 150 : 1.5층 PUD - 모든 시대\n",
    "- 160 : 2층 PUD - 1946년 이전 건설\n",
    "- 180 : 다층 PUD - SOQN  INCL SPLIT LEV/FOYER /(내부/외부 계단)의 포함\n",
    "- 190 : FAMILY CONVERSION (2세대 전환) - 모든 스타일 및 전 시대 \n",
    "\n",
    "\n",
    "- 참고\n",
    "> PUD (Planned Unit Development, 계획 단위 개발):  \n",
    "> 명시된 토지 내에서 허용되는 토지 사용을 재정의하는 유연한 비유클리드 구역 장치 유형\n",
    "\n",
    "3) NaN 없음"
   ]
  },
  {
   "cell_type": "markdown",
   "id": "f3266589",
   "metadata": {},
   "source": [
    "4) 기초통계량(수치화)"
   ]
  },
  {
   "cell_type": "code",
   "execution_count": 11,
   "id": "d87bc3c7",
   "metadata": {},
   "outputs": [
    {
     "data": {
      "text/plain": [
       "array([ 60,  20,  70,  50, 190,  45,  90, 120,  30,  85,  80, 160,  75,\n",
       "       180,  40], dtype=int64)"
      ]
     },
     "execution_count": 11,
     "metadata": {},
     "output_type": "execute_result"
    }
   ],
   "source": [
    "data[var].unique()\n",
    "\n",
    "# 150 값 없음"
   ]
  },
  {
   "cell_type": "code",
   "execution_count": 12,
   "id": "5d54e687",
   "metadata": {},
   "outputs": [
    {
     "data": {
      "text/plain": [
       "<AxesSubplot:xlabel='MSSubClass', ylabel='count'>"
      ]
     },
     "execution_count": 12,
     "metadata": {},
     "output_type": "execute_result"
    },
    {
     "data": {
      "image/png": "[encoded data removed]",
      "text/plain": [
       "<Figure size 432x288 with 1 Axes>"
      ]
     },
     "metadata": {
      "needs_background": "light"
     },
     "output_type": "display_data"
    }
   ],
   "source": [
    "sns.countplot(data[var])"
   ]
  },
  {
   "cell_type": "code",
   "execution_count": 13,
   "id": "d68354af",
   "metadata": {},
   "outputs": [],
   "source": [
    "# sns.barplot(x=feature,y=target,data=data)\n",
    "# plt.show()"
   ]
  },
  {
   "cell_type": "markdown",
   "id": "c8cb289e",
   "metadata": {},
   "source": [
    "- 20 > 60 > 120 순으로 크다.\n",
    "- 40, 45, 75, 75, 180 은 상대적으로 적다.\n",
    "- 1층의 비율이 2층의 비율보다 높다."
   ]
  },
  {
   "cell_type": "code",
   "execution_count": 14,
   "id": "63b6fb24",
   "metadata": {},
   "outputs": [
    {
     "data": {
      "image/png": "[encoded data removed]",
      "text/plain": [
       "<Figure size 432x288 with 1 Axes>"
      ]
     },
     "metadata": {
      "needs_background": "light"
     },
     "output_type": "display_data"
    }
   ],
   "source": [
    "# 층별 구분 : MSSubClass\n",
    "df = data.copy()\n",
    "\n",
    "df['new'] = np.where(df['MSSubClass'].isin([20,30, 40, 50, 90]), '1', '2')\n",
    "sns.countplot(df['new'])\n",
    "plt.show()"
   ]
  },
  {
   "cell_type": "code",
   "execution_count": 15,
   "id": "079e2625",
   "metadata": {},
   "outputs": [
    {
     "data": {
      "text/plain": [
       "20     536\n",
       "60     299\n",
       "50     144\n",
       "120     87\n",
       "30      69\n",
       "160     63\n",
       "70      60\n",
       "80      58\n",
       "90      52\n",
       "190     30\n",
       "85      20\n",
       "75      16\n",
       "45      12\n",
       "180     10\n",
       "40       4\n",
       "Name: MSSubClass, dtype: int64"
      ]
     },
     "execution_count": 15,
     "metadata": {},
     "output_type": "execute_result"
    }
   ],
   "source": [
    "# 범주별 빈도수\n",
    "data[var].value_counts()"
   ]
  },
  {
   "cell_type": "code",
   "execution_count": 16,
   "id": "9d004d04",
   "metadata": {},
   "outputs": [
    {
     "data": {
      "text/plain": [
       "20     0.367123\n",
       "60     0.204795\n",
       "50     0.098630\n",
       "120    0.059589\n",
       "30     0.047260\n",
       "160    0.043151\n",
       "70     0.041096\n",
       "80     0.039726\n",
       "90     0.035616\n",
       "190    0.020548\n",
       "85     0.013699\n",
       "75     0.010959\n",
       "45     0.008219\n",
       "180    0.006849\n",
       "40     0.002740\n",
       "Name: MSSubClass, dtype: float64"
      ]
     },
     "execution_count": 16,
     "metadata": {},
     "output_type": "execute_result"
    }
   ],
   "source": [
    "# 범주별 비율\n",
    "data[var].value_counts() / data[var].shape[0]"
   ]
  },
  {
   "cell_type": "markdown",
   "id": "7de61906",
   "metadata": {},
   "source": [
    "### ② feature2 (MSZoning) "
   ]
  },
  {
   "cell_type": "code",
   "execution_count": 17,
   "id": "9f089283",
   "metadata": {},
   "outputs": [],
   "source": [
    "var = 'MSZoning'"
   ]
  },
  {
   "cell_type": "markdown",
   "id": "c2b00c1e",
   "metadata": {},
   "source": [
    "\n",
    "1. 변수의 비즈니스 의미 : 판매와 관련된 주거 유형\n",
    "\n",
    "2. 범주형 \n",
    "- A \t  농업 \n",
    "- C \t  상업 \n",
    "- FV    수상 마을 주거  \n",
    "- RH    주거용 (고밀도) \n",
    "- RL    주거용 (저밀도) \n",
    "- RP    주거용 (저밀도)의 공원 \n",
    "- RM    주거용 (중밀도) \n",
    "\n",
    "3. nan값 없음\n"
   ]
  },
  {
   "cell_type": "markdown",
   "id": "5c33368d",
   "metadata": {},
   "source": [
    "4) 기초통계량(수치화)"
   ]
  },
  {
   "cell_type": "code",
   "execution_count": 18,
   "id": "464815c8",
   "metadata": {},
   "outputs": [
    {
     "data": {
      "text/plain": [
       "array(['RL', 'RM', 'C (all)', 'FV', 'RH'], dtype=object)"
      ]
     },
     "execution_count": 18,
     "metadata": {},
     "output_type": "execute_result"
    }
   ],
   "source": [
    "data[var].unique()"
   ]
  },
  {
   "cell_type": "code",
   "execution_count": 19,
   "id": "48c36311",
   "metadata": {},
   "outputs": [
    {
     "data": {
      "text/plain": [
       "RL         0.788356\n",
       "RM         0.149315\n",
       "FV         0.044521\n",
       "RH         0.010959\n",
       "C (all)    0.006849\n",
       "Name: MSZoning, dtype: float64"
      ]
     },
     "execution_count": 19,
     "metadata": {},
     "output_type": "execute_result"
    }
   ],
   "source": [
    "# 범주별 비율\n",
    "data[var].value_counts() / data[var].shape[0]"
   ]
  },
  {
   "cell_type": "code",
   "execution_count": 20,
   "id": "04fec82d",
   "metadata": {},
   "outputs": [
    {
     "data": {
      "text/plain": [
       "<AxesSubplot:xlabel='MSZoning', ylabel='count'>"
      ]
     },
     "execution_count": 20,
     "metadata": {},
     "output_type": "execute_result"
    },
    {
     "data": {
      "image/png": "[encoded data removed]",
      "text/plain": [
       "<Figure size 432x288 with 1 Axes>"
      ]
     },
     "metadata": {
      "needs_background": "light"
     },
     "output_type": "display_data"
    }
   ],
   "source": [
    "sns.countplot(data[var])"
   ]
  },
  {
   "cell_type": "markdown",
   "id": "c21aea67",
   "metadata": {},
   "source": [
    "- 주거용(저밀도)이 압도적으로 높다.\n",
    "- 주거용(중밀도) > 수상 마을이 그 다음으로 높다.\n",
    "- 상업, 주거용(고밀도)가 그 다음으로 낮다.\n",
    "- 농업, 주거용(저밀도)의 공원의 값은 없다."
   ]
  },
  {
   "cell_type": "markdown",
   "id": "f8243375",
   "metadata": {},
   "source": [
    "### ② feature3 (LotFrontage) "
   ]
  },
  {
   "cell_type": "code",
   "execution_count": 21,
   "id": "29d7f64c",
   "metadata": {},
   "outputs": [],
   "source": [
    "var = 'LotFrontage'"
   ]
  },
  {
   "cell_type": "markdown",
   "id": "b07f75e8",
   "metadata": {},
   "source": [
    "1. 변수의 비즈니스 의미 : Linear feet of street connected to property \n",
    "2. 수치형 \n",
    "3. NaN값 있음 -> 최빈값으로 채움"
   ]
  },
  {
   "cell_type": "code",
   "execution_count": 22,
   "id": "07e79712",
   "metadata": {},
   "outputs": [],
   "source": [
    "# 최빈값으로 채움\n",
    "fre_D = data['LotFrontage'].value_counts().idxmax()\n",
    "data['LotFrontage'].fillna(fre_D, inplace=True)"
   ]
  },
  {
   "cell_type": "markdown",
   "id": "8913fc26",
   "metadata": {},
   "source": [
    "4) 기초통계량(수치화)"
   ]
  },
  {
   "cell_type": "code",
   "execution_count": 23,
   "id": "6b0dff61",
   "metadata": {
    "scrolled": true
   },
   "outputs": [
    {
     "data": {
      "text/plain": [
       "count    1460.000000\n",
       "mean       68.267123\n",
       "std        22.356355\n",
       "min        21.000000\n",
       "25%        60.000000\n",
       "50%        63.000000\n",
       "75%        79.000000\n",
       "max       313.000000\n",
       "Name: LotFrontage, dtype: float64"
      ]
     },
     "execution_count": 23,
     "metadata": {},
     "output_type": "execute_result"
    }
   ],
   "source": [
    "data[var].describe() "
   ]
  },
  {
   "cell_type": "code",
   "execution_count": 24,
   "id": "67c04e80",
   "metadata": {},
   "outputs": [
    {
     "data": {
      "image/png": "[encoded data removed]",
      "text/plain": [
       "<Figure size 432x288 with 1 Axes>"
      ]
     },
     "metadata": {
      "needs_background": "light"
     },
     "output_type": "display_data"
    },
    {
     "name": "stdout",
     "output_type": "stream",
     "text": [
      "Skewness: 2.504092\n",
      "Kurtosis: 21.172818\n"
     ]
    }
   ],
   "source": [
    "sns.histplot(x=var,data=data)\n",
    "var_m = np.mean(data[var])\n",
    "plt.axvline(var_m, color='red', linestyle='-')\n",
    "plt.text(var_m + 0.5, 60, round(var_m, 2), color='r')\n",
    "plt.show()\n",
    "print(\"Skewness: %f\" % data[var].skew()) \n",
    "print(\"Kurtosis: %f\" % data[var].kurt())"
   ]
  },
  {
   "cell_type": "code",
   "execution_count": 25,
   "id": "9c7c73d6",
   "metadata": {
    "scrolled": false
   },
   "outputs": [
    {
     "data": {
      "image/png": "[encoded data removed]",
      "text/plain": [
       "<Figure size 720x1080 with 4 Axes>"
      ]
     },
     "metadata": {
      "needs_background": "light"
     },
     "output_type": "display_data"
    }
   ],
   "source": [
    "plt.figure(figsize = (10, 15))\n",
    "var_m = np.mean(data[var])\n",
    "\n",
    "plt.subplot(4, 1, 1)\n",
    "sns.histplot(data[var], bins = 8)\n",
    "plt.axvline(var_m, color='red', linestyle='-')\n",
    "plt.text(var_m + 0.5, 60, round(var_m, 2), color='r')\n",
    "\n",
    "plt.subplot(4, 1, 2)\n",
    "sns.kdeplot(data[var])\n",
    "plt.axvline(var_m, color='red', linestyle='-')\n",
    "plt.text(var_m + 0.5, 0.01, round(var_m, 2), color='r')\n",
    "# plt.xlim(-5, 85)  # x축 제한\n",
    "\n",
    "plt.subplot(4, 1, 3)\n",
    "sns.boxplot(data[var])\n",
    "plt.axvline(var_m, color='red', linestyle='-')\n",
    "plt.text(var_m + 0.5, 0.01, round(var_m, 2), color='r')\n",
    "\n",
    "plt.subplot(4, 1, 4)\n",
    "plt.violinplot(data[var], vert = False, showmeans = False)\n",
    "plt.axvline(var_m, color='red', linestyle='-')\n",
    "plt.text(var_m + 0.5, 0.95, round(var_m, 2), color='r')\n",
    "# 밀도함수와 다른 점: 바이올린 플롯은 min, max부분에서 끝난다.\n",
    "# 결측치가 존재하면 그래프가 그려지지 않는다.\n",
    "\n",
    "plt.tight_layout()\n",
    "plt.show()"
   ]
  },
  {
   "cell_type": "code",
   "execution_count": 26,
   "id": "8ec5db16",
   "metadata": {},
   "outputs": [],
   "source": [
    "# 이상치 제거\n",
    "data = data[data['LotFrontage']<200]"
   ]
  },
  {
   "cell_type": "markdown",
   "id": "e9266b82",
   "metadata": {},
   "source": [
    "- LotFrontage의 평균 : 68.27\n",
    "- 60 즈음이 엄청나게 높다.\n",
    "- 정규분포보다 뾰족하고 왼쪽으로 치우는 분포"
   ]
  },
  {
   "cell_type": "markdown",
   "id": "4967a5d1",
   "metadata": {},
   "source": [
    "### ② feature4 (LotArea) "
   ]
  },
  {
   "cell_type": "code",
   "execution_count": 27,
   "id": "95737124",
   "metadata": {},
   "outputs": [],
   "source": [
    "# 이상치 제거\n",
    "data = data[data['LotArea']<100000]"
   ]
  },
  {
   "cell_type": "code",
   "execution_count": 28,
   "id": "6f6fbbf3",
   "metadata": {},
   "outputs": [],
   "source": [
    "var = 'LotArea'"
   ]
  },
  {
   "cell_type": "markdown",
   "id": "fd9ef054",
   "metadata": {},
   "source": [
    "1. 변수의 비즈니스 의미 : Lot size in square feet \n",
    "2. 수치형 \n",
    "3. NaN값 없음"
   ]
  },
  {
   "cell_type": "markdown",
   "id": "0b099f63",
   "metadata": {},
   "source": [
    "4) 기초통계량(수치화)"
   ]
  },
  {
   "cell_type": "code",
   "execution_count": 29,
   "id": "f1b39d71",
   "metadata": {
    "scrolled": true
   },
   "outputs": [
    {
     "data": {
      "text/plain": [
       "count     1454.000000\n",
       "mean     10047.440165\n",
       "std       5454.098257\n",
       "min       1300.000000\n",
       "25%       7536.250000\n",
       "50%       9458.500000\n",
       "75%      11546.250000\n",
       "max      70761.000000\n",
       "Name: LotArea, dtype: float64"
      ]
     },
     "execution_count": 29,
     "metadata": {},
     "output_type": "execute_result"
    }
   ],
   "source": [
    "data[var].describe() "
   ]
  },
  {
   "cell_type": "code",
   "execution_count": 30,
   "id": "1f7aa31a",
   "metadata": {
    "scrolled": false
   },
   "outputs": [
    {
     "data": {
      "image/png": "[encoded data removed]",
      "text/plain": [
       "<Figure size 720x1080 with 4 Axes>"
      ]
     },
     "metadata": {
      "needs_background": "light"
     },
     "output_type": "display_data"
    }
   ],
   "source": [
    "plt.figure(figsize = (10, 15))\n",
    "var_m = np.mean(data[var])\n",
    "\n",
    "plt.subplot(4, 1, 1)\n",
    "sns.histplot(data[var], bins = 8)\n",
    "plt.axvline(var_m, color='red', linestyle='-')\n",
    "# plt.text(var_m + 0.5, 60, round(var_m, 2), color='r')\n",
    "\n",
    "plt.subplot(4, 1, 2)\n",
    "sns.kdeplot(data[var])\n",
    "plt.axvline(var_m, color='red', linestyle='-')\n",
    "# plt.text(var_m + 0.5, 0.01, round(var_m, 2), color='r')\n",
    "# plt.xlim(-5, 85)  # x축 제한\n",
    "\n",
    "plt.subplot(4, 1, 3)\n",
    "sns.boxplot(data[var])\n",
    "plt.axvline(var_m, color='red', linestyle='-')\n",
    "plt.text(var_m + 0.5, 0.01, round(var_m, 2), color='r')\n",
    "\n",
    "plt.subplot(4, 1, 4)\n",
    "plt.violinplot(data[var], vert = False, showmeans = False)\n",
    "plt.axvline(var_m, color='red', linestyle='-')\n",
    "plt.text(var_m + 0.5, 0.95, round(var_m, 2), color='r')\n",
    "# 밀도함수와 다른 점: 바이올린 플롯은 min, max부분에서 끝난다.\n",
    "# 결측치가 존재하면 그래프가 그려지지 않는다.\n",
    "\n",
    "plt.tight_layout()\n",
    "plt.show()"
   ]
  },
  {
   "cell_type": "markdown",
   "id": "d9e0f63c",
   "metadata": {},
   "source": [
    "- 땅 넓이 이상치 제거해야할까???\n",
    "- 20000넘어가는 값 급격하게 감소\n",
    "- 50000 넘어가는 값 거의 없음"
   ]
  },
  {
   "cell_type": "markdown",
   "id": "368770d3",
   "metadata": {},
   "source": [
    "### ② feature5 (Street) "
   ]
  },
  {
   "cell_type": "code",
   "execution_count": 31,
   "id": "0adca4a2",
   "metadata": {},
   "outputs": [],
   "source": [
    "var = 'Street'"
   ]
  },
  {
   "cell_type": "markdown",
   "id": "69f7bd9e",
   "metadata": {},
   "source": [
    "1. 변수의 비즈니스 의미 : 거리 상태\n",
    "2. 범주형\n",
    "- Grvl(비포장)\n",
    "- Pave(포장) \n",
    "3. NaN값 없음\n",
    "\n"
   ]
  },
  {
   "cell_type": "markdown",
   "id": "7138e1c9",
   "metadata": {},
   "source": [
    "4) 기초통계량(수치화)"
   ]
  },
  {
   "cell_type": "code",
   "execution_count": 32,
   "id": "846d2f7a",
   "metadata": {},
   "outputs": [
    {
     "data": {
      "text/plain": [
       "array(['Pave', 'Grvl'], dtype=object)"
      ]
     },
     "execution_count": 32,
     "metadata": {},
     "output_type": "execute_result"
    }
   ],
   "source": [
    "data[var].unique()"
   ]
  },
  {
   "cell_type": "code",
   "execution_count": 33,
   "id": "3edd05c3",
   "metadata": {},
   "outputs": [
    {
     "data": {
      "text/plain": [
       "Pave    0.996561\n",
       "Grvl    0.003439\n",
       "Name: Street, dtype: float64"
      ]
     },
     "execution_count": 33,
     "metadata": {},
     "output_type": "execute_result"
    }
   ],
   "source": [
    "# 범주별 비율\n",
    "data[var].value_counts() / data[var].shape[0]"
   ]
  },
  {
   "cell_type": "code",
   "execution_count": 34,
   "id": "6d1d2f4e",
   "metadata": {},
   "outputs": [
    {
     "data": {
      "text/plain": [
       "<AxesSubplot:xlabel='Street', ylabel='count'>"
      ]
     },
     "execution_count": 34,
     "metadata": {},
     "output_type": "execute_result"
    },
    {
     "data": {
      "image/png": "[encoded data removed]",
      "text/plain": [
       "<Figure size 432x288 with 1 Axes>"
      ]
     },
     "metadata": {
      "needs_background": "light"
     },
     "output_type": "display_data"
    }
   ],
   "source": [
    "sns.countplot(data[var])"
   ]
  },
  {
   "cell_type": "code",
   "execution_count": 35,
   "id": "c4bc7b5f",
   "metadata": {},
   "outputs": [
    {
     "data": {
      "image/png": "[encoded data removed]",
      "text/plain": [
       "<Figure size 432x288 with 1 Axes>"
      ]
     },
     "metadata": {
      "needs_background": "light"
     },
     "output_type": "display_data"
    }
   ],
   "source": [
    "df = data.copy()\n",
    "\n",
    "df = df[df['Street']=='Grvl']\n",
    "sns.countplot(df['Neighborhood'])\n",
    "plt.show()"
   ]
  },
  {
   "cell_type": "markdown",
   "id": "a7709ccf",
   "metadata": {},
   "source": [
    "- 거의 포장도로 -> 아마도 도시 위주\n",
    "- 비포장된 지역이 세 곳으로 한정되어 있음 -> 이 곳은 자연 관광지 or 다른 이유\n",
    "- edwards : 공군기지 "
   ]
  },
  {
   "cell_type": "markdown",
   "id": "629854d1",
   "metadata": {},
   "source": [
    "### ② feature6 (Alley) "
   ]
  },
  {
   "cell_type": "code",
   "execution_count": 36,
   "id": "7f01a62a",
   "metadata": {},
   "outputs": [],
   "source": [
    "data=data.drop('Alley',axis=1)"
   ]
  },
  {
   "cell_type": "markdown",
   "id": "13e76ac6",
   "metadata": {},
   "source": [
    "var = 'Alley'"
   ]
  },
  {
   "cell_type": "markdown",
   "id": "dee5725d",
   "metadata": {},
   "source": [
    "1. 변수의 비즈니스 의미 : 골목\n",
    "2. 범주형\n",
    "- Grvl(비포장)\n",
    "- Pave(포장) \n",
    "3. NaN값 있음 -> "
   ]
  },
  {
   "cell_type": "markdown",
   "id": "d9a85809",
   "metadata": {},
   "source": [
    "4) 기초통계량"
   ]
  },
  {
   "cell_type": "markdown",
   "id": "e778fa97",
   "metadata": {},
   "source": [
    "data[var].unique()"
   ]
  },
  {
   "cell_type": "markdown",
   "id": "18692833",
   "metadata": {},
   "source": [
    "- 범주별 비율\n",
    "data[var].value_counts() / data[var].shape[0]"
   ]
  },
  {
   "cell_type": "markdown",
   "id": "85ae13c5",
   "metadata": {},
   "source": [
    "sns.countplot(data[var])"
   ]
  },
  {
   "cell_type": "markdown",
   "id": "77aff9c8",
   "metadata": {},
   "source": [
    "df = data.copy()\n",
    "\n",
    "df = df[df['Street']=='Grvl']\n",
    "sns.countplot(df['Neighborhood'])\n",
    "plt.show()"
   ]
  },
  {
   "cell_type": "markdown",
   "id": "f321cfd2",
   "metadata": {},
   "source": [
    "- street에서 Grvl인 곳은 골목도 Grvl\n",
    "- street은 포장도로이지만 골목은 비포장인 경우 다수\n",
    "- 포장과 비포장의 비율이 비슷"
   ]
  },
  {
   "cell_type": "markdown",
   "id": "437dfa0a",
   "metadata": {},
   "source": [
    "### ② feature7 (LotShape) "
   ]
  },
  {
   "cell_type": "code",
   "execution_count": 37,
   "id": "5b811f21",
   "metadata": {},
   "outputs": [],
   "source": [
    "var = 'LotShape'"
   ]
  },
  {
   "cell_type": "markdown",
   "id": "895d736a",
   "metadata": {},
   "source": [
    "1. 변수의 비즈니스 의미 : 택지의 모양\n",
    "2. 범주형\n",
    "- Reg\t규칙적인\t\n",
    "- IR1\t약간 불규칙\n",
    "- IR2\t적당히 불규칙\n",
    "- IR3\t불규칙\n",
    "3. NaN값 없음"
   ]
  },
  {
   "cell_type": "markdown",
   "id": "9a0c17af",
   "metadata": {},
   "source": [
    "4) 기초통계량"
   ]
  },
  {
   "cell_type": "code",
   "execution_count": 38,
   "id": "ab77ae0e",
   "metadata": {},
   "outputs": [
    {
     "data": {
      "text/plain": [
       "array(['Reg', 'IR1', 'IR2', 'IR3'], dtype=object)"
      ]
     },
     "execution_count": 38,
     "metadata": {},
     "output_type": "execute_result"
    }
   ],
   "source": [
    "data[var].unique()"
   ]
  },
  {
   "cell_type": "code",
   "execution_count": 39,
   "id": "ffffa201",
   "metadata": {},
   "outputs": [
    {
     "data": {
      "text/plain": [
       "Reg    0.636176\n",
       "IR1    0.332187\n",
       "IR2    0.026135\n",
       "IR3    0.005502\n",
       "Name: LotShape, dtype: float64"
      ]
     },
     "execution_count": 39,
     "metadata": {},
     "output_type": "execute_result"
    }
   ],
   "source": [
    "# 범주별 비율\n",
    "data[var].value_counts() / data[var].shape[0]"
   ]
  },
  {
   "cell_type": "code",
   "execution_count": 40,
   "id": "3059f2c3",
   "metadata": {},
   "outputs": [
    {
     "data": {
      "text/plain": [
       "<AxesSubplot:xlabel='LotShape', ylabel='count'>"
      ]
     },
     "execution_count": 40,
     "metadata": {},
     "output_type": "execute_result"
    },
    {
     "data": {
      "image/png": "[encoded data removed]",
      "text/plain": [
       "<Figure size 432x288 with 1 Axes>"
      ]
     },
     "metadata": {
      "needs_background": "light"
     },
     "output_type": "display_data"
    }
   ],
   "source": [
    "sns.countplot(data[var])"
   ]
  },
  {
   "cell_type": "markdown",
   "id": "7c724860",
   "metadata": {},
   "source": [
    "- 규칙적인게 압도적으로 많고 약간 불규칙이 그 다음이며, 나머지는 적은 수치이다."
   ]
  },
  {
   "cell_type": "markdown",
   "id": "78b3ec3d",
   "metadata": {},
   "source": [
    "### ② feature8 (LandContour) "
   ]
  },
  {
   "cell_type": "code",
   "execution_count": 41,
   "id": "917b0b4e",
   "metadata": {},
   "outputs": [],
   "source": [
    "var = 'LandContour'"
   ]
  },
  {
   "cell_type": "markdown",
   "id": "88e6525c",
   "metadata": {},
   "source": [
    "1. 변수의 비즈니스 의미 : 등고선\n",
    "2. 범주형\n",
    "- Lvl\t:\t    평지 ( flat level) \n",
    "- Bnk\t: Banked     거리에서 건물로의 빠르고 상당한 경사 \n",
    "- HLS   : Hillside  좌우로 상당한 경사 \n",
    "- Low   : 낮은 고도\n",
    "3. NaN값 없음"
   ]
  },
  {
   "cell_type": "markdown",
   "id": "a17868ee",
   "metadata": {},
   "source": [
    "4) 기초통계량"
   ]
  },
  {
   "cell_type": "code",
   "execution_count": 42,
   "id": "1e2f9700",
   "metadata": {},
   "outputs": [
    {
     "data": {
      "text/plain": [
       "array(['Lvl', 'Bnk', 'Low', 'HLS'], dtype=object)"
      ]
     },
     "execution_count": 42,
     "metadata": {},
     "output_type": "execute_result"
    }
   ],
   "source": [
    "data[var].unique()"
   ]
  },
  {
   "cell_type": "code",
   "execution_count": 43,
   "id": "62f62f37",
   "metadata": {},
   "outputs": [
    {
     "data": {
      "text/plain": [
       "Lvl    0.901651\n",
       "Bnk    0.042641\n",
       "HLS    0.033012\n",
       "Low    0.022696\n",
       "Name: LandContour, dtype: float64"
      ]
     },
     "execution_count": 43,
     "metadata": {},
     "output_type": "execute_result"
    }
   ],
   "source": [
    "# 범주별 비율\n",
    "data[var].value_counts() / data[var].shape[0]"
   ]
  },
  {
   "cell_type": "code",
   "execution_count": 44,
   "id": "26f6f232",
   "metadata": {},
   "outputs": [
    {
     "data": {
      "text/plain": [
       "<AxesSubplot:xlabel='LandContour', ylabel='count'>"
      ]
     },
     "execution_count": 44,
     "metadata": {},
     "output_type": "execute_result"
    },
    {
     "data": {
      "image/png": "[encoded data removed]",
      "text/plain": [
       "<Figure size 432x288 with 1 Axes>"
      ]
     },
     "metadata": {
      "needs_background": "light"
     },
     "output_type": "display_data"
    }
   ],
   "source": [
    "sns.countplot(data[var])"
   ]
  },
  {
   "cell_type": "markdown",
   "id": "d34741d0",
   "metadata": {},
   "source": [
    "- 평지가 압도적으로 많다.\n",
    "- 나머지는 비슷하게 낮은 수치 ( 경사가 있는 곳은 거의 산지일까..? )"
   ]
  },
  {
   "cell_type": "markdown",
   "id": "b49db82b",
   "metadata": {},
   "source": [
    "### ② feature9 (Utilities) "
   ]
  },
  {
   "cell_type": "code",
   "execution_count": 45,
   "id": "bf5396f5",
   "metadata": {},
   "outputs": [],
   "source": [
    "var = 'Utilities'"
   ]
  },
  {
   "cell_type": "markdown",
   "id": "f71c1ef9",
   "metadata": {},
   "source": [
    "1. 변수의 비즈니스 의미 : 수도, 가스, 전기 시설 가능 여부\n",
    "2. 범주형\n",
    "- AllPub\t: All public Utilities (E,G,W,& S)\t\n",
    "- NoSewr\t: Electricity, Gas, and Water (Septic Tank)\n",
    "- NoSeWa\t: Electricity and Gas Only\n",
    "- ELO\t    : Electricity only\t\n",
    "3. NaN값 없음"
   ]
  },
  {
   "cell_type": "markdown",
   "id": "a2034215",
   "metadata": {},
   "source": [
    "4) 기초통계량"
   ]
  },
  {
   "cell_type": "code",
   "execution_count": 46,
   "id": "2f93f1fd",
   "metadata": {},
   "outputs": [
    {
     "data": {
      "text/plain": [
       "array(['AllPub', 'NoSeWa'], dtype=object)"
      ]
     },
     "execution_count": 46,
     "metadata": {},
     "output_type": "execute_result"
    }
   ],
   "source": [
    "data[var].unique()"
   ]
  },
  {
   "cell_type": "code",
   "execution_count": 47,
   "id": "96900b11",
   "metadata": {},
   "outputs": [
    {
     "data": {
      "text/plain": [
       "AllPub    1453\n",
       "NoSeWa       1\n",
       "Name: Utilities, dtype: int64"
      ]
     },
     "execution_count": 47,
     "metadata": {},
     "output_type": "execute_result"
    }
   ],
   "source": [
    "data[var].value_counts()"
   ]
  },
  {
   "cell_type": "code",
   "execution_count": 48,
   "id": "ef563a33",
   "metadata": {},
   "outputs": [
    {
     "data": {
      "text/plain": [
       "AllPub    0.999312\n",
       "NoSeWa    0.000688\n",
       "Name: Utilities, dtype: float64"
      ]
     },
     "execution_count": 48,
     "metadata": {},
     "output_type": "execute_result"
    }
   ],
   "source": [
    "# 범주별 비율\n",
    "data[var].value_counts() / data[var].shape[0]"
   ]
  },
  {
   "cell_type": "code",
   "execution_count": 49,
   "id": "bd2c8798",
   "metadata": {
    "scrolled": false
   },
   "outputs": [
    {
     "data": {
      "text/plain": [
       "<AxesSubplot:xlabel='Utilities', ylabel='count'>"
      ]
     },
     "execution_count": 49,
     "metadata": {},
     "output_type": "execute_result"
    },
    {
     "data": {
      "image/png": "[encoded data removed]",
      "text/plain": [
       "<Figure size 432x288 with 1 Axes>"
      ]
     },
     "metadata": {
      "needs_background": "light"
     },
     "output_type": "display_data"
    }
   ],
   "source": [
    "sns.countplot(data[var])"
   ]
  },
  {
   "cell_type": "code",
   "execution_count": 50,
   "id": "c52332cb",
   "metadata": {},
   "outputs": [],
   "source": [
    "# df = data.copy()\n",
    "\n",
    "# df = df[df['Utilities']=='NoSeWa']\n",
    "# sns.countplot(df['Neighborhood'])\n",
    "# plt.show()"
   ]
  },
  {
   "cell_type": "markdown",
   "id": "7183f3fc",
   "metadata": {},
   "source": [
    "- 수도, 가스, 전기 시설을 모두 갖춘 곳이 압도적이다.\n",
    "- 전기와 가스 둘 중 하나만 갖춘 곳이 하나있다. -> 여기도 timber 있음 ( 여기 시골? )"
   ]
  },
  {
   "cell_type": "markdown",
   "id": "6c1ef41e",
   "metadata": {},
   "source": [
    "### ② feature10 (LotConfig) "
   ]
  },
  {
   "cell_type": "code",
   "execution_count": 51,
   "id": "308343f1",
   "metadata": {},
   "outputs": [],
   "source": [
    "var = 'LotConfig'"
   ]
  },
  {
   "cell_type": "markdown",
   "id": "7279101d",
   "metadata": {},
   "source": [
    "1. 변수의 비즈니스 의미 : 택지 구성\n",
    "2. 범주형\n",
    "- Inside\t: 내부 구조\n",
    "- Corner\t: 코너에 위치\n",
    "- CulDSac\t: 막다른 길\n",
    "- FR2\t    : Frontage on 2 sides of property\n",
    "- FR3\t    : Frontage on 3 sides of property\n",
    "3. NaN값 없음"
   ]
  },
  {
   "cell_type": "markdown",
   "id": "94480da0",
   "metadata": {},
   "source": [
    "4) 기초통계량"
   ]
  },
  {
   "cell_type": "code",
   "execution_count": 52,
   "id": "da8104c3",
   "metadata": {},
   "outputs": [
    {
     "data": {
      "text/plain": [
       "array(['Inside', 'FR2', 'Corner', 'CulDSac', 'FR3'], dtype=object)"
      ]
     },
     "execution_count": 52,
     "metadata": {},
     "output_type": "execute_result"
    }
   ],
   "source": [
    "data[var].unique()"
   ]
  },
  {
   "cell_type": "code",
   "execution_count": 53,
   "id": "5d8f192f",
   "metadata": {},
   "outputs": [
    {
     "data": {
      "text/plain": [
       "Inside     1050\n",
       "Corner      261\n",
       "CulDSac      92\n",
       "FR2          47\n",
       "FR3           4\n",
       "Name: LotConfig, dtype: int64"
      ]
     },
     "execution_count": 53,
     "metadata": {},
     "output_type": "execute_result"
    }
   ],
   "source": [
    "data[var].value_counts()"
   ]
  },
  {
   "cell_type": "code",
   "execution_count": 54,
   "id": "b3d9f03d",
   "metadata": {},
   "outputs": [
    {
     "data": {
      "text/plain": [
       "Inside     0.722146\n",
       "Corner     0.179505\n",
       "CulDSac    0.063274\n",
       "FR2        0.032325\n",
       "FR3        0.002751\n",
       "Name: LotConfig, dtype: float64"
      ]
     },
     "execution_count": 54,
     "metadata": {},
     "output_type": "execute_result"
    }
   ],
   "source": [
    "# 범주별 비율\n",
    "data[var].value_counts() / data[var].shape[0]"
   ]
  },
  {
   "cell_type": "code",
   "execution_count": 55,
   "id": "c0c3aa21",
   "metadata": {
    "scrolled": true
   },
   "outputs": [
    {
     "data": {
      "text/plain": [
       "<AxesSubplot:xlabel='LotConfig', ylabel='count'>"
      ]
     },
     "execution_count": 55,
     "metadata": {},
     "output_type": "execute_result"
    },
    {
     "data": {
      "image/png": "[encoded data removed]",
      "text/plain": [
       "<Figure size 432x288 with 1 Axes>"
      ]
     },
     "metadata": {
      "needs_background": "light"
     },
     "output_type": "display_data"
    }
   ],
   "source": [
    "sns.countplot(data[var])"
   ]
  },
  {
   "cell_type": "markdown",
   "id": "3ab78d4e",
   "metadata": {},
   "source": [
    "- inside 구조가 가장 많음\n",
    "- FR3와 FR2가 가장 적음"
   ]
  },
  {
   "cell_type": "markdown",
   "id": "c93f4053",
   "metadata": {},
   "source": [
    "### ② feature11 (LandSlope) "
   ]
  },
  {
   "cell_type": "code",
   "execution_count": 56,
   "id": "8f8ad28c",
   "metadata": {},
   "outputs": [],
   "source": [
    "var = 'LandSlope'"
   ]
  },
  {
   "cell_type": "markdown",
   "id": "391cc9f3",
   "metadata": {},
   "source": [
    "1. 변수의 비즈니스 의미 : 기울기\n",
    "2. 범주형\n",
    "- Gtl :\tGentle slope\n",
    "- Mod :\tModerate Slope\t\n",
    "- Sev :\tSevere Slope\n",
    "3. NaN값 없음"
   ]
  },
  {
   "cell_type": "markdown",
   "id": "2bea4afb",
   "metadata": {},
   "source": [
    "4) 기초통계량"
   ]
  },
  {
   "cell_type": "code",
   "execution_count": 57,
   "id": "db058ea9",
   "metadata": {},
   "outputs": [
    {
     "data": {
      "text/plain": [
       "array(['Gtl', 'Mod', 'Sev'], dtype=object)"
      ]
     },
     "execution_count": 57,
     "metadata": {},
     "output_type": "execute_result"
    }
   ],
   "source": [
    "data[var].unique()"
   ]
  },
  {
   "cell_type": "code",
   "execution_count": 58,
   "id": "c8122084",
   "metadata": {},
   "outputs": [
    {
     "data": {
      "text/plain": [
       "Gtl    1381\n",
       "Mod      64\n",
       "Sev       9\n",
       "Name: LandSlope, dtype: int64"
      ]
     },
     "execution_count": 58,
     "metadata": {},
     "output_type": "execute_result"
    }
   ],
   "source": [
    "data[var].value_counts()"
   ]
  },
  {
   "cell_type": "code",
   "execution_count": 59,
   "id": "6d4bc9c8",
   "metadata": {},
   "outputs": [
    {
     "data": {
      "text/plain": [
       "Gtl    0.949794\n",
       "Mod    0.044017\n",
       "Sev    0.006190\n",
       "Name: LandSlope, dtype: float64"
      ]
     },
     "execution_count": 59,
     "metadata": {},
     "output_type": "execute_result"
    }
   ],
   "source": [
    "# 범주별 비율\n",
    "data[var].value_counts() / data[var].shape[0]"
   ]
  },
  {
   "cell_type": "code",
   "execution_count": 60,
   "id": "04e0373d",
   "metadata": {
    "scrolled": true
   },
   "outputs": [
    {
     "data": {
      "text/plain": [
       "<AxesSubplot:xlabel='LandSlope', ylabel='count'>"
      ]
     },
     "execution_count": 60,
     "metadata": {},
     "output_type": "execute_result"
    },
    {
     "data": {
      "image/png": "[encoded data removed]",
      "text/plain": [
       "<Figure size 432x288 with 1 Axes>"
      ]
     },
     "metadata": {
      "needs_background": "light"
     },
     "output_type": "display_data"
    }
   ],
   "source": [
    "sns.countplot(data[var])"
   ]
  },
  {
   "cell_type": "markdown",
   "id": "bd12d1f7",
   "metadata": {},
   "source": [
    "- 경사가 적은 곳이 가장 비율이 높음 -> 아까 평지가 가장 많은 것과 일맥상통"
   ]
  },
  {
   "cell_type": "markdown",
   "id": "c62cbe91",
   "metadata": {},
   "source": [
    "### ② feature12 (Neighborhood)"
   ]
  },
  {
   "cell_type": "code",
   "execution_count": 61,
   "id": "7b0fd689",
   "metadata": {},
   "outputs": [],
   "source": [
    "var = 'Neighborhood'"
   ]
  },
  {
   "cell_type": "markdown",
   "id": "77b419f5",
   "metadata": {},
   "source": [
    "1. 변수의 비즈니스 의미 : 인접 도시\n",
    "2. 범주형\n",
    "- Bloomington Heights 일리노이 \n",
    "- Bluestem \n",
    "- Briardale 브라이어데일 그린스 골프 코스 \n",
    "- Brookside 컨트리 클럽 플라자 근방 \n",
    "- Clear Creek 콜로라도의 카운티 \n",
    "- College Creek 칼리지 강 \n",
    "- Crawford 미국 조지아 주 오글 소프 카운티에있는 도시(2010년 인구조사 832명) \n",
    "- Edwards 캘리포니아주 모하비 사막에 있는 공군 기지 \n",
    "- Gilbert 애리조나 주의 도시 \n",
    "- Iowa DOT and Rail Road 아이오와주 교통부 \n",
    "- Meadow Village 텍사스 샌안토니오 지역 \n",
    "- Mitchell 사우스다코타 주 \n",
    "- North Ames 에임스 - 아이오와의 도시(대학도시) \n",
    "- Northridge 캘리포니아 로스앤젤레스의 지역 \n",
    "- Northpark Villa 워싱턴 시애틀의 아파트 \n",
    "- Northridge Heights 네브래스카 링컨의 아파트 단지 \n",
    "- Northwest Ames 에임스 - 아이오와의 도시(대학도시) \n",
    "- Old Town 캘리포니아 샌디에고의 지역 \n",
    "- South & West of Iowa State University 아이오와 주립대학의 남서부 \n",
    "- Sawyer 위스콘신의 카운티 (이 지역의 총 인구 수는 16,489명) \n",
    "- Sawyer West 위스콘신의 카운티 서쪽 \n",
    "- Somerset 미국 매사추세츠 주 브리스톨 카운티의 마을 \n",
    "- Stone Brook 뉴욕 주립대 \n",
    "- Timberland 포틀랜드 \n",
    "- Veenker 아이오와 에임스의 대중 골프장 \n",
    "3. NaN값 없음"
   ]
  },
  {
   "cell_type": "markdown",
   "id": "ae692d79",
   "metadata": {},
   "source": [
    "4) 기초통계량"
   ]
  },
  {
   "cell_type": "code",
   "execution_count": 62,
   "id": "78e9851a",
   "metadata": {},
   "outputs": [
    {
     "data": {
      "text/plain": [
       "array(['CollgCr', 'Veenker', 'Crawfor', 'NoRidge', 'Mitchel', 'Somerst',\n",
       "       'NWAmes', 'OldTown', 'BrkSide', 'Sawyer', 'NridgHt', 'NAmes',\n",
       "       'SawyerW', 'IDOTRR', 'MeadowV', 'Edwards', 'Timber', 'Gilbert',\n",
       "       'StoneBr', 'ClearCr', 'NPkVill', 'Blmngtn', 'BrDale', 'SWISU',\n",
       "       'Blueste'], dtype=object)"
      ]
     },
     "execution_count": 62,
     "metadata": {},
     "output_type": "execute_result"
    }
   ],
   "source": [
    "data[var].unique()"
   ]
  },
  {
   "cell_type": "code",
   "execution_count": 63,
   "id": "9799926e",
   "metadata": {},
   "outputs": [
    {
     "data": {
      "text/plain": [
       "NAmes      224\n",
       "CollgCr    150\n",
       "OldTown    113\n",
       "Edwards     99\n",
       "Somerst     86\n",
       "Gilbert     79\n",
       "NridgHt     77\n",
       "Sawyer      74\n",
       "NWAmes      73\n",
       "SawyerW     59\n",
       "BrkSide     58\n",
       "Crawfor     51\n",
       "Mitchel     49\n",
       "NoRidge     41\n",
       "IDOTRR      37\n",
       "Timber      36\n",
       "ClearCr     26\n",
       "SWISU       25\n",
       "StoneBr     25\n",
       "MeadowV     17\n",
       "Blmngtn     17\n",
       "BrDale      16\n",
       "Veenker     11\n",
       "NPkVill      9\n",
       "Blueste      2\n",
       "Name: Neighborhood, dtype: int64"
      ]
     },
     "execution_count": 63,
     "metadata": {},
     "output_type": "execute_result"
    }
   ],
   "source": [
    "data[var].value_counts()"
   ]
  },
  {
   "cell_type": "code",
   "execution_count": 64,
   "id": "24c76721",
   "metadata": {},
   "outputs": [
    {
     "data": {
      "text/plain": [
       "NAmes      0.154058\n",
       "CollgCr    0.103164\n",
       "OldTown    0.077717\n",
       "Edwards    0.068088\n",
       "Somerst    0.059147\n",
       "Gilbert    0.054333\n",
       "NridgHt    0.052957\n",
       "Sawyer     0.050894\n",
       "NWAmes     0.050206\n",
       "SawyerW    0.040578\n",
       "BrkSide    0.039890\n",
       "Crawfor    0.035076\n",
       "Mitchel    0.033700\n",
       "NoRidge    0.028198\n",
       "IDOTRR     0.025447\n",
       "Timber     0.024759\n",
       "ClearCr    0.017882\n",
       "SWISU      0.017194\n",
       "StoneBr    0.017194\n",
       "MeadowV    0.011692\n",
       "Blmngtn    0.011692\n",
       "BrDale     0.011004\n",
       "Veenker    0.007565\n",
       "NPkVill    0.006190\n",
       "Blueste    0.001376\n",
       "Name: Neighborhood, dtype: float64"
      ]
     },
     "execution_count": 64,
     "metadata": {},
     "output_type": "execute_result"
    }
   ],
   "source": [
    "# 범주별 비율\n",
    "data[var].value_counts() / data[var].shape[0]"
   ]
  },
  {
   "cell_type": "code",
   "execution_count": 65,
   "id": "f5c58bc6",
   "metadata": {
    "scrolled": false
   },
   "outputs": [
    {
     "data": {
      "image/png": "[encoded data removed]",
      "text/plain": [
       "<Figure size 1440x720 with 1 Axes>"
      ]
     },
     "metadata": {
      "needs_background": "light"
     },
     "output_type": "display_data"
    }
   ],
   "source": [
    "plt.figure(figsize=(20,10))\n",
    "sns.countplot(data[var])\n",
    "plt.show()"
   ]
  },
  {
   "cell_type": "markdown",
   "id": "61895aec",
   "metadata": {},
   "source": [
    "- 도시별로 뽑은 게 아니네! -> 부동산 거래 내역 같은 건가?\n",
    "- 대도시, 대학 근처에 거래량이 많네!"
   ]
  },
  {
   "cell_type": "markdown",
   "id": "c6dfb705",
   "metadata": {},
   "source": [
    "### ② feature13 (Condition1)"
   ]
  },
  {
   "cell_type": "code",
   "execution_count": 66,
   "id": "0a645280",
   "metadata": {},
   "outputs": [],
   "source": [
    "var = 'Condition1'"
   ]
  },
  {
   "cell_type": "markdown",
   "id": "8fd72ea8",
   "metadata": {},
   "source": [
    "1. 변수의 비즈니스 의미 : 다양한 조건들과의 근접성\n",
    "2. 범주형\n",
    "- Artery : Adjacent to arterial street (간선가로에 인접) \n",
    "- Feedr\t : Adjacent to feeder street (진입로에 인접) \n",
    "- Norm\t : Normal\t \n",
    "- RRNn   : Within 200' of North-South Railroad (남북 철도에서 200내에)  \n",
    "- RRAn   : Adjacent to North-South Railroad (남북 철도에 인접) \n",
    "- PosN   : Near positive off-site feature--park, greenbelt, etc. (공원, 그린벨트 등 가까이에 있는 긍정적 외부 장소) \n",
    "- PosA\t : Adjacent to postive off-site feature \n",
    "- RRNe\t : Within 200' of East-West Railroad (동서 철도에 200내에) \n",
    "- RRAe\t : Adjacent to East-West Railroad (동서 철도에 인접)   \n",
    "3. NaN값 없음"
   ]
  },
  {
   "cell_type": "markdown",
   "id": "b0ffde1b",
   "metadata": {},
   "source": [
    "4) 기초통계량"
   ]
  },
  {
   "cell_type": "code",
   "execution_count": 67,
   "id": "ea0a537e",
   "metadata": {},
   "outputs": [
    {
     "data": {
      "text/plain": [
       "array(['Norm', 'Feedr', 'PosN', 'Artery', 'RRAe', 'RRNn', 'RRAn', 'PosA',\n",
       "       'RRNe'], dtype=object)"
      ]
     },
     "execution_count": 67,
     "metadata": {},
     "output_type": "execute_result"
    }
   ],
   "source": [
    "data[var].unique()"
   ]
  },
  {
   "cell_type": "code",
   "execution_count": 68,
   "id": "e2d6e3fd",
   "metadata": {},
   "outputs": [
    {
     "data": {
      "text/plain": [
       "Norm      1256\n",
       "Feedr       80\n",
       "Artery      48\n",
       "RRAn        26\n",
       "PosN        19\n",
       "RRAe        11\n",
       "PosA         7\n",
       "RRNn         5\n",
       "RRNe         2\n",
       "Name: Condition1, dtype: int64"
      ]
     },
     "execution_count": 68,
     "metadata": {},
     "output_type": "execute_result"
    }
   ],
   "source": [
    "data[var].value_counts()"
   ]
  },
  {
   "cell_type": "code",
   "execution_count": 69,
   "id": "442e21ad",
   "metadata": {},
   "outputs": [
    {
     "data": {
      "text/plain": [
       "Norm      0.863824\n",
       "Feedr     0.055021\n",
       "Artery    0.033012\n",
       "RRAn      0.017882\n",
       "PosN      0.013067\n",
       "RRAe      0.007565\n",
       "PosA      0.004814\n",
       "RRNn      0.003439\n",
       "RRNe      0.001376\n",
       "Name: Condition1, dtype: float64"
      ]
     },
     "execution_count": 69,
     "metadata": {},
     "output_type": "execute_result"
    }
   ],
   "source": [
    "# 범주별 비율\n",
    "data[var].value_counts() / data[var].shape[0]"
   ]
  },
  {
   "cell_type": "code",
   "execution_count": 70,
   "id": "db1fc4b7",
   "metadata": {
    "scrolled": true
   },
   "outputs": [
    {
     "data": {
      "image/png": "[encoded data removed]",
      "text/plain": [
       "<Figure size 432x288 with 1 Axes>"
      ]
     },
     "metadata": {
      "needs_background": "light"
     },
     "output_type": "display_data"
    }
   ],
   "source": [
    "sns.countplot(data[var])\n",
    "plt.show()"
   ]
  },
  {
   "cell_type": "markdown",
   "id": "4b0c8889",
   "metadata": {},
   "source": [
    "- Norm이 압도적으로 많음\n",
    "- 진입로, 간선가로 근처가 그 다음으로 많음"
   ]
  },
  {
   "cell_type": "markdown",
   "id": "4ac030f1",
   "metadata": {},
   "source": [
    "### ② feature14 (Condition2)"
   ]
  },
  {
   "cell_type": "code",
   "execution_count": 71,
   "id": "3f051c97",
   "metadata": {},
   "outputs": [],
   "source": [
    "var = 'Condition2'"
   ]
  },
  {
   "cell_type": "markdown",
   "id": "0d398e8d",
   "metadata": {},
   "source": [
    "1. 변수의 비즈니스 의미 : 다양한 조건들과의 근접성 ( 조건 둘 이상 )\n",
    "- Condition1에서 추가적으로 있는 인접 시설\n",
    "2. 범주형   \n",
    "3. NaN값 없음"
   ]
  },
  {
   "cell_type": "markdown",
   "id": "c74d9c21",
   "metadata": {},
   "source": [
    "4) 기초통계량"
   ]
  },
  {
   "cell_type": "code",
   "execution_count": 72,
   "id": "bcc3f04b",
   "metadata": {},
   "outputs": [
    {
     "data": {
      "text/plain": [
       "array(['Norm', 'Artery', 'RRNn', 'Feedr', 'PosN', 'PosA', 'RRAn', 'RRAe'],\n",
       "      dtype=object)"
      ]
     },
     "execution_count": 72,
     "metadata": {},
     "output_type": "execute_result"
    }
   ],
   "source": [
    "data[var].unique()"
   ]
  },
  {
   "cell_type": "code",
   "execution_count": 73,
   "id": "5809837a",
   "metadata": {},
   "outputs": [
    {
     "data": {
      "text/plain": [
       "Norm      1439\n",
       "Feedr        6\n",
       "RRNn         2\n",
       "PosN         2\n",
       "Artery       2\n",
       "RRAe         1\n",
       "RRAn         1\n",
       "PosA         1\n",
       "Name: Condition2, dtype: int64"
      ]
     },
     "execution_count": 73,
     "metadata": {},
     "output_type": "execute_result"
    }
   ],
   "source": [
    "data[var].value_counts()"
   ]
  },
  {
   "cell_type": "code",
   "execution_count": 74,
   "id": "78f1b035",
   "metadata": {},
   "outputs": [
    {
     "data": {
      "text/plain": [
       "Norm      0.989684\n",
       "Feedr     0.004127\n",
       "RRNn      0.001376\n",
       "PosN      0.001376\n",
       "Artery    0.001376\n",
       "RRAe      0.000688\n",
       "RRAn      0.000688\n",
       "PosA      0.000688\n",
       "Name: Condition2, dtype: float64"
      ]
     },
     "execution_count": 74,
     "metadata": {},
     "output_type": "execute_result"
    }
   ],
   "source": [
    "# 범주별 비율\n",
    "data[var].value_counts() / data[var].shape[0]"
   ]
  },
  {
   "cell_type": "code",
   "execution_count": 75,
   "id": "fb7d866c",
   "metadata": {
    "scrolled": true
   },
   "outputs": [
    {
     "data": {
      "image/png": "[encoded data removed]",
      "text/plain": [
       "<Figure size 432x288 with 1 Axes>"
      ]
     },
     "metadata": {
      "needs_background": "light"
     },
     "output_type": "display_data"
    }
   ],
   "source": [
    "sns.countplot(data[var])\n",
    "plt.show()"
   ]
  },
  {
   "cell_type": "markdown",
   "id": "8857ecc9",
   "metadata": {},
   "source": [
    "- 아마 특성이 하나만 있어 norm값이 나온 것이 아닐까?\n",
    "- 나머지 값은 극소수\n",
    "- condition 3를 만드는 게 좋을 듯! ( norm = norm 이면 norm값 출력 / 두 값이 다르면 '2'출력 )"
   ]
  },
  {
   "cell_type": "markdown",
   "id": "78caa31e",
   "metadata": {},
   "source": [
    "### ② feature15 (BldgType)"
   ]
  },
  {
   "cell_type": "code",
   "execution_count": 76,
   "id": "57e58987",
   "metadata": {},
   "outputs": [],
   "source": [
    "var = 'BldgType'"
   ]
  },
  {
   "cell_type": "markdown",
   "id": "f4be518b",
   "metadata": {},
   "source": [
    "1. 변수의 비즈니스 의미 : 주거 유형\n",
    "2. 범주형   \n",
    "- 1Fam\t    : Single-family Detached\t\n",
    "- 2FmCon\t: Two-family Conversion; originally built as one-family dwelling\n",
    "- Duplx\t    : Duplex\n",
    "- TwnhsE\t: Townhouse End Unit\n",
    "- TwnhsI\t: Townhouse Inside Unit\n",
    "3. NaN값 없음"
   ]
  },
  {
   "cell_type": "markdown",
   "id": "42ab1407",
   "metadata": {},
   "source": [
    "4) 기초통계량"
   ]
  },
  {
   "cell_type": "code",
   "execution_count": 77,
   "id": "e4911c46",
   "metadata": {},
   "outputs": [
    {
     "data": {
      "text/plain": [
       "array(['1Fam', '2fmCon', 'Duplex', 'TwnhsE', 'Twnhs'], dtype=object)"
      ]
     },
     "execution_count": 77,
     "metadata": {},
     "output_type": "execute_result"
    }
   ],
   "source": [
    "data[var].unique()"
   ]
  },
  {
   "cell_type": "code",
   "execution_count": 78,
   "id": "f57fbf86",
   "metadata": {},
   "outputs": [
    {
     "data": {
      "text/plain": [
       "1Fam      1215\n",
       "TwnhsE     114\n",
       "Duplex      52\n",
       "Twnhs       43\n",
       "2fmCon      30\n",
       "Name: BldgType, dtype: int64"
      ]
     },
     "execution_count": 78,
     "metadata": {},
     "output_type": "execute_result"
    }
   ],
   "source": [
    "data[var].value_counts()"
   ]
  },
  {
   "cell_type": "code",
   "execution_count": 79,
   "id": "6c8032be",
   "metadata": {},
   "outputs": [
    {
     "data": {
      "text/plain": [
       "1Fam      0.835626\n",
       "TwnhsE    0.078404\n",
       "Duplex    0.035763\n",
       "Twnhs     0.029574\n",
       "2fmCon    0.020633\n",
       "Name: BldgType, dtype: float64"
      ]
     },
     "execution_count": 79,
     "metadata": {},
     "output_type": "execute_result"
    }
   ],
   "source": [
    "# 범주별 비율\n",
    "data[var].value_counts() / data[var].shape[0]"
   ]
  },
  {
   "cell_type": "code",
   "execution_count": 80,
   "id": "1118bb6f",
   "metadata": {
    "scrolled": true
   },
   "outputs": [
    {
     "data": {
      "image/png": "[encoded data removed]",
      "text/plain": [
       "<Figure size 432x288 with 1 Axes>"
      ]
     },
     "metadata": {
      "needs_background": "light"
     },
     "output_type": "display_data"
    }
   ],
   "source": [
    "sns.countplot(data[var])\n",
    "plt.show()"
   ]
  },
  {
   "cell_type": "markdown",
   "id": "b27a0ad3",
   "metadata": {},
   "source": [
    "- 1Fam으로 한 가족의 집이 압도적으로 많다.\n",
    "- 나머지 값은 극소수 "
   ]
  },
  {
   "cell_type": "markdown",
   "id": "dc5634fc",
   "metadata": {},
   "source": [
    "### ② feature16 (HouseStyle)"
   ]
  },
  {
   "cell_type": "code",
   "execution_count": 81,
   "id": "45dc0884",
   "metadata": {},
   "outputs": [],
   "source": [
    "var = 'HouseStyle'"
   ]
  },
  {
   "cell_type": "markdown",
   "id": "49db1200",
   "metadata": {},
   "source": [
    "1. 변수의 비즈니스 의미 : 집 스타일\n",
    "2. 범주형   \n",
    "- 1Story\t: 1층집 \n",
    "- 1.5Fin\t: 1.5층집: 2nd level finished  \n",
    "- 1.5Unf\t: 1.5층집: 2nd level unfinished \n",
    "- 2Story\t: 2층집 \n",
    "- 2.5Fin\t: 2.5층집 :2nd level finished \n",
    "- 2.5Unf\t: 2.5층집: 2nd level unfinished \n",
    "- SFoyer    : split foyer\n",
    "- SLvl      : split level\n",
    "3. NaN값 없음"
   ]
  },
  {
   "cell_type": "markdown",
   "id": "b4fa91ae",
   "metadata": {},
   "source": [
    "4) 기초통계량"
   ]
  },
  {
   "cell_type": "code",
   "execution_count": 82,
   "id": "86505938",
   "metadata": {},
   "outputs": [
    {
     "data": {
      "text/plain": [
       "array(['2Story', '1Story', '1.5Fin', '1.5Unf', 'SFoyer', 'SLvl', '2.5Unf',\n",
       "       '2.5Fin'], dtype=object)"
      ]
     },
     "execution_count": 82,
     "metadata": {},
     "output_type": "execute_result"
    }
   ],
   "source": [
    "data[var].unique()"
   ]
  },
  {
   "cell_type": "code",
   "execution_count": 83,
   "id": "da01d2d2",
   "metadata": {},
   "outputs": [
    {
     "data": {
      "text/plain": [
       "1Story    723\n",
       "2Story    444\n",
       "1.5Fin    152\n",
       "SLvl       65\n",
       "SFoyer     37\n",
       "1.5Unf     14\n",
       "2.5Unf     11\n",
       "2.5Fin      8\n",
       "Name: HouseStyle, dtype: int64"
      ]
     },
     "execution_count": 83,
     "metadata": {},
     "output_type": "execute_result"
    }
   ],
   "source": [
    "data[var].value_counts()"
   ]
  },
  {
   "cell_type": "code",
   "execution_count": 84,
   "id": "0929d780",
   "metadata": {},
   "outputs": [
    {
     "data": {
      "text/plain": [
       "1Story    0.497249\n",
       "2Story    0.305365\n",
       "1.5Fin    0.104539\n",
       "SLvl      0.044704\n",
       "SFoyer    0.025447\n",
       "1.5Unf    0.009629\n",
       "2.5Unf    0.007565\n",
       "2.5Fin    0.005502\n",
       "Name: HouseStyle, dtype: float64"
      ]
     },
     "execution_count": 84,
     "metadata": {},
     "output_type": "execute_result"
    }
   ],
   "source": [
    "# 범주별 비율\n",
    "data[var].value_counts() / data[var].shape[0]"
   ]
  },
  {
   "cell_type": "code",
   "execution_count": 85,
   "id": "26451389",
   "metadata": {
    "scrolled": true
   },
   "outputs": [
    {
     "data": {
      "image/png": "[encoded data removed]",
      "text/plain": [
       "<Figure size 432x288 with 1 Axes>"
      ]
     },
     "metadata": {
      "needs_background": "light"
     },
     "output_type": "display_data"
    }
   ],
   "source": [
    "sns.countplot(data[var])\n",
    "plt.show()"
   ]
  },
  {
   "cell_type": "markdown",
   "id": "06e06e84",
   "metadata": {},
   "source": [
    "- 1층 > 2층 > 1.5층(완성) 순으로 많다.\n"
   ]
  },
  {
   "cell_type": "code",
   "execution_count": 86,
   "id": "a4b0d1e4",
   "metadata": {},
   "outputs": [
    {
     "data": {
      "text/plain": [
       "['Id',\n",
       " 'MSSubClass',\n",
       " 'MSZoning',\n",
       " 'LotFrontage',\n",
       " 'LotArea',\n",
       " 'Street',\n",
       " 'LotShape',\n",
       " 'LandContour',\n",
       " 'Utilities',\n",
       " 'LotConfig',\n",
       " 'LandSlope',\n",
       " 'Neighborhood',\n",
       " 'Condition1',\n",
       " 'Condition2',\n",
       " 'BldgType',\n",
       " 'HouseStyle',\n",
       " 'OverallQual',\n",
       " 'OverallCond',\n",
       " 'YearBuilt',\n",
       " 'YearRemodAdd',\n",
       " 'RoofStyle',\n",
       " 'RoofMatl',\n",
       " 'Exterior1st',\n",
       " 'Exterior2nd',\n",
       " 'MasVnrType',\n",
       " 'MasVnrArea',\n",
       " 'ExterQual',\n",
       " 'ExterCond',\n",
       " 'Foundation',\n",
       " 'BsmtQual',\n",
       " 'BsmtCond',\n",
       " 'BsmtExposure',\n",
       " 'BsmtFinType1',\n",
       " 'BsmtFinSF1',\n",
       " 'BsmtFinType2',\n",
       " 'BsmtFinSF2',\n",
       " 'BsmtUnfSF',\n",
       " 'TotalBsmtSF',\n",
       " 'Heating',\n",
       " 'HeatingQC',\n",
       " 'CentralAir',\n",
       " 'Electrical',\n",
       " '1stFlrSF',\n",
       " '2ndFlrSF',\n",
       " 'LowQualFinSF',\n",
       " 'GrLivArea',\n",
       " 'BsmtFullBath',\n",
       " 'BsmtHalfBath',\n",
       " 'FullBath',\n",
       " 'HalfBath',\n",
       " 'BedroomAbvGr',\n",
       " 'KitchenAbvGr',\n",
       " 'KitchenQual',\n",
       " 'TotRmsAbvGrd',\n",
       " 'Functional',\n",
       " 'Fireplaces',\n",
       " 'FireplaceQu',\n",
       " 'GarageType',\n",
       " 'GarageYrBlt',\n",
       " 'GarageFinish',\n",
       " 'GarageCars',\n",
       " 'GarageArea',\n",
       " 'GarageQual',\n",
       " 'GarageCond',\n",
       " 'PavedDrive',\n",
       " 'WoodDeckSF',\n",
       " 'OpenPorchSF',\n",
       " 'EnclosedPorch',\n",
       " '3SsnPorch',\n",
       " 'ScreenPorch',\n",
       " 'PoolArea',\n",
       " 'PoolQC',\n",
       " 'Fence',\n",
       " 'MiscFeature',\n",
       " 'MiscVal',\n",
       " 'MoSold',\n",
       " 'YrSold',\n",
       " 'SaleType',\n",
       " 'SaleCondition',\n",
       " 'SalePrice']"
      ]
     },
     "execution_count": 86,
     "metadata": {},
     "output_type": "execute_result"
    }
   ],
   "source": [
    "list(data)"
   ]
  },
  {
   "cell_type": "markdown",
   "id": "d295a30c",
   "metadata": {},
   "source": [
    "# 이변량 분석"
   ]
  },
  {
   "cell_type": "code",
   "execution_count": 87,
   "id": "44620c94",
   "metadata": {
    "scrolled": false
   },
   "outputs": [
    {
     "data": {
      "text/html": [
       "<div>\n",
       "<style scoped>\n",
       "    .dataframe tbody tr th:only-of-type {\n",
       "        vertical-align: middle;\n",
       "    }\n",
       "\n",
       "    .dataframe tbody tr th {\n",
       "        vertical-align: top;\n",
       "    }\n",
       "\n",
       "    .dataframe thead th {\n",
       "        text-align: right;\n",
       "    }\n",
       "</style>\n",
       "<table border=\"1\" class=\"dataframe\">\n",
       "  <thead>\n",
       "    <tr style=\"text-align: right;\">\n",
       "      <th></th>\n",
       "      <th>Id</th>\n",
       "      <th>MSSubClass</th>\n",
       "      <th>LotFrontage</th>\n",
       "      <th>LotArea</th>\n",
       "      <th>OverallQual</th>\n",
       "      <th>OverallCond</th>\n",
       "      <th>YearBuilt</th>\n",
       "      <th>YearRemodAdd</th>\n",
       "      <th>MasVnrArea</th>\n",
       "      <th>BsmtFinSF1</th>\n",
       "      <th>...</th>\n",
       "      <th>WoodDeckSF</th>\n",
       "      <th>OpenPorchSF</th>\n",
       "      <th>EnclosedPorch</th>\n",
       "      <th>3SsnPorch</th>\n",
       "      <th>ScreenPorch</th>\n",
       "      <th>PoolArea</th>\n",
       "      <th>MiscVal</th>\n",
       "      <th>MoSold</th>\n",
       "      <th>YrSold</th>\n",
       "      <th>SalePrice</th>\n",
       "    </tr>\n",
       "  </thead>\n",
       "  <tbody>\n",
       "    <tr>\n",
       "      <th>Id</th>\n",
       "      <td>1.000000</td>\n",
       "      <td>0.012722</td>\n",
       "      <td>-0.026789</td>\n",
       "      <td>-0.005297</td>\n",
       "      <td>-0.031448</td>\n",
       "      <td>0.013581</td>\n",
       "      <td>-0.014365</td>\n",
       "      <td>-0.023918</td>\n",
       "      <td>-0.053263</td>\n",
       "      <td>-0.013410</td>\n",
       "      <td>...</td>\n",
       "      <td>-0.028673</td>\n",
       "      <td>-0.004015</td>\n",
       "      <td>0.002577</td>\n",
       "      <td>-0.046823</td>\n",
       "      <td>0.001093</td>\n",
       "      <td>0.048435</td>\n",
       "      <td>-0.004639</td>\n",
       "      <td>0.022733</td>\n",
       "      <td>0.000729</td>\n",
       "      <td>-0.018985</td>\n",
       "    </tr>\n",
       "    <tr>\n",
       "      <th>MSSubClass</th>\n",
       "      <td>0.012722</td>\n",
       "      <td>1.000000</td>\n",
       "      <td>-0.376124</td>\n",
       "      <td>-0.280195</td>\n",
       "      <td>0.035629</td>\n",
       "      <td>-0.060162</td>\n",
       "      <td>0.027971</td>\n",
       "      <td>0.043548</td>\n",
       "      <td>0.024635</td>\n",
       "      <td>-0.076166</td>\n",
       "      <td>...</td>\n",
       "      <td>-0.022473</td>\n",
       "      <td>-0.005565</td>\n",
       "      <td>-0.011981</td>\n",
       "      <td>-0.043975</td>\n",
       "      <td>-0.026062</td>\n",
       "      <td>0.008137</td>\n",
       "      <td>-0.010642</td>\n",
       "      <td>-0.014039</td>\n",
       "      <td>-0.021636</td>\n",
       "      <td>-0.083266</td>\n",
       "    </tr>\n",
       "    <tr>\n",
       "      <th>LotFrontage</th>\n",
       "      <td>-0.026789</td>\n",
       "      <td>-0.376124</td>\n",
       "      <td>1.000000</td>\n",
       "      <td>0.376192</td>\n",
       "      <td>0.230866</td>\n",
       "      <td>-0.066794</td>\n",
       "      <td>0.111703</td>\n",
       "      <td>0.081022</td>\n",
       "      <td>0.169279</td>\n",
       "      <td>0.127732</td>\n",
       "      <td>...</td>\n",
       "      <td>0.070209</td>\n",
       "      <td>0.122500</td>\n",
       "      <td>0.022441</td>\n",
       "      <td>0.065780</td>\n",
       "      <td>0.045615</td>\n",
       "      <td>0.103477</td>\n",
       "      <td>-0.011249</td>\n",
       "      <td>0.016509</td>\n",
       "      <td>-0.001731</td>\n",
       "      <td>0.353493</td>\n",
       "    </tr>\n",
       "    <tr>\n",
       "      <th>LotArea</th>\n",
       "      <td>-0.005297</td>\n",
       "      <td>-0.280195</td>\n",
       "      <td>0.376192</td>\n",
       "      <td>1.000000</td>\n",
       "      <td>0.165399</td>\n",
       "      <td>-0.020940</td>\n",
       "      <td>0.036456</td>\n",
       "      <td>0.028784</td>\n",
       "      <td>0.137479</td>\n",
       "      <td>0.213703</td>\n",
       "      <td>...</td>\n",
       "      <td>0.226229</td>\n",
       "      <td>0.149837</td>\n",
       "      <td>-0.002634</td>\n",
       "      <td>0.047490</td>\n",
       "      <td>0.102474</td>\n",
       "      <td>0.070882</td>\n",
       "      <td>0.031028</td>\n",
       "      <td>0.006538</td>\n",
       "      <td>-0.033511</td>\n",
       "      <td>0.367533</td>\n",
       "    </tr>\n",
       "    <tr>\n",
       "      <th>OverallQual</th>\n",
       "      <td>-0.031448</td>\n",
       "      <td>0.035629</td>\n",
       "      <td>0.230866</td>\n",
       "      <td>0.165399</td>\n",
       "      <td>1.000000</td>\n",
       "      <td>-0.091215</td>\n",
       "      <td>0.572412</td>\n",
       "      <td>0.550616</td>\n",
       "      <td>0.408541</td>\n",
       "      <td>0.229032</td>\n",
       "      <td>...</td>\n",
       "      <td>0.242414</td>\n",
       "      <td>0.304612</td>\n",
       "      <td>-0.113385</td>\n",
       "      <td>0.030789</td>\n",
       "      <td>0.065846</td>\n",
       "      <td>0.044590</td>\n",
       "      <td>-0.030487</td>\n",
       "      <td>0.074726</td>\n",
       "      <td>-0.027865</td>\n",
       "      <td>0.795392</td>\n",
       "    </tr>\n",
       "    <tr>\n",
       "      <th>OverallCond</th>\n",
       "      <td>0.013581</td>\n",
       "      <td>-0.060162</td>\n",
       "      <td>-0.066794</td>\n",
       "      <td>-0.020940</td>\n",
       "      <td>-0.091215</td>\n",
       "      <td>1.000000</td>\n",
       "      <td>-0.375650</td>\n",
       "      <td>0.072758</td>\n",
       "      <td>-0.128734</td>\n",
       "      <td>-0.044121</td>\n",
       "      <td>...</td>\n",
       "      <td>-0.002366</td>\n",
       "      <td>-0.031616</td>\n",
       "      <td>0.070822</td>\n",
       "      <td>0.025653</td>\n",
       "      <td>0.055157</td>\n",
       "      <td>0.002431</td>\n",
       "      <td>0.067765</td>\n",
       "      <td>-0.005892</td>\n",
       "      <td>0.044567</td>\n",
       "      <td>-0.078848</td>\n",
       "    </tr>\n",
       "    <tr>\n",
       "      <th>YearBuilt</th>\n",
       "      <td>-0.014365</td>\n",
       "      <td>0.027971</td>\n",
       "      <td>0.111703</td>\n",
       "      <td>0.036456</td>\n",
       "      <td>0.572412</td>\n",
       "      <td>-0.375650</td>\n",
       "      <td>1.000000</td>\n",
       "      <td>0.593842</td>\n",
       "      <td>0.315359</td>\n",
       "      <td>0.253235</td>\n",
       "      <td>...</td>\n",
       "      <td>0.226629</td>\n",
       "      <td>0.186586</td>\n",
       "      <td>-0.387628</td>\n",
       "      <td>0.031374</td>\n",
       "      <td>-0.050409</td>\n",
       "      <td>-0.005275</td>\n",
       "      <td>-0.033933</td>\n",
       "      <td>0.014562</td>\n",
       "      <td>-0.013756</td>\n",
       "      <td>0.526415</td>\n",
       "    </tr>\n",
       "    <tr>\n",
       "      <th>YearRemodAdd</th>\n",
       "      <td>-0.023918</td>\n",
       "      <td>0.043548</td>\n",
       "      <td>0.081022</td>\n",
       "      <td>0.028784</td>\n",
       "      <td>0.550616</td>\n",
       "      <td>0.072758</td>\n",
       "      <td>0.593842</td>\n",
       "      <td>1.000000</td>\n",
       "      <td>0.175769</td>\n",
       "      <td>0.127142</td>\n",
       "      <td>...</td>\n",
       "      <td>0.209821</td>\n",
       "      <td>0.224161</td>\n",
       "      <td>-0.193845</td>\n",
       "      <td>0.045551</td>\n",
       "      <td>-0.038430</td>\n",
       "      <td>-0.003435</td>\n",
       "      <td>-0.009967</td>\n",
       "      <td>0.022314</td>\n",
       "      <td>0.037091</td>\n",
       "      <td>0.509964</td>\n",
       "    </tr>\n",
       "    <tr>\n",
       "      <th>MasVnrArea</th>\n",
       "      <td>-0.053263</td>\n",
       "      <td>0.024635</td>\n",
       "      <td>0.169279</td>\n",
       "      <td>0.137479</td>\n",
       "      <td>0.408541</td>\n",
       "      <td>-0.128734</td>\n",
       "      <td>0.315359</td>\n",
       "      <td>0.175769</td>\n",
       "      <td>1.000000</td>\n",
       "      <td>0.247588</td>\n",
       "      <td>...</td>\n",
       "      <td>0.160107</td>\n",
       "      <td>0.115442</td>\n",
       "      <td>-0.109685</td>\n",
       "      <td>0.019385</td>\n",
       "      <td>0.062978</td>\n",
       "      <td>-0.020611</td>\n",
       "      <td>-0.030597</td>\n",
       "      <td>0.000390</td>\n",
       "      <td>-0.006722</td>\n",
       "      <td>0.481935</td>\n",
       "    </tr>\n",
       "    <tr>\n",
       "      <th>BsmtFinSF1</th>\n",
       "      <td>-0.013410</td>\n",
       "      <td>-0.076166</td>\n",
       "      <td>0.127732</td>\n",
       "      <td>0.213703</td>\n",
       "      <td>0.229032</td>\n",
       "      <td>-0.044121</td>\n",
       "      <td>0.253235</td>\n",
       "      <td>0.127142</td>\n",
       "      <td>0.247588</td>\n",
       "      <td>1.000000</td>\n",
       "      <td>...</td>\n",
       "      <td>0.201528</td>\n",
       "      <td>0.088978</td>\n",
       "      <td>-0.103154</td>\n",
       "      <td>0.029256</td>\n",
       "      <td>0.068575</td>\n",
       "      <td>0.052933</td>\n",
       "      <td>0.002624</td>\n",
       "      <td>-0.000760</td>\n",
       "      <td>0.013675</td>\n",
       "      <td>0.403791</td>\n",
       "    </tr>\n",
       "    <tr>\n",
       "      <th>BsmtFinSF2</th>\n",
       "      <td>-0.002215</td>\n",
       "      <td>-0.065293</td>\n",
       "      <td>0.029705</td>\n",
       "      <td>0.080336</td>\n",
       "      <td>-0.060827</td>\n",
       "      <td>0.042472</td>\n",
       "      <td>-0.048687</td>\n",
       "      <td>-0.064043</td>\n",
       "      <td>-0.069962</td>\n",
       "      <td>-0.057168</td>\n",
       "      <td>...</td>\n",
       "      <td>0.070003</td>\n",
       "      <td>0.006542</td>\n",
       "      <td>0.037917</td>\n",
       "      <td>-0.029897</td>\n",
       "      <td>0.090415</td>\n",
       "      <td>0.046943</td>\n",
       "      <td>0.004833</td>\n",
       "      <td>-0.015342</td>\n",
       "      <td>0.028779</td>\n",
       "      <td>-0.019264</td>\n",
       "    </tr>\n",
       "    <tr>\n",
       "      <th>BsmtUnfSF</th>\n",
       "      <td>-0.008564</td>\n",
       "      <td>-0.140598</td>\n",
       "      <td>0.165287</td>\n",
       "      <td>0.044457</td>\n",
       "      <td>0.310528</td>\n",
       "      <td>-0.137062</td>\n",
       "      <td>0.149086</td>\n",
       "      <td>0.181058</td>\n",
       "      <td>0.114569</td>\n",
       "      <td>-0.516566</td>\n",
       "      <td>...</td>\n",
       "      <td>-0.002202</td>\n",
       "      <td>0.128748</td>\n",
       "      <td>-0.003339</td>\n",
       "      <td>0.020531</td>\n",
       "      <td>-0.013196</td>\n",
       "      <td>-0.035134</td>\n",
       "      <td>-0.023341</td>\n",
       "      <td>0.036170</td>\n",
       "      <td>-0.040411</td>\n",
       "      <td>0.218287</td>\n",
       "    </tr>\n",
       "    <tr>\n",
       "      <th>TotalBsmtSF</th>\n",
       "      <td>-0.023888</td>\n",
       "      <td>-0.253348</td>\n",
       "      <td>0.319530</td>\n",
       "      <td>0.300476</td>\n",
       "      <td>0.544115</td>\n",
       "      <td>-0.174842</td>\n",
       "      <td>0.402934</td>\n",
       "      <td>0.299614</td>\n",
       "      <td>0.352397</td>\n",
       "      <td>0.471994</td>\n",
       "      <td>...</td>\n",
       "      <td>0.234396</td>\n",
       "      <td>0.231567</td>\n",
       "      <td>-0.096383</td>\n",
       "      <td>0.040731</td>\n",
       "      <td>0.092151</td>\n",
       "      <td>0.035923</td>\n",
       "      <td>-0.020141</td>\n",
       "      <td>0.031637</td>\n",
       "      <td>-0.017521</td>\n",
       "      <td>0.644319</td>\n",
       "    </tr>\n",
       "    <tr>\n",
       "      <th>1stFlrSF</th>\n",
       "      <td>0.004369</td>\n",
       "      <td>-0.260978</td>\n",
       "      <td>0.356781</td>\n",
       "      <td>0.377466</td>\n",
       "      <td>0.474333</td>\n",
       "      <td>-0.147890</td>\n",
       "      <td>0.285739</td>\n",
       "      <td>0.241219</td>\n",
       "      <td>0.334058</td>\n",
       "      <td>0.400866</td>\n",
       "      <td>...</td>\n",
       "      <td>0.236220</td>\n",
       "      <td>0.198768</td>\n",
       "      <td>-0.063200</td>\n",
       "      <td>0.059551</td>\n",
       "      <td>0.095288</td>\n",
       "      <td>0.062655</td>\n",
       "      <td>-0.022510</td>\n",
       "      <td>0.042354</td>\n",
       "      <td>-0.015713</td>\n",
       "      <td>0.623304</td>\n",
       "    </tr>\n",
       "    <tr>\n",
       "      <th>2ndFlrSF</th>\n",
       "      <td>0.004391</td>\n",
       "      <td>0.309156</td>\n",
       "      <td>0.075075</td>\n",
       "      <td>0.109990</td>\n",
       "      <td>0.295171</td>\n",
       "      <td>0.029053</td>\n",
       "      <td>0.009040</td>\n",
       "      <td>0.139143</td>\n",
       "      <td>0.171298</td>\n",
       "      <td>-0.153589</td>\n",
       "      <td>...</td>\n",
       "      <td>0.094490</td>\n",
       "      <td>0.204570</td>\n",
       "      <td>0.061953</td>\n",
       "      <td>-0.024446</td>\n",
       "      <td>0.040564</td>\n",
       "      <td>0.073931</td>\n",
       "      <td>0.016041</td>\n",
       "      <td>0.038239</td>\n",
       "      <td>-0.028285</td>\n",
       "      <td>0.323377</td>\n",
       "    </tr>\n",
       "    <tr>\n",
       "      <th>LowQualFinSF</th>\n",
       "      <td>-0.044417</td>\n",
       "      <td>0.046707</td>\n",
       "      <td>0.048671</td>\n",
       "      <td>0.019137</td>\n",
       "      <td>-0.030209</td>\n",
       "      <td>0.025647</td>\n",
       "      <td>-0.183911</td>\n",
       "      <td>-0.062374</td>\n",
       "      <td>-0.069131</td>\n",
       "      <td>-0.066340</td>\n",
       "      <td>...</td>\n",
       "      <td>-0.025235</td>\n",
       "      <td>0.018550</td>\n",
       "      <td>0.060921</td>\n",
       "      <td>-0.004354</td>\n",
       "      <td>0.026670</td>\n",
       "      <td>0.066409</td>\n",
       "      <td>-0.003640</td>\n",
       "      <td>-0.022228</td>\n",
       "      <td>-0.028931</td>\n",
       "      <td>-0.025180</td>\n",
       "    </tr>\n",
       "    <tr>\n",
       "      <th>GrLivArea</th>\n",
       "      <td>0.002696</td>\n",
       "      <td>0.077130</td>\n",
       "      <td>0.327673</td>\n",
       "      <td>0.369548</td>\n",
       "      <td>0.592467</td>\n",
       "      <td>-0.080411</td>\n",
       "      <td>0.197959</td>\n",
       "      <td>0.287538</td>\n",
       "      <td>0.380432</td>\n",
       "      <td>0.154738</td>\n",
       "      <td>...</td>\n",
       "      <td>0.249519</td>\n",
       "      <td>0.319877</td>\n",
       "      <td>0.012415</td>\n",
       "      <td>0.022125</td>\n",
       "      <td>0.106220</td>\n",
       "      <td>0.114583</td>\n",
       "      <td>-0.003091</td>\n",
       "      <td>0.061139</td>\n",
       "      <td>-0.038169</td>\n",
       "      <td>0.725170</td>\n",
       "    </tr>\n",
       "    <tr>\n",
       "      <th>BsmtFullBath</th>\n",
       "      <td>0.002557</td>\n",
       "      <td>-0.000164</td>\n",
       "      <td>0.046231</td>\n",
       "      <td>0.131621</td>\n",
       "      <td>0.105963</td>\n",
       "      <td>-0.054104</td>\n",
       "      <td>0.188094</td>\n",
       "      <td>0.121804</td>\n",
       "      <td>0.081690</td>\n",
       "      <td>0.655961</td>\n",
       "      <td>...</td>\n",
       "      <td>0.167151</td>\n",
       "      <td>0.064544</td>\n",
       "      <td>-0.047836</td>\n",
       "      <td>0.000742</td>\n",
       "      <td>0.025373</td>\n",
       "      <td>0.045948</td>\n",
       "      <td>-0.025083</td>\n",
       "      <td>-0.023913</td>\n",
       "      <td>0.065363</td>\n",
       "      <td>0.223432</td>\n",
       "    </tr>\n",
       "    <tr>\n",
       "      <th>BsmtHalfBath</th>\n",
       "      <td>-0.017218</td>\n",
       "      <td>-0.001810</td>\n",
       "      <td>-0.007242</td>\n",
       "      <td>0.030507</td>\n",
       "      <td>-0.039654</td>\n",
       "      <td>0.115168</td>\n",
       "      <td>-0.037131</td>\n",
       "      <td>-0.015041</td>\n",
       "      <td>0.022010</td>\n",
       "      <td>0.072563</td>\n",
       "      <td>...</td>\n",
       "      <td>0.043908</td>\n",
       "      <td>-0.027455</td>\n",
       "      <td>-0.007923</td>\n",
       "      <td>0.035528</td>\n",
       "      <td>0.032815</td>\n",
       "      <td>0.023394</td>\n",
       "      <td>-0.009760</td>\n",
       "      <td>0.033485</td>\n",
       "      <td>-0.045018</td>\n",
       "      <td>-0.019464</td>\n",
       "    </tr>\n",
       "    <tr>\n",
       "      <th>FullBath</th>\n",
       "      <td>0.006305</td>\n",
       "      <td>0.132093</td>\n",
       "      <td>0.182640</td>\n",
       "      <td>0.163198</td>\n",
       "      <td>0.551052</td>\n",
       "      <td>-0.195440</td>\n",
       "      <td>0.469191</td>\n",
       "      <td>0.439362</td>\n",
       "      <td>0.276231</td>\n",
       "      <td>0.051847</td>\n",
       "      <td>...</td>\n",
       "      <td>0.186774</td>\n",
       "      <td>0.260429</td>\n",
       "      <td>-0.114099</td>\n",
       "      <td>0.035779</td>\n",
       "      <td>-0.007236</td>\n",
       "      <td>0.045658</td>\n",
       "      <td>-0.015352</td>\n",
       "      <td>0.056071</td>\n",
       "      <td>-0.019748</td>\n",
       "      <td>0.560045</td>\n",
       "    </tr>\n",
       "    <tr>\n",
       "      <th>HalfBath</th>\n",
       "      <td>0.004288</td>\n",
       "      <td>0.178502</td>\n",
       "      <td>0.039343</td>\n",
       "      <td>0.078490</td>\n",
       "      <td>0.272995</td>\n",
       "      <td>-0.059513</td>\n",
       "      <td>0.241510</td>\n",
       "      <td>0.183568</td>\n",
       "      <td>0.200894</td>\n",
       "      <td>-0.002447</td>\n",
       "      <td>...</td>\n",
       "      <td>0.110965</td>\n",
       "      <td>0.197309</td>\n",
       "      <td>-0.096125</td>\n",
       "      <td>-0.005187</td>\n",
       "      <td>0.072066</td>\n",
       "      <td>0.012883</td>\n",
       "      <td>0.002405</td>\n",
       "      <td>-0.006379</td>\n",
       "      <td>-0.010438</td>\n",
       "      <td>0.289264</td>\n",
       "    </tr>\n",
       "    <tr>\n",
       "      <th>BedroomAbvGr</th>\n",
       "      <td>0.038503</td>\n",
       "      <td>-0.023490</td>\n",
       "      <td>0.242682</td>\n",
       "      <td>0.196216</td>\n",
       "      <td>0.101816</td>\n",
       "      <td>0.010270</td>\n",
       "      <td>-0.070141</td>\n",
       "      <td>-0.042044</td>\n",
       "      <td>0.103066</td>\n",
       "      <td>-0.114079</td>\n",
       "      <td>...</td>\n",
       "      <td>0.049986</td>\n",
       "      <td>0.094171</td>\n",
       "      <td>0.042201</td>\n",
       "      <td>-0.024344</td>\n",
       "      <td>0.044795</td>\n",
       "      <td>0.073208</td>\n",
       "      <td>0.006797</td>\n",
       "      <td>0.045279</td>\n",
       "      <td>-0.036222</td>\n",
       "      <td>0.168034</td>\n",
       "    </tr>\n",
       "    <tr>\n",
       "      <th>KitchenAbvGr</th>\n",
       "      <td>0.002769</td>\n",
       "      <td>0.282998</td>\n",
       "      <td>0.006950</td>\n",
       "      <td>-0.014372</td>\n",
       "      <td>-0.183954</td>\n",
       "      <td>-0.086933</td>\n",
       "      <td>-0.174933</td>\n",
       "      <td>-0.149610</td>\n",
       "      <td>-0.037090</td>\n",
       "      <td>-0.082571</td>\n",
       "      <td>...</td>\n",
       "      <td>-0.090227</td>\n",
       "      <td>-0.070131</td>\n",
       "      <td>0.037012</td>\n",
       "      <td>-0.024705</td>\n",
       "      <td>-0.051862</td>\n",
       "      <td>-0.013519</td>\n",
       "      <td>0.062678</td>\n",
       "      <td>0.026662</td>\n",
       "      <td>0.031719</td>\n",
       "      <td>-0.135508</td>\n",
       "    </tr>\n",
       "    <tr>\n",
       "      <th>TotRmsAbvGrd</th>\n",
       "      <td>0.024798</td>\n",
       "      <td>0.040893</td>\n",
       "      <td>0.309954</td>\n",
       "      <td>0.301272</td>\n",
       "      <td>0.424131</td>\n",
       "      <td>-0.058475</td>\n",
       "      <td>0.093989</td>\n",
       "      <td>0.190554</td>\n",
       "      <td>0.276876</td>\n",
       "      <td>0.018487</td>\n",
       "      <td>...</td>\n",
       "      <td>0.168266</td>\n",
       "      <td>0.229269</td>\n",
       "      <td>0.005535</td>\n",
       "      <td>-0.006279</td>\n",
       "      <td>0.060735</td>\n",
       "      <td>0.059630</td>\n",
       "      <td>0.024750</td>\n",
       "      <td>0.039856</td>\n",
       "      <td>-0.036049</td>\n",
       "      <td>0.537457</td>\n",
       "    </tr>\n",
       "    <tr>\n",
       "      <th>Fireplaces</th>\n",
       "      <td>-0.019034</td>\n",
       "      <td>-0.047966</td>\n",
       "      <td>0.192000</td>\n",
       "      <td>0.308362</td>\n",
       "      <td>0.394440</td>\n",
       "      <td>-0.024277</td>\n",
       "      <td>0.147817</td>\n",
       "      <td>0.110863</td>\n",
       "      <td>0.240663</td>\n",
       "      <td>0.236632</td>\n",
       "      <td>...</td>\n",
       "      <td>0.194050</td>\n",
       "      <td>0.163915</td>\n",
       "      <td>-0.021883</td>\n",
       "      <td>0.012431</td>\n",
       "      <td>0.189089</td>\n",
       "      <td>0.069484</td>\n",
       "      <td>-0.001411</td>\n",
       "      <td>0.050952</td>\n",
       "      <td>-0.024503</td>\n",
       "      <td>0.465674</td>\n",
       "    </tr>\n",
       "    <tr>\n",
       "      <th>GarageYrBlt</th>\n",
       "      <td>-0.002311</td>\n",
       "      <td>0.085686</td>\n",
       "      <td>0.070195</td>\n",
       "      <td>-0.006597</td>\n",
       "      <td>0.548228</td>\n",
       "      <td>-0.323419</td>\n",
       "      <td>0.825474</td>\n",
       "      <td>0.644078</td>\n",
       "      <td>0.252321</td>\n",
       "      <td>0.153711</td>\n",
       "      <td>...</td>\n",
       "      <td>0.227485</td>\n",
       "      <td>0.226290</td>\n",
       "      <td>-0.297898</td>\n",
       "      <td>0.023417</td>\n",
       "      <td>-0.075885</td>\n",
       "      <td>-0.025967</td>\n",
       "      <td>-0.031439</td>\n",
       "      <td>0.008118</td>\n",
       "      <td>-0.001154</td>\n",
       "      <td>0.491654</td>\n",
       "    </tr>\n",
       "    <tr>\n",
       "      <th>GarageCars</th>\n",
       "      <td>0.016879</td>\n",
       "      <td>-0.040382</td>\n",
       "      <td>0.285155</td>\n",
       "      <td>0.257165</td>\n",
       "      <td>0.601994</td>\n",
       "      <td>-0.186363</td>\n",
       "      <td>0.538312</td>\n",
       "      <td>0.421118</td>\n",
       "      <td>0.365819</td>\n",
       "      <td>0.231789</td>\n",
       "      <td>...</td>\n",
       "      <td>0.227458</td>\n",
       "      <td>0.214264</td>\n",
       "      <td>-0.151042</td>\n",
       "      <td>0.035923</td>\n",
       "      <td>0.050859</td>\n",
       "      <td>0.019427</td>\n",
       "      <td>-0.043534</td>\n",
       "      <td>0.040626</td>\n",
       "      <td>-0.039163</td>\n",
       "      <td>0.641570</td>\n",
       "    </tr>\n",
       "    <tr>\n",
       "      <th>GarageArea</th>\n",
       "      <td>0.013663</td>\n",
       "      <td>-0.099707</td>\n",
       "      <td>0.314115</td>\n",
       "      <td>0.283576</td>\n",
       "      <td>0.558876</td>\n",
       "      <td>-0.150632</td>\n",
       "      <td>0.479095</td>\n",
       "      <td>0.371444</td>\n",
       "      <td>0.366456</td>\n",
       "      <td>0.276007</td>\n",
       "      <td>...</td>\n",
       "      <td>0.222801</td>\n",
       "      <td>0.233669</td>\n",
       "      <td>-0.121250</td>\n",
       "      <td>0.035821</td>\n",
       "      <td>0.052900</td>\n",
       "      <td>0.026605</td>\n",
       "      <td>-0.027259</td>\n",
       "      <td>0.034068</td>\n",
       "      <td>-0.027813</td>\n",
       "      <td>0.629689</td>\n",
       "    </tr>\n",
       "    <tr>\n",
       "      <th>WoodDeckSF</th>\n",
       "      <td>-0.028673</td>\n",
       "      <td>-0.022473</td>\n",
       "      <td>0.070209</td>\n",
       "      <td>0.226229</td>\n",
       "      <td>0.242414</td>\n",
       "      <td>-0.002366</td>\n",
       "      <td>0.226629</td>\n",
       "      <td>0.209821</td>\n",
       "      <td>0.160107</td>\n",
       "      <td>0.201528</td>\n",
       "      <td>...</td>\n",
       "      <td>1.000000</td>\n",
       "      <td>0.058994</td>\n",
       "      <td>-0.125899</td>\n",
       "      <td>-0.032651</td>\n",
       "      <td>-0.073893</td>\n",
       "      <td>0.069918</td>\n",
       "      <td>-0.013289</td>\n",
       "      <td>0.021569</td>\n",
       "      <td>0.023160</td>\n",
       "      <td>0.327023</td>\n",
       "    </tr>\n",
       "    <tr>\n",
       "      <th>OpenPorchSF</th>\n",
       "      <td>-0.004015</td>\n",
       "      <td>-0.005565</td>\n",
       "      <td>0.122500</td>\n",
       "      <td>0.149837</td>\n",
       "      <td>0.304612</td>\n",
       "      <td>-0.031616</td>\n",
       "      <td>0.186586</td>\n",
       "      <td>0.224161</td>\n",
       "      <td>0.115442</td>\n",
       "      <td>0.088978</td>\n",
       "      <td>...</td>\n",
       "      <td>0.058994</td>\n",
       "      <td>1.000000</td>\n",
       "      <td>-0.093019</td>\n",
       "      <td>-0.005683</td>\n",
       "      <td>0.075167</td>\n",
       "      <td>0.032310</td>\n",
       "      <td>-0.018413</td>\n",
       "      <td>0.078011</td>\n",
       "      <td>-0.057416</td>\n",
       "      <td>0.320621</td>\n",
       "    </tr>\n",
       "    <tr>\n",
       "      <th>EnclosedPorch</th>\n",
       "      <td>0.002577</td>\n",
       "      <td>-0.011981</td>\n",
       "      <td>0.022441</td>\n",
       "      <td>-0.002634</td>\n",
       "      <td>-0.113385</td>\n",
       "      <td>0.070822</td>\n",
       "      <td>-0.387628</td>\n",
       "      <td>-0.193845</td>\n",
       "      <td>-0.109685</td>\n",
       "      <td>-0.103154</td>\n",
       "      <td>...</td>\n",
       "      <td>-0.125899</td>\n",
       "      <td>-0.093019</td>\n",
       "      <td>1.000000</td>\n",
       "      <td>-0.037489</td>\n",
       "      <td>-0.083300</td>\n",
       "      <td>0.060049</td>\n",
       "      <td>0.018851</td>\n",
       "      <td>-0.028961</td>\n",
       "      <td>-0.009904</td>\n",
       "      <td>-0.127531</td>\n",
       "    </tr>\n",
       "    <tr>\n",
       "      <th>3SsnPorch</th>\n",
       "      <td>-0.046823</td>\n",
       "      <td>-0.043975</td>\n",
       "      <td>0.065780</td>\n",
       "      <td>0.047490</td>\n",
       "      <td>0.030789</td>\n",
       "      <td>0.025653</td>\n",
       "      <td>0.031374</td>\n",
       "      <td>0.045551</td>\n",
       "      <td>0.019385</td>\n",
       "      <td>0.029256</td>\n",
       "      <td>...</td>\n",
       "      <td>-0.032651</td>\n",
       "      <td>-0.005683</td>\n",
       "      <td>-0.037489</td>\n",
       "      <td>1.000000</td>\n",
       "      <td>-0.031571</td>\n",
       "      <td>-0.007438</td>\n",
       "      <td>0.000506</td>\n",
       "      <td>0.029551</td>\n",
       "      <td>0.018662</td>\n",
       "      <td>0.045256</td>\n",
       "    </tr>\n",
       "    <tr>\n",
       "      <th>ScreenPorch</th>\n",
       "      <td>0.001093</td>\n",
       "      <td>-0.026062</td>\n",
       "      <td>0.045615</td>\n",
       "      <td>0.102474</td>\n",
       "      <td>0.065846</td>\n",
       "      <td>0.055157</td>\n",
       "      <td>-0.050409</td>\n",
       "      <td>-0.038430</td>\n",
       "      <td>0.062978</td>\n",
       "      <td>0.068575</td>\n",
       "      <td>...</td>\n",
       "      <td>-0.073893</td>\n",
       "      <td>0.075167</td>\n",
       "      <td>-0.083300</td>\n",
       "      <td>-0.031571</td>\n",
       "      <td>1.000000</td>\n",
       "      <td>0.056251</td>\n",
       "      <td>0.032332</td>\n",
       "      <td>0.023283</td>\n",
       "      <td>0.010716</td>\n",
       "      <td>0.113052</td>\n",
       "    </tr>\n",
       "    <tr>\n",
       "      <th>PoolArea</th>\n",
       "      <td>0.048435</td>\n",
       "      <td>0.008137</td>\n",
       "      <td>0.103477</td>\n",
       "      <td>0.070882</td>\n",
       "      <td>0.044590</td>\n",
       "      <td>0.002431</td>\n",
       "      <td>-0.005275</td>\n",
       "      <td>-0.003435</td>\n",
       "      <td>-0.020611</td>\n",
       "      <td>0.052933</td>\n",
       "      <td>...</td>\n",
       "      <td>0.069918</td>\n",
       "      <td>0.032310</td>\n",
       "      <td>0.060049</td>\n",
       "      <td>-0.007438</td>\n",
       "      <td>0.056251</td>\n",
       "      <td>1.000000</td>\n",
       "      <td>0.032085</td>\n",
       "      <td>-0.018583</td>\n",
       "      <td>-0.064033</td>\n",
       "      <td>0.100144</td>\n",
       "    </tr>\n",
       "    <tr>\n",
       "      <th>MiscVal</th>\n",
       "      <td>-0.004639</td>\n",
       "      <td>-0.010642</td>\n",
       "      <td>-0.011249</td>\n",
       "      <td>0.031028</td>\n",
       "      <td>-0.030487</td>\n",
       "      <td>0.067765</td>\n",
       "      <td>-0.033933</td>\n",
       "      <td>-0.009967</td>\n",
       "      <td>-0.030597</td>\n",
       "      <td>0.002624</td>\n",
       "      <td>...</td>\n",
       "      <td>-0.013289</td>\n",
       "      <td>-0.018413</td>\n",
       "      <td>0.018851</td>\n",
       "      <td>0.000506</td>\n",
       "      <td>0.032332</td>\n",
       "      <td>0.032085</td>\n",
       "      <td>1.000000</td>\n",
       "      <td>-0.007035</td>\n",
       "      <td>0.005209</td>\n",
       "      <td>-0.022341</td>\n",
       "    </tr>\n",
       "    <tr>\n",
       "      <th>MoSold</th>\n",
       "      <td>0.022733</td>\n",
       "      <td>-0.014039</td>\n",
       "      <td>0.016509</td>\n",
       "      <td>0.006538</td>\n",
       "      <td>0.074726</td>\n",
       "      <td>-0.005892</td>\n",
       "      <td>0.014562</td>\n",
       "      <td>0.022314</td>\n",
       "      <td>0.000390</td>\n",
       "      <td>-0.000760</td>\n",
       "      <td>...</td>\n",
       "      <td>0.021569</td>\n",
       "      <td>0.078011</td>\n",
       "      <td>-0.028961</td>\n",
       "      <td>0.029551</td>\n",
       "      <td>0.023283</td>\n",
       "      <td>-0.018583</td>\n",
       "      <td>-0.007035</td>\n",
       "      <td>1.000000</td>\n",
       "      <td>-0.146232</td>\n",
       "      <td>0.045613</td>\n",
       "    </tr>\n",
       "    <tr>\n",
       "      <th>YrSold</th>\n",
       "      <td>0.000729</td>\n",
       "      <td>-0.021636</td>\n",
       "      <td>-0.001731</td>\n",
       "      <td>-0.033511</td>\n",
       "      <td>-0.027865</td>\n",
       "      <td>0.044567</td>\n",
       "      <td>-0.013756</td>\n",
       "      <td>0.037091</td>\n",
       "      <td>-0.006722</td>\n",
       "      <td>0.013675</td>\n",
       "      <td>...</td>\n",
       "      <td>0.023160</td>\n",
       "      <td>-0.057416</td>\n",
       "      <td>-0.009904</td>\n",
       "      <td>0.018662</td>\n",
       "      <td>0.010716</td>\n",
       "      <td>-0.064033</td>\n",
       "      <td>0.005209</td>\n",
       "      <td>-0.146232</td>\n",
       "      <td>1.000000</td>\n",
       "      <td>-0.029496</td>\n",
       "    </tr>\n",
       "    <tr>\n",
       "      <th>SalePrice</th>\n",
       "      <td>-0.018985</td>\n",
       "      <td>-0.083266</td>\n",
       "      <td>0.353493</td>\n",
       "      <td>0.367533</td>\n",
       "      <td>0.795392</td>\n",
       "      <td>-0.078848</td>\n",
       "      <td>0.526415</td>\n",
       "      <td>0.509964</td>\n",
       "      <td>0.481935</td>\n",
       "      <td>0.403791</td>\n",
       "      <td>...</td>\n",
       "      <td>0.327023</td>\n",
       "      <td>0.320621</td>\n",
       "      <td>-0.127531</td>\n",
       "      <td>0.045256</td>\n",
       "      <td>0.113052</td>\n",
       "      <td>0.100144</td>\n",
       "      <td>-0.022341</td>\n",
       "      <td>0.045613</td>\n",
       "      <td>-0.029496</td>\n",
       "      <td>1.000000</td>\n",
       "    </tr>\n",
       "  </tbody>\n",
       "</table>\n",
       "<p>38 rows × 38 columns</p>\n",
       "</div>"
      ],
      "text/plain": [
       "                     Id  MSSubClass  LotFrontage   LotArea  OverallQual  \\\n",
       "Id             1.000000    0.012722    -0.026789 -0.005297    -0.031448   \n",
       "MSSubClass     0.012722    1.000000    -0.376124 -0.280195     0.035629   \n",
       "LotFrontage   -0.026789   -0.376124     1.000000  0.376192     0.230866   \n",
       "LotArea       -0.005297   -0.280195     0.376192  1.000000     0.165399   \n",
       "OverallQual   -0.031448    0.035629     0.230866  0.165399     1.000000   \n",
       "OverallCond    0.013581   -0.060162    -0.066794 -0.020940    -0.091215   \n",
       "YearBuilt     -0.014365    0.027971     0.111703  0.036456     0.572412   \n",
       "YearRemodAdd  -0.023918    0.043548     0.081022  0.028784     0.550616   \n",
       "MasVnrArea    -0.053263    0.024635     0.169279  0.137479     0.408541   \n",
       "BsmtFinSF1    -0.013410   -0.076166     0.127732  0.213703     0.229032   \n",
       "BsmtFinSF2    -0.002215   -0.065293     0.029705  0.080336    -0.060827   \n",
       "BsmtUnfSF     -0.008564   -0.140598     0.165287  0.044457     0.310528   \n",
       "TotalBsmtSF   -0.023888   -0.253348     0.319530  0.300476     0.544115   \n",
       "1stFlrSF       0.004369   -0.260978     0.356781  0.377466     0.474333   \n",
       "2ndFlrSF       0.004391    0.309156     0.075075  0.109990     0.295171   \n",
       "LowQualFinSF  -0.044417    0.046707     0.048671  0.019137    -0.030209   \n",
       "GrLivArea      0.002696    0.077130     0.327673  0.369548     0.592467   \n",
       "BsmtFullBath   0.002557   -0.000164     0.046231  0.131621     0.105963   \n",
       "BsmtHalfBath  -0.017218   -0.001810    -0.007242  0.030507    -0.039654   \n",
       "FullBath       0.006305    0.132093     0.182640  0.163198     0.551052   \n",
       "HalfBath       0.004288    0.178502     0.039343  0.078490     0.272995   \n",
       "BedroomAbvGr   0.038503   -0.023490     0.242682  0.196216     0.101816   \n",
       "KitchenAbvGr   0.002769    0.282998     0.006950 -0.014372    -0.183954   \n",
       "TotRmsAbvGrd   0.024798    0.040893     0.309954  0.301272     0.424131   \n",
       "Fireplaces    -0.019034   -0.047966     0.192000  0.308362     0.394440   \n",
       "GarageYrBlt   -0.002311    0.085686     0.070195 -0.006597     0.548228   \n",
       "GarageCars     0.016879   -0.040382     0.285155  0.257165     0.601994   \n",
       "GarageArea     0.013663   -0.099707     0.314115  0.283576     0.558876   \n",
       "WoodDeckSF    -0.028673   -0.022473     0.070209  0.226229     0.242414   \n",
       "OpenPorchSF   -0.004015   -0.005565     0.122500  0.149837     0.304612   \n",
       "EnclosedPorch  0.002577   -0.011981     0.022441 -0.002634    -0.113385   \n",
       "3SsnPorch     -0.046823   -0.043975     0.065780  0.047490     0.030789   \n",
       "ScreenPorch    0.001093   -0.026062     0.045615  0.102474     0.065846   \n",
       "PoolArea       0.048435    0.008137     0.103477  0.070882     0.044590   \n",
       "MiscVal       -0.004639   -0.010642    -0.011249  0.031028    -0.030487   \n",
       "MoSold         0.022733   -0.014039     0.016509  0.006538     0.074726   \n",
       "YrSold         0.000729   -0.021636    -0.001731 -0.033511    -0.027865   \n",
       "SalePrice     -0.018985   -0.083266     0.353493  0.367533     0.795392   \n",
       "\n",
       "               OverallCond  YearBuilt  YearRemodAdd  MasVnrArea  BsmtFinSF1  \\\n",
       "Id                0.013581  -0.014365     -0.023918   -0.053263   -0.013410   \n",
       "MSSubClass       -0.060162   0.027971      0.043548    0.024635   -0.076166   \n",
       "LotFrontage      -0.066794   0.111703      0.081022    0.169279    0.127732   \n",
       "LotArea          -0.020940   0.036456      0.028784    0.137479    0.213703   \n",
       "OverallQual      -0.091215   0.572412      0.550616    0.408541    0.229032   \n",
       "OverallCond       1.000000  -0.375650      0.072758   -0.128734   -0.044121   \n",
       "YearBuilt        -0.375650   1.000000      0.593842    0.315359    0.253235   \n",
       "YearRemodAdd      0.072758   0.593842      1.000000    0.175769    0.127142   \n",
       "MasVnrArea       -0.128734   0.315359      0.175769    1.000000    0.247588   \n",
       "BsmtFinSF1       -0.044121   0.253235      0.127142    0.247588    1.000000   \n",
       "BsmtFinSF2        0.042472  -0.048687     -0.064043   -0.069962   -0.057168   \n",
       "BsmtUnfSF        -0.137062   0.149086      0.181058    0.114569   -0.516566   \n",
       "TotalBsmtSF      -0.174842   0.402934      0.299614    0.352397    0.471994   \n",
       "1stFlrSF         -0.147890   0.285739      0.241219    0.334058    0.400866   \n",
       "2ndFlrSF          0.029053   0.009040      0.139143    0.171298   -0.153589   \n",
       "LowQualFinSF      0.025647  -0.183911     -0.062374   -0.069131   -0.066340   \n",
       "GrLivArea        -0.080411   0.197959      0.287538    0.380432    0.154738   \n",
       "BsmtFullBath     -0.054104   0.188094      0.121804    0.081690    0.655961   \n",
       "BsmtHalfBath      0.115168  -0.037131     -0.015041    0.022010    0.072563   \n",
       "FullBath         -0.195440   0.469191      0.439362    0.276231    0.051847   \n",
       "HalfBath         -0.059513   0.241510      0.183568    0.200894   -0.002447   \n",
       "BedroomAbvGr      0.010270  -0.070141     -0.042044    0.103066   -0.114079   \n",
       "KitchenAbvGr     -0.086933  -0.174933     -0.149610   -0.037090   -0.082571   \n",
       "TotRmsAbvGrd     -0.058475   0.093989      0.190554    0.276876    0.018487   \n",
       "Fireplaces       -0.024277   0.147817      0.110863    0.240663    0.236632   \n",
       "GarageYrBlt      -0.323419   0.825474      0.644078    0.252321    0.153711   \n",
       "GarageCars       -0.186363   0.538312      0.421118    0.365819    0.231789   \n",
       "GarageArea       -0.150632   0.479095      0.371444    0.366456    0.276007   \n",
       "WoodDeckSF       -0.002366   0.226629      0.209821    0.160107    0.201528   \n",
       "OpenPorchSF      -0.031616   0.186586      0.224161    0.115442    0.088978   \n",
       "EnclosedPorch     0.070822  -0.387628     -0.193845   -0.109685   -0.103154   \n",
       "3SsnPorch         0.025653   0.031374      0.045551    0.019385    0.029256   \n",
       "ScreenPorch       0.055157  -0.050409     -0.038430    0.062978    0.068575   \n",
       "PoolArea          0.002431  -0.005275     -0.003435   -0.020611    0.052933   \n",
       "MiscVal           0.067765  -0.033933     -0.009967   -0.030597    0.002624   \n",
       "MoSold           -0.005892   0.014562      0.022314    0.000390   -0.000760   \n",
       "YrSold            0.044567  -0.013756      0.037091   -0.006722    0.013675   \n",
       "SalePrice        -0.078848   0.526415      0.509964    0.481935    0.403791   \n",
       "\n",
       "               ...  WoodDeckSF  OpenPorchSF  EnclosedPorch  3SsnPorch  \\\n",
       "Id             ...   -0.028673    -0.004015       0.002577  -0.046823   \n",
       "MSSubClass     ...   -0.022473    -0.005565      -0.011981  -0.043975   \n",
       "LotFrontage    ...    0.070209     0.122500       0.022441   0.065780   \n",
       "LotArea        ...    0.226229     0.149837      -0.002634   0.047490   \n",
       "OverallQual    ...    0.242414     0.304612      -0.113385   0.030789   \n",
       "OverallCond    ...   -0.002366    -0.031616       0.070822   0.025653   \n",
       "YearBuilt      ...    0.226629     0.186586      -0.387628   0.031374   \n",
       "YearRemodAdd   ...    0.209821     0.224161      -0.193845   0.045551   \n",
       "MasVnrArea     ...    0.160107     0.115442      -0.109685   0.019385   \n",
       "BsmtFinSF1     ...    0.201528     0.088978      -0.103154   0.029256   \n",
       "BsmtFinSF2     ...    0.070003     0.006542       0.037917  -0.029897   \n",
       "BsmtUnfSF      ...   -0.002202     0.128748      -0.003339   0.020531   \n",
       "TotalBsmtSF    ...    0.234396     0.231567      -0.096383   0.040731   \n",
       "1stFlrSF       ...    0.236220     0.198768      -0.063200   0.059551   \n",
       "2ndFlrSF       ...    0.094490     0.204570       0.061953  -0.024446   \n",
       "LowQualFinSF   ...   -0.025235     0.018550       0.060921  -0.004354   \n",
       "GrLivArea      ...    0.249519     0.319877       0.012415   0.022125   \n",
       "BsmtFullBath   ...    0.167151     0.064544      -0.047836   0.000742   \n",
       "BsmtHalfBath   ...    0.043908    -0.027455      -0.007923   0.035528   \n",
       "FullBath       ...    0.186774     0.260429      -0.114099   0.035779   \n",
       "HalfBath       ...    0.110965     0.197309      -0.096125  -0.005187   \n",
       "BedroomAbvGr   ...    0.049986     0.094171       0.042201  -0.024344   \n",
       "KitchenAbvGr   ...   -0.090227    -0.070131       0.037012  -0.024705   \n",
       "TotRmsAbvGrd   ...    0.168266     0.229269       0.005535  -0.006279   \n",
       "Fireplaces     ...    0.194050     0.163915      -0.021883   0.012431   \n",
       "GarageYrBlt    ...    0.227485     0.226290      -0.297898   0.023417   \n",
       "GarageCars     ...    0.227458     0.214264      -0.151042   0.035923   \n",
       "GarageArea     ...    0.222801     0.233669      -0.121250   0.035821   \n",
       "WoodDeckSF     ...    1.000000     0.058994      -0.125899  -0.032651   \n",
       "OpenPorchSF    ...    0.058994     1.000000      -0.093019  -0.005683   \n",
       "EnclosedPorch  ...   -0.125899    -0.093019       1.000000  -0.037489   \n",
       "3SsnPorch      ...   -0.032651    -0.005683      -0.037489   1.000000   \n",
       "ScreenPorch    ...   -0.073893     0.075167      -0.083300  -0.031571   \n",
       "PoolArea       ...    0.069918     0.032310       0.060049  -0.007438   \n",
       "MiscVal        ...   -0.013289    -0.018413       0.018851   0.000506   \n",
       "MoSold         ...    0.021569     0.078011      -0.028961   0.029551   \n",
       "YrSold         ...    0.023160    -0.057416      -0.009904   0.018662   \n",
       "SalePrice      ...    0.327023     0.320621      -0.127531   0.045256   \n",
       "\n",
       "               ScreenPorch  PoolArea   MiscVal    MoSold    YrSold  SalePrice  \n",
       "Id                0.001093  0.048435 -0.004639  0.022733  0.000729  -0.018985  \n",
       "MSSubClass       -0.026062  0.008137 -0.010642 -0.014039 -0.021636  -0.083266  \n",
       "LotFrontage       0.045615  0.103477 -0.011249  0.016509 -0.001731   0.353493  \n",
       "LotArea           0.102474  0.070882  0.031028  0.006538 -0.033511   0.367533  \n",
       "OverallQual       0.065846  0.044590 -0.030487  0.074726 -0.027865   0.795392  \n",
       "OverallCond       0.055157  0.002431  0.067765 -0.005892  0.044567  -0.078848  \n",
       "YearBuilt        -0.050409 -0.005275 -0.033933  0.014562 -0.013756   0.526415  \n",
       "YearRemodAdd     -0.038430 -0.003435 -0.009967  0.022314  0.037091   0.509964  \n",
       "MasVnrArea        0.062978 -0.020611 -0.030597  0.000390 -0.006722   0.481935  \n",
       "BsmtFinSF1        0.068575  0.052933  0.002624 -0.000760  0.013675   0.403791  \n",
       "BsmtFinSF2        0.090415  0.046943  0.004833 -0.015342  0.028779  -0.019264  \n",
       "BsmtUnfSF        -0.013196 -0.035134 -0.023341  0.036170 -0.040411   0.218287  \n",
       "TotalBsmtSF       0.092151  0.035923 -0.020141  0.031637 -0.017521   0.644319  \n",
       "1stFlrSF          0.095288  0.062655 -0.022510  0.042354 -0.015713   0.623304  \n",
       "2ndFlrSF          0.040564  0.073931  0.016041  0.038239 -0.028285   0.323377  \n",
       "LowQualFinSF      0.026670  0.066409 -0.003640 -0.022228 -0.028931  -0.025180  \n",
       "GrLivArea         0.106220  0.114583 -0.003091  0.061139 -0.038169   0.725170  \n",
       "BsmtFullBath      0.025373  0.045948 -0.025083 -0.023913  0.065363   0.223432  \n",
       "BsmtHalfBath      0.032815  0.023394 -0.009760  0.033485 -0.045018  -0.019464  \n",
       "FullBath         -0.007236  0.045658 -0.015352  0.056071 -0.019748   0.560045  \n",
       "HalfBath          0.072066  0.012883  0.002405 -0.006379 -0.010438   0.289264  \n",
       "BedroomAbvGr      0.044795  0.073208  0.006797  0.045279 -0.036222   0.168034  \n",
       "KitchenAbvGr     -0.051862 -0.013519  0.062678  0.026662  0.031719  -0.135508  \n",
       "TotRmsAbvGrd      0.060735  0.059630  0.024750  0.039856 -0.036049   0.537457  \n",
       "Fireplaces        0.189089  0.069484 -0.001411  0.050952 -0.024503   0.465674  \n",
       "GarageYrBlt      -0.075885 -0.025967 -0.031439  0.008118 -0.001154   0.491654  \n",
       "GarageCars        0.050859  0.019427 -0.043534  0.040626 -0.039163   0.641570  \n",
       "GarageArea        0.052900  0.026605 -0.027259  0.034068 -0.027813   0.629689  \n",
       "WoodDeckSF       -0.073893  0.069918 -0.013289  0.021569  0.023160   0.327023  \n",
       "OpenPorchSF       0.075167  0.032310 -0.018413  0.078011 -0.057416   0.320621  \n",
       "EnclosedPorch    -0.083300  0.060049  0.018851 -0.028961 -0.009904  -0.127531  \n",
       "3SsnPorch        -0.031571 -0.007438  0.000506  0.029551  0.018662   0.045256  \n",
       "ScreenPorch       1.000000  0.056251  0.032332  0.023283  0.010716   0.113052  \n",
       "PoolArea          0.056251  1.000000  0.032085 -0.018583 -0.064033   0.100144  \n",
       "MiscVal           0.032332  0.032085  1.000000 -0.007035  0.005209  -0.022341  \n",
       "MoSold            0.023283 -0.018583 -0.007035  1.000000 -0.146232   0.045613  \n",
       "YrSold            0.010716 -0.064033  0.005209 -0.146232  1.000000  -0.029496  \n",
       "SalePrice         0.113052  0.100144 -0.022341  0.045613 -0.029496   1.000000  \n",
       "\n",
       "[38 rows x 38 columns]"
      ]
     },
     "execution_count": 87,
     "metadata": {},
     "output_type": "execute_result"
    }
   ],
   "source": [
    "data.corr()"
   ]
  },
  {
   "cell_type": "markdown",
   "id": "0c6ddca9",
   "metadata": {},
   "source": [
    "### MSSubClass --> target *"
   ]
  },
  {
   "cell_type": "code",
   "execution_count": 88,
   "id": "08f8cd2e",
   "metadata": {},
   "outputs": [],
   "source": [
    "target = 'SalePrice'"
   ]
  },
  {
   "cell_type": "code",
   "execution_count": 89,
   "id": "f72578fd",
   "metadata": {},
   "outputs": [
    {
     "data": {
      "image/png": "[encoded data removed]",
      "text/plain": [
       "<Figure size 432x288 with 1 Axes>"
      ]
     },
     "metadata": {
      "needs_background": "light"
     },
     "output_type": "display_data"
    }
   ],
   "source": [
    "feature = 'MSSubClass'\n",
    "# 시각화\n",
    "sns.barplot(x=feature, y=target, data=data)\n",
    "plt.axhline(data[target].mean(), color='r')  # 전체 평균\n",
    "plt.show()"
   ]
  },
  {
   "cell_type": "code",
   "execution_count": 90,
   "id": "50c678ae",
   "metadata": {},
   "outputs": [
    {
     "data": {
      "text/plain": [
       "array([ 60,  20,  70,  50, 190,  45,  90, 120,  30,  85,  80, 160,  75,\n",
       "       180,  40], dtype=int64)"
      ]
     },
     "execution_count": 90,
     "metadata": {},
     "output_type": "execute_result"
    }
   ],
   "source": [
    "data[feature].unique()"
   ]
  },
  {
   "cell_type": "code",
   "execution_count": 91,
   "id": "a9c02b08",
   "metadata": {},
   "outputs": [
    {
     "data": {
      "text/plain": [
       "F_onewayResult(statistic=34.31526265359553, pvalue=4.831010699147842e-80)"
      ]
     },
     "execution_count": 91,
     "metadata": {},
     "output_type": "execute_result"
    }
   ],
   "source": [
    "# 수치화\n",
    "m20 = data.loc[data.MSSubClass == 20, target]\n",
    "m30 = data.loc[data.MSSubClass == 30, target]\n",
    "m40 = data.loc[data.MSSubClass == 40, target]\n",
    "m45 = data.loc[data.MSSubClass == 45, target]\n",
    "m50 = data.loc[data.MSSubClass == 50, target]\n",
    "m60 = data.loc[data.MSSubClass == 60, target]\n",
    "m70 = data.loc[data.MSSubClass == 70, target]\n",
    "m75 = data.loc[data.MSSubClass == 75, target]\n",
    "m80 = data.loc[data.MSSubClass == 80, target]\n",
    "m85 = data.loc[data.MSSubClass == 85, target]\n",
    "m90 = data.loc[data.MSSubClass == 90, target]\n",
    "m120 = data.loc[data.MSSubClass == 120, target]\n",
    "m160 = data.loc[data.MSSubClass == 160, target]\n",
    "m180 = data.loc[data.MSSubClass == 180, target]\n",
    "m190 = data.loc[data.MSSubClass == 190, target]\n",
    "\n",
    "\n",
    "spst.f_oneway(m20,m30,m40,m45,m50,m60,m70,m75,m80,m85,m90,m120,m160,m180,m190)"
   ]
  },
  {
   "cell_type": "markdown",
   "id": "24dd48a8",
   "metadata": {},
   "source": [
    "#### 추가분석 _인사이트"
   ]
  },
  {
   "cell_type": "code",
   "execution_count": 92,
   "id": "4e5a883e",
   "metadata": {},
   "outputs": [
    {
     "data": {
      "image/png": "[encoded data removed]",
      "text/plain": [
       "<Figure size 432x288 with 1 Axes>"
      ]
     },
     "metadata": {
      "needs_background": "light"
     },
     "output_type": "display_data"
    }
   ],
   "source": [
    "x = 'MSSubClass'\n",
    "sns.boxplot(x=x,y=target,data=data)\n",
    "plt.show()"
   ]
  },
  {
   "cell_type": "code",
   "execution_count": 93,
   "id": "481f52e4",
   "metadata": {
    "scrolled": true
   },
   "outputs": [
    {
     "data": {
      "image/png": "[encoded data removed]",
      "text/plain": [
       "<Figure size 432x288 with 1 Axes>"
      ]
     },
     "metadata": {
      "needs_background": "light"
     },
     "output_type": "display_data"
    }
   ],
   "source": [
    "sns.barplot(x=x,y=target,data=data)\n",
    "plt.show()"
   ]
  },
  {
   "cell_type": "markdown",
   "id": "230497b4",
   "metadata": {},
   "source": [
    "- 60(2층 1946년 이후 건설)의 가격대가 평균적으로 가장 높으며 이상치도 많다.\n",
    "- 20(1층 1946년 이후 건설)과 120(1층 PUD - 1946년 이후 건설)은 평균이 높다.\n",
    "- 45(1.5층 (미완성) ) 와 85(split-levle/다층) / 180(다층)은 이상치가 적다. -> 정해진 가격대가 있는건가?\n",
    "- 전반적으로 1층집의 가격대가 높다. -> 집 전체로 거래되는 것이 아닌 2층집 이상이면 다가구라 구분되어 거래되나?"
   ]
  },
  {
   "cell_type": "markdown",
   "id": "138bd4f9",
   "metadata": {},
   "source": [
    "#### 추가분석 _새 기준 (개선)"
   ]
  },
  {
   "cell_type": "code",
   "execution_count": 94,
   "id": "2b7db980",
   "metadata": {},
   "outputs": [
    {
     "data": {
      "text/plain": [
       "0       60\n",
       "1       20\n",
       "2       60\n",
       "3       70\n",
       "4       60\n",
       "        ..\n",
       "1455    60\n",
       "1456    20\n",
       "1457    70\n",
       "1458    20\n",
       "1459    20\n",
       "Name: MSSubClass, Length: 1454, dtype: int64"
      ]
     },
     "execution_count": 94,
     "metadata": {},
     "output_type": "execute_result"
    }
   ],
   "source": [
    "data['MSSubClass']"
   ]
  },
  {
   "cell_type": "code",
   "execution_count": 95,
   "id": "71e379ba",
   "metadata": {},
   "outputs": [
    {
     "data": {
      "text/plain": [
       "Ttest_indResult(statistic=-7.971879897329433, pvalue=3.1376069235225742e-15)"
      ]
     },
     "execution_count": 95,
     "metadata": {},
     "output_type": "execute_result"
    }
   ],
   "source": [
    "# 층별 구분 (f1 =1층 / f2 = 2층이상)\n",
    "\n",
    "# 수치화\n",
    "f1 = data.loc[data['MSSubClass'].isin([20,30,40,50,90]), target]\n",
    "f2 = data.loc[data['MSSubClass'].isin([45,60,70,75,80,85,120,160,180,190]), target]\n",
    "\n",
    "\n",
    "spst.ttest_ind(f1,f2)\n",
    "\n",
    "#발표"
   ]
  },
  {
   "cell_type": "markdown",
   "id": "42de1889",
   "metadata": {},
   "source": [
    "> 층별로 구분했을 때는 이전보다 p-value 하락 / 상관계수 증가 -> 구분 전이 낫다는 결론"
   ]
  },
  {
   "cell_type": "code",
   "execution_count": 96,
   "id": "830a4e64",
   "metadata": {},
   "outputs": [
    {
     "data": {
      "text/plain": [
       "F_onewayResult(statistic=67.13331297063768, pvalue=3.657714373509327e-52)"
      ]
     },
     "execution_count": 96,
     "metadata": {},
     "output_type": "execute_result"
    }
   ],
   "source": [
    "# 집값에 영향을 줄 요인 별로 묶어 구분\n",
    "# new = 1946년 이후 건설 , older = 1945년 이전 , \n",
    "# split = 엇층, 엇계단, unf = 미완성 , other = 나머지\n",
    "\n",
    "# 층별 구분 (f1 =1층 / f2 = 2층이상)\n",
    "\n",
    "# 수치화\n",
    "new = data.loc[data['MSSubClass'].isin([20,60,120]), target]\n",
    "older = data.loc[data['MSSubClass'].isin([30,70,160]), target]\n",
    "unf =data.loc[data['MSSubClass'].isin([40,45]), target]\n",
    "split =data.loc[data['MSSubClass'].isin([80,85,180]), target]\n",
    "other=data.loc[data['MSSubClass'].isin([50,75,90,150,190]), target]\n",
    "\n",
    "spst.f_oneway(new,older,unf,split,other)\n"
   ]
  },
  {
   "cell_type": "markdown",
   "id": "83b4389d",
   "metadata": {},
   "source": [
    "> 집값에 영향을 주는 요인로 구분했을 때는 이전보다 p-value 약간하락 / 상관계수 증가 -> 구분 후가 낫다는 결론이지만 상의 예정"
   ]
  },
  {
   "cell_type": "markdown",
   "id": "34c40603",
   "metadata": {},
   "source": [
    "#### 전처리_ 새 열 추가"
   ]
  },
  {
   "cell_type": "code",
   "execution_count": 97,
   "id": "0921a676",
   "metadata": {},
   "outputs": [],
   "source": [
    "# 전처리_새 열 생성\n",
    "data['MSSubClass'].loc[data['MSSubClass'].isin([20,60,120])] = 'new' \n",
    "data['MSSubClass'].loc[data['MSSubClass'].isin([30,70,160])] = 'older' \n",
    "data['MSSubClass'].loc[data['MSSubClass'].isin([40,45])] = 'unf' \n",
    "data['MSSubClass'].loc[data['MSSubClass'].isin([80,85,180])] = 'split' \n",
    "data['MSSubClass'].loc[data['MSSubClass'].isin([50,75,90,150,190])] = 'other' \n",
    "\n",
    "# 집값에 영향을 줄 요인 별로 묶어 구분\n",
    "# new = 1946년 이후 건설 , older = 1945년 이전 , \n",
    "# split = 엇층, 엇계단, unf = 미완성 , other = 나머지\n"
   ]
  },
  {
   "cell_type": "code",
   "execution_count": 98,
   "id": "3188e426",
   "metadata": {},
   "outputs": [
    {
     "data": {
      "text/plain": [
       "array(['new', 'older', 'other', 'unf', 'split'], dtype=object)"
      ]
     },
     "execution_count": 98,
     "metadata": {},
     "output_type": "execute_result"
    }
   ],
   "source": [
    "data['MSSubClass'].unique()"
   ]
  },
  {
   "cell_type": "markdown",
   "id": "44e740ab",
   "metadata": {},
   "source": [
    "### MSZoning --> target *"
   ]
  },
  {
   "cell_type": "code",
   "execution_count": 99,
   "id": "bab3e142",
   "metadata": {},
   "outputs": [
    {
     "data": {
      "image/png": "[encoded data removed]",
      "text/plain": [
       "<Figure size 432x288 with 1 Axes>"
      ]
     },
     "metadata": {
      "needs_background": "light"
     },
     "output_type": "display_data"
    }
   ],
   "source": [
    "feature = 'MSZoning'\n",
    "# 시각화\n",
    "sns.barplot(x=feature, y=target, data=data)\n",
    "plt.axhline(data[target].mean(), color='r')  # 전체 평균\n",
    "plt.show()"
   ]
  },
  {
   "cell_type": "code",
   "execution_count": 100,
   "id": "b3e02e15",
   "metadata": {},
   "outputs": [
    {
     "data": {
      "text/plain": [
       "array(['RL', 'RM', 'C (all)', 'FV', 'RH'], dtype=object)"
      ]
     },
     "execution_count": 100,
     "metadata": {},
     "output_type": "execute_result"
    }
   ],
   "source": [
    "data[feature].unique()"
   ]
  },
  {
   "cell_type": "code",
   "execution_count": 101,
   "id": "73f8307b",
   "metadata": {},
   "outputs": [
    {
     "data": {
      "text/plain": [
       "F_onewayResult(statistic=43.5535613963687, pvalue=1.4895017443905424e-34)"
      ]
     },
     "execution_count": 101,
     "metadata": {},
     "output_type": "execute_result"
    }
   ],
   "source": [
    "# 수치화\n",
    "RL = data.loc[data.MSZoning == 'RL', target]\n",
    "RM = data.loc[data.MSZoning == 'RM', target]\n",
    "C = data.loc[data.MSZoning == 'C (all)', target]\n",
    "FV = data.loc[data.MSZoning == 'FV', target]\n",
    "RH = data.loc[data.MSZoning == 'RH', target]\n",
    "\n",
    "spst.f_oneway(RL,RM,C,FV,RH)"
   ]
  },
  {
   "cell_type": "markdown",
   "id": "f8c53cf0",
   "metadata": {},
   "source": [
    "#### 추가분석_인사이트"
   ]
  },
  {
   "cell_type": "code",
   "execution_count": 102,
   "id": "0ed8190b",
   "metadata": {},
   "outputs": [
    {
     "data": {
      "image/png": "[encoded data removed]",
      "text/plain": [
       "<Figure size 432x288 with 1 Axes>"
      ]
     },
     "metadata": {
      "needs_background": "light"
     },
     "output_type": "display_data"
    }
   ],
   "source": [
    "x = 'MSZoning'\n",
    "sns.boxplot(x=x,y=target,data=data)\n",
    "plt.show()"
   ]
  },
  {
   "cell_type": "code",
   "execution_count": 103,
   "id": "a333e378",
   "metadata": {},
   "outputs": [
    {
     "data": {
      "image/png": "[encoded data removed]",
      "text/plain": [
       "<Figure size 432x288 with 1 Axes>"
      ]
     },
     "metadata": {
      "needs_background": "light"
     },
     "output_type": "display_data"
    }
   ],
   "source": [
    "sns.barplot(x=x,y=target,data=data)\n",
    "plt.show()"
   ]
  },
  {
   "cell_type": "markdown",
   "id": "aac6cdcf",
   "metadata": {},
   "source": [
    "- 수상 주거 마을과 주거용(저밀도)의 집 값이 가장 높고 그 다음으로 주거용(중밀도), 주거용(저밀도)의 집값의 평균이 높다. 그 다음이 상업이다.\n",
    "- 데이터 불균형이 너무 심해서 이걸로 인사이트를 뽑는 게 의미가 있을까?"
   ]
  },
  {
   "cell_type": "markdown",
   "id": "15923911",
   "metadata": {},
   "source": [
    "### LotFrontage --> target *"
   ]
  },
  {
   "cell_type": "code",
   "execution_count": 104,
   "id": "c3ab8b00",
   "metadata": {},
   "outputs": [
    {
     "data": {
      "text/plain": [
       "<seaborn.axisgrid.JointGrid at 0x1fc6b3c1760>"
      ]
     },
     "execution_count": 104,
     "metadata": {},
     "output_type": "execute_result"
    },
    {
     "data": {
      "image/png": "[encoded data removed]",
      "text/plain": [
       "<Figure size 432x432 with 3 Axes>"
      ]
     },
     "metadata": {
      "needs_background": "light"
     },
     "output_type": "display_data"
    }
   ],
   "source": [
    "#  LotFrontage -> 타겟\n",
    "\n",
    "x='LotFrontage'\n",
    "target='SalePrice'\n",
    "sns.jointplot(x=x,y=target,data=data,hue='BldgType')"
   ]
  },
  {
   "cell_type": "code",
   "execution_count": 105,
   "id": "8658876f",
   "metadata": {},
   "outputs": [
    {
     "name": "stdout",
     "output_type": "stream",
     "text": [
      "(0.3534930026215304, 4.826870931579455e-44)\n"
     ]
    }
   ],
   "source": [
    "import scipy.stats as spst\n",
    "print(spst.pearsonr(data[x],data[target]))"
   ]
  },
  {
   "cell_type": "markdown",
   "id": "0b4f7578",
   "metadata": {},
   "source": [
    "- lotranotage와target은 중간 상관관계를 지님\n",
    "- 두 변수간 상관관계가 존재\n",
    "- 집가격 : 집을 혼자 쓰는 경우 > 2가족 이상이 한 집을 쓰는 경우"
   ]
  },
  {
   "cell_type": "markdown",
   "id": "48f06583",
   "metadata": {},
   "source": [
    "### LotArea --> target *"
   ]
  },
  {
   "cell_type": "code",
   "execution_count": 106,
   "id": "ce1cdd68",
   "metadata": {},
   "outputs": [
    {
     "data": {
      "text/plain": [
       "<seaborn.axisgrid.JointGrid at 0x1fc6b97ef40>"
      ]
     },
     "execution_count": 106,
     "metadata": {},
     "output_type": "execute_result"
    },
    {
     "data": {
      "image/png": "[encoded data removed]",
      "text/plain": [
       "<Figure size 432x432 with 3 Axes>"
      ]
     },
     "metadata": {
      "needs_background": "light"
     },
     "output_type": "display_data"
    }
   ],
   "source": [
    "#  LotFrontage -> 타겟\n",
    "\n",
    "x='LotArea'\n",
    "target='SalePrice'\n",
    "sns.jointplot(x=x,y=target,data=data)"
   ]
  },
  {
   "cell_type": "code",
   "execution_count": 107,
   "id": "d9069759",
   "metadata": {},
   "outputs": [
    {
     "name": "stdout",
     "output_type": "stream",
     "text": [
      "(0.36753261524132663, 9.957377062206149e-48)\n"
     ]
    }
   ],
   "source": [
    "import scipy.stats as spst\n",
    "print(spst.pearsonr(data[x],data[target]))"
   ]
  },
  {
   "cell_type": "markdown",
   "id": "c65801e5",
   "metadata": {},
   "source": [
    "### Street --> Target"
   ]
  },
  {
   "cell_type": "code",
   "execution_count": 108,
   "id": "4a82d05f",
   "metadata": {},
   "outputs": [
    {
     "data": {
      "image/png": "[encoded data removed]",
      "text/plain": [
       "<Figure size 432x288 with 1 Axes>"
      ]
     },
     "metadata": {
      "needs_background": "light"
     },
     "output_type": "display_data"
    }
   ],
   "source": [
    "feature = 'Street'\n",
    "# 시각화\n",
    "sns.barplot(x=feature, y=target, data=data)\n",
    "plt.axhline(data[target].mean(), color='r')  # 전체 평균\n",
    "plt.show()"
   ]
  },
  {
   "cell_type": "code",
   "execution_count": 109,
   "id": "8583aedf",
   "metadata": {},
   "outputs": [
    {
     "data": {
      "text/plain": [
       "array(['Pave', 'Grvl'], dtype=object)"
      ]
     },
     "execution_count": 109,
     "metadata": {},
     "output_type": "execute_result"
    }
   ],
   "source": [
    "data['Street'].unique()"
   ]
  },
  {
   "cell_type": "code",
   "execution_count": 110,
   "id": "fe0843cb",
   "metadata": {},
   "outputs": [
    {
     "data": {
      "text/plain": [
       "Ttest_indResult(statistic=1.9828856699205393, pvalue=0.04756837680753977)"
      ]
     },
     "execution_count": 110,
     "metadata": {},
     "output_type": "execute_result"
    }
   ],
   "source": [
    "# 수치화\n",
    "pv = data.loc[data.Street == 'Pave', target]\n",
    "gr = data.loc[data.Street == 'Grvl', target]\n",
    "\n",
    "\n",
    "# spst.ttest_ind(pv,gr)\n",
    "spst.ttest_ind(pv,gr)"
   ]
  },
  {
   "cell_type": "markdown",
   "id": "c543d2aa",
   "metadata": {},
   "source": [
    "### LotShape --> Target *"
   ]
  },
  {
   "cell_type": "code",
   "execution_count": 111,
   "id": "3d852e89",
   "metadata": {},
   "outputs": [
    {
     "data": {
      "image/png": "[encoded data removed]",
      "text/plain": [
       "<Figure size 432x288 with 1 Axes>"
      ]
     },
     "metadata": {
      "needs_background": "light"
     },
     "output_type": "display_data"
    }
   ],
   "source": [
    "feature = 'LotShape'\n",
    "# 시각화\n",
    "sns.barplot(x=feature, y=target, data=data)\n",
    "plt.axhline(data[target].mean(), color='r')  # 전체 평균\n",
    "plt.show()"
   ]
  },
  {
   "cell_type": "code",
   "execution_count": 112,
   "id": "df558b82",
   "metadata": {},
   "outputs": [
    {
     "data": {
      "image/png": "[encoded data removed]",
      "text/plain": [
       "<Figure size 432x288 with 1 Axes>"
      ]
     },
     "metadata": {
      "needs_background": "light"
     },
     "output_type": "display_data"
    }
   ],
   "source": [
    "x = 'LotShape'\n",
    "sns.boxplot(x=x,y=target,data=data)\n",
    "plt.show()"
   ]
  },
  {
   "cell_type": "code",
   "execution_count": 113,
   "id": "eba76c78",
   "metadata": {},
   "outputs": [
    {
     "data": {
      "text/plain": [
       "array(['Reg', 'IR1', 'IR2', 'IR3'], dtype=object)"
      ]
     },
     "execution_count": 113,
     "metadata": {},
     "output_type": "execute_result"
    }
   ],
   "source": [
    "data[feature].unique()"
   ]
  },
  {
   "cell_type": "code",
   "execution_count": 114,
   "id": "fe54042a",
   "metadata": {},
   "outputs": [
    {
     "data": {
      "text/plain": [
       "F_onewayResult(statistic=38.28572889467891, pvalue=8.261445802492333e-24)"
      ]
     },
     "execution_count": 114,
     "metadata": {},
     "output_type": "execute_result"
    }
   ],
   "source": [
    "# 수치화\n",
    "rg = data.loc[data.LotShape == 'Reg', target]\n",
    "ir1 = data.loc[data.LotShape == 'IR1', target]\n",
    "ir2 = data.loc[data.LotShape == 'IR2', target]\n",
    "ir3 = data.loc[data.LotShape == 'IR3', target]\n",
    "\n",
    "spst.f_oneway(rg,ir1,ir2,ir3)"
   ]
  },
  {
   "cell_type": "markdown",
   "id": "ff4514fd",
   "metadata": {},
   "source": [
    "#### 추가분석_새기준(개선?)"
   ]
  },
  {
   "cell_type": "code",
   "execution_count": 115,
   "id": "1b36381e",
   "metadata": {},
   "outputs": [
    {
     "data": {
      "text/plain": [
       "Ttest_indResult(statistic=-10.425671242321854, pvalue=1.3629446564575985e-24)"
      ]
     },
     "execution_count": 115,
     "metadata": {},
     "output_type": "execute_result"
    }
   ],
   "source": [
    "# 모양을 규칙적 / 불규칙적으로 구분\n",
    "\n",
    "# 수치화\n",
    "rg = data.loc[data.LotShape == 'Reg', target]\n",
    "ir = data.loc[data['LotShape'].isin(['IR1','IR2','IR3']), target]\n",
    "\n",
    "\n",
    "\n",
    "spst.ttest_ind(rg,ir)\n"
   ]
  },
  {
   "cell_type": "markdown",
   "id": "ff08dad9",
   "metadata": {},
   "source": [
    "> 모양을 규칙적 / 불규칙적으로 구분하니 이전보다 상관계수는 높아지고 p-value는 낮아지는 결과 얻음"
   ]
  },
  {
   "cell_type": "markdown",
   "id": "c449522e",
   "metadata": {},
   "source": [
    "#### 전처리_새 열 추가"
   ]
  },
  {
   "cell_type": "code",
   "execution_count": 116,
   "id": "5d0fca8c",
   "metadata": {},
   "outputs": [],
   "source": [
    "# 전처리_새 열 생성\n",
    "data['LotShape'].loc[data.LotShape == 'Reg'] = 'reg' \n",
    "data['LotShape'].loc[data['LotShape'].isin(['IR1','IR2','IR3'])] = 'ir'\n",
    "\n",
    "# reg: 모양을 규칙적 \n",
    "# ir: 불규칙적으로 구분"
   ]
  },
  {
   "cell_type": "code",
   "execution_count": 117,
   "id": "a8799f45",
   "metadata": {},
   "outputs": [
    {
     "data": {
      "text/plain": [
       "array(['reg', 'ir'], dtype=object)"
      ]
     },
     "execution_count": 117,
     "metadata": {},
     "output_type": "execute_result"
    }
   ],
   "source": [
    "data['LotShape'].unique()"
   ]
  },
  {
   "cell_type": "markdown",
   "id": "540f26ce",
   "metadata": {},
   "source": [
    "### LandContour --> Target *"
   ]
  },
  {
   "cell_type": "code",
   "execution_count": 118,
   "id": "78f93f57",
   "metadata": {},
   "outputs": [
    {
     "data": {
      "image/png": "[encoded data removed]",
      "text/plain": [
       "<Figure size 432x288 with 1 Axes>"
      ]
     },
     "metadata": {
      "needs_background": "light"
     },
     "output_type": "display_data"
    }
   ],
   "source": [
    "feature = 'LandContour'\n",
    "# 시각화\n",
    "sns.barplot(x=feature, y=target, data=data)\n",
    "plt.axhline(data[target].mean(), color='r')  # 전체 평균\n",
    "plt.show()"
   ]
  },
  {
   "cell_type": "code",
   "execution_count": 119,
   "id": "2ce980b1",
   "metadata": {},
   "outputs": [
    {
     "data": {
      "text/plain": [
       "array(['Lvl', 'Bnk', 'Low', 'HLS'], dtype=object)"
      ]
     },
     "execution_count": 119,
     "metadata": {},
     "output_type": "execute_result"
    }
   ],
   "source": [
    "data[feature].unique()"
   ]
  },
  {
   "cell_type": "code",
   "execution_count": 120,
   "id": "afb88c13",
   "metadata": {},
   "outputs": [
    {
     "data": {
      "text/plain": [
       "F_onewayResult(statistic=11.79263343708571, pvalue=1.239027909654769e-07)"
      ]
     },
     "execution_count": 120,
     "metadata": {},
     "output_type": "execute_result"
    }
   ],
   "source": [
    "# 수치화\n",
    "L1 = data.loc[data.LandContour == 'Lvl', target]\n",
    "B = data.loc[data.LandContour == 'Bnk', target]\n",
    "L = data.loc[data.LandContour == 'Low', target]\n",
    "H = data.loc[data.LandContour == 'HLS', target]\n",
    "\n",
    "spst.f_oneway(L1,B,L,H)"
   ]
  },
  {
   "cell_type": "code",
   "execution_count": 121,
   "id": "5baee0f5",
   "metadata": {},
   "outputs": [
    {
     "data": {
      "text/plain": [
       "array(['Lvl', 'Bnk', 'Low', 'HLS'], dtype=object)"
      ]
     },
     "execution_count": 121,
     "metadata": {},
     "output_type": "execute_result"
    }
   ],
   "source": [
    "data['LandContour'].unique()"
   ]
  },
  {
   "cell_type": "markdown",
   "id": "7b0149ef",
   "metadata": {},
   "source": [
    "#### 추가분석_새기준(개선 실패)"
   ]
  },
  {
   "cell_type": "code",
   "execution_count": 177,
   "id": "c69383a4",
   "metadata": {},
   "outputs": [
    {
     "data": {
      "text/plain": [
       "Ttest_indResult(statistic=-0.5733791001923974, pvalue=0.5664768279729698)"
      ]
     },
     "execution_count": 177,
     "metadata": {},
     "output_type": "execute_result"
    }
   ],
   "source": [
    "# 모양을 평지 / 기울기 있는 대지로 구분\n",
    "\n",
    "# 수치화\n",
    "flat = data.loc[data.LandContour == 'Lvl', target]\n",
    "steep = data.loc[data['LandContour'].isin(['Bnk','Low','HLS']), target]\n",
    "\n",
    "\n",
    "spst.ttest_ind(flat,steep)"
   ]
  },
  {
   "cell_type": "markdown",
   "id": "e3e5155b",
   "metadata": {},
   "source": [
    "> 이전보다 별로라 원래 기준 적용"
   ]
  },
  {
   "cell_type": "markdown",
   "id": "3790517c",
   "metadata": {},
   "source": [
    "### Utilities --> Target "
   ]
  },
  {
   "cell_type": "code",
   "execution_count": 170,
   "id": "8c078da5",
   "metadata": {},
   "outputs": [
    {
     "data": {
      "image/png": "[encoded data removed]",
      "text/plain": [
       "<Figure size 432x288 with 1 Axes>"
      ]
     },
     "metadata": {
      "needs_background": "light"
     },
     "output_type": "display_data"
    }
   ],
   "source": [
    "feature = 'Utilities'\n",
    "# 시각화\n",
    "sns.barplot(x=feature, y=target, data=data)\n",
    "plt.axhline(data[target].mean(), color='r')  # 전체 평균\n",
    "plt.show()"
   ]
  },
  {
   "cell_type": "code",
   "execution_count": 174,
   "id": "2ae654cc",
   "metadata": {
    "scrolled": true
   },
   "outputs": [
    {
     "data": {
      "text/plain": [
       "array(['AllPub', 'NoSeWa'], dtype=object)"
      ]
     },
     "execution_count": 174,
     "metadata": {},
     "output_type": "execute_result"
    }
   ],
   "source": [
    "data[feature].unique()"
   ]
  },
  {
   "cell_type": "code",
   "execution_count": 176,
   "id": "65d30c59",
   "metadata": {},
   "outputs": [
    {
     "data": {
      "text/plain": [
       "Ttest_indResult(statistic=nan, pvalue=nan)"
      ]
     },
     "execution_count": 176,
     "metadata": {},
     "output_type": "execute_result"
    }
   ],
   "source": [
    "# 수치화\n",
    "a1 = data.loc[data.Utilities == 'AllPub', target]\n",
    "a2 = data.loc[data.Utilities == 'NoSeWa', target]\n",
    "\n",
    "\n",
    "spst.ttest_ind(a1,a2)"
   ]
  },
  {
   "cell_type": "markdown",
   "id": "3d9884dc",
   "metadata": {},
   "source": [
    "### LotConfig --> Target *"
   ]
  },
  {
   "cell_type": "code",
   "execution_count": 126,
   "id": "614f72ce",
   "metadata": {
    "scrolled": true
   },
   "outputs": [
    {
     "data": {
      "image/png": "[encoded data removed]",
      "text/plain": [
       "<Figure size 432x288 with 1 Axes>"
      ]
     },
     "metadata": {
      "needs_background": "light"
     },
     "output_type": "display_data"
    }
   ],
   "source": [
    "feature = 'LotConfig'\n",
    "# 시각화\n",
    "sns.barplot(x=feature, y=target, data=data)\n",
    "plt.axhline(data[target].mean(), color='r')  # 전체 평균\n",
    "plt.show()"
   ]
  },
  {
   "cell_type": "code",
   "execution_count": 127,
   "id": "3b12cf7e",
   "metadata": {},
   "outputs": [
    {
     "data": {
      "text/plain": [
       "array(['Inside', 'FR2', 'Corner', 'CulDSac', 'FR3'], dtype=object)"
      ]
     },
     "execution_count": 127,
     "metadata": {},
     "output_type": "execute_result"
    }
   ],
   "source": [
    "data[feature].unique()"
   ]
  },
  {
   "cell_type": "code",
   "execution_count": 128,
   "id": "3506bc03",
   "metadata": {},
   "outputs": [
    {
     "data": {
      "text/plain": [
       "F_onewayResult(statistic=7.30628763282184, pvalue=7.986434809623483e-06)"
      ]
     },
     "execution_count": 128,
     "metadata": {},
     "output_type": "execute_result"
    }
   ],
   "source": [
    "# 수치화\n",
    "Inside = data.loc[data.LotConfig == 'Inside', target]\n",
    "FR2 = data.loc[data.LotConfig == 'FR2', target]\n",
    "Corner = data.loc[data.LotConfig == 'Corner', target]\n",
    "CulDSac = data.loc[data.LotConfig == 'CulDSac', target]\n",
    "FR3 = data.loc[data.LotConfig == 'FR3', target]\n",
    "\n",
    "spst.f_oneway(Inside,FR2,Corner,CulDSac,FR3)"
   ]
  },
  {
   "cell_type": "markdown",
   "id": "525770b2",
   "metadata": {},
   "source": [
    "### LandSlope --> Target"
   ]
  },
  {
   "cell_type": "code",
   "execution_count": 129,
   "id": "1136c6a7",
   "metadata": {},
   "outputs": [
    {
     "data": {
      "image/png": "[encoded data removed]",
      "text/plain": [
       "<Figure size 432x288 with 1 Axes>"
      ]
     },
     "metadata": {
      "needs_background": "light"
     },
     "output_type": "display_data"
    }
   ],
   "source": [
    "feature = 'LandSlope'\n",
    "# 시각화\n",
    "sns.barplot(x=feature, y=target, data=data)\n",
    "plt.axhline(data[target].mean(), color='r')  # 전체 평균\n",
    "plt.show()"
   ]
  },
  {
   "cell_type": "code",
   "execution_count": 130,
   "id": "a8a589a2",
   "metadata": {},
   "outputs": [
    {
     "data": {
      "text/plain": [
       "array(['Gtl', 'Mod', 'Sev'], dtype=object)"
      ]
     },
     "execution_count": 130,
     "metadata": {},
     "output_type": "execute_result"
    }
   ],
   "source": [
    "data[feature].unique()"
   ]
  },
  {
   "cell_type": "code",
   "execution_count": 131,
   "id": "a8c9bedd",
   "metadata": {},
   "outputs": [
    {
     "data": {
      "text/plain": [
       "F_onewayResult(statistic=1.4574621612102103, pvalue=0.23316704154191903)"
      ]
     },
     "execution_count": 131,
     "metadata": {},
     "output_type": "execute_result"
    }
   ],
   "source": [
    "# 수치화\n",
    "Gtl = data.loc[data.LandSlope == 'Gtl', target]\n",
    "Mod = data.loc[data.LandSlope == 'Mod', target]\n",
    "Sev = data.loc[data.LandSlope == 'Sev', target]\n",
    "\n",
    "\n",
    "spst.f_oneway(Gtl,Mod,Sev)"
   ]
  },
  {
   "cell_type": "markdown",
   "id": "e7da6cc8",
   "metadata": {},
   "source": [
    "#### 추가분석_새기준(개선)"
   ]
  },
  {
   "cell_type": "code",
   "execution_count": 132,
   "id": "3f3f017f",
   "metadata": {},
   "outputs": [
    {
     "data": {
      "text/plain": [
       "Ttest_indResult(statistic=-1.2684689526268111, pvalue=0.20483385930237674)"
      ]
     },
     "execution_count": 132,
     "metadata": {},
     "output_type": "execute_result"
    }
   ],
   "source": [
    "# 경사 유무로 구분\n",
    "# gtl  = 경사 무 / ste = 경사 유\n",
    "\n",
    "# 수치화\n",
    "Gtl = data.loc[data.LandSlope == 'Gtl', target]\n",
    "ste = data.loc[data['LandSlope'].isin(['Sev','Mod']), target]\n",
    "\n",
    "\n",
    "spst.ttest_ind(Gtl,ste)"
   ]
  },
  {
   "cell_type": "markdown",
   "id": "81a177ee",
   "metadata": {},
   "source": [
    "> 새 기준이 더 유의미"
   ]
  },
  {
   "cell_type": "markdown",
   "id": "99fef602",
   "metadata": {},
   "source": [
    "#### 전처리_새 열 추가"
   ]
  },
  {
   "cell_type": "code",
   "execution_count": 133,
   "id": "80786a37",
   "metadata": {},
   "outputs": [],
   "source": [
    "# 전처리_새 열 생성\n",
    "data['LandSlope'].loc[data.LotShape == 'Gtl'] = 'Gtl' \n",
    "data['LandSlope'].loc[data['LandSlope'].isin(['Sev','Mod'])] = 'ste'\n",
    "\n",
    "# Gtl: 경사 무 (평지)\n",
    "# ste: 경사 유"
   ]
  },
  {
   "cell_type": "code",
   "execution_count": 134,
   "id": "ade150b2",
   "metadata": {},
   "outputs": [
    {
     "data": {
      "text/plain": [
       "array(['Gtl', 'ste'], dtype=object)"
      ]
     },
     "execution_count": 134,
     "metadata": {},
     "output_type": "execute_result"
    }
   ],
   "source": [
    "data['LandSlope'].unique()"
   ]
  },
  {
   "cell_type": "markdown",
   "id": "3e3a4e3f",
   "metadata": {},
   "source": [
    "### Neighborhood --> Target *"
   ]
  },
  {
   "cell_type": "code",
   "execution_count": 135,
   "id": "a97fcd34",
   "metadata": {},
   "outputs": [
    {
     "data": {
      "image/png": "[encoded data removed]",
      "text/plain": [
       "<Figure size 1440x720 with 1 Axes>"
      ]
     },
     "metadata": {
      "needs_background": "light"
     },
     "output_type": "display_data"
    }
   ],
   "source": [
    "feature = 'Neighborhood'\n",
    "# 시각화\n",
    "plt.figure(figsize=(20,10))\n",
    "sns.barplot(x=feature, y=target, data=data)\n",
    "plt.axhline(data[target].mean(), color='r')  # 전체 평균\n",
    "plt.show()"
   ]
  },
  {
   "cell_type": "code",
   "execution_count": 136,
   "id": "994f8ff2",
   "metadata": {},
   "outputs": [
    {
     "data": {
      "text/plain": [
       "array(['CollgCr', 'Veenker', 'Crawfor', 'NoRidge', 'Mitchel', 'Somerst',\n",
       "       'NWAmes', 'OldTown', 'BrkSide', 'Sawyer', 'NridgHt', 'NAmes',\n",
       "       'SawyerW', 'IDOTRR', 'MeadowV', 'Edwards', 'Timber', 'Gilbert',\n",
       "       'StoneBr', 'ClearCr', 'NPkVill', 'Blmngtn', 'BrDale', 'SWISU',\n",
       "       'Blueste'], dtype=object)"
      ]
     },
     "execution_count": 136,
     "metadata": {},
     "output_type": "execute_result"
    }
   ],
   "source": [
    "data[feature].unique()\n"
   ]
  },
  {
   "cell_type": "code",
   "execution_count": 137,
   "id": "cc40f5fe",
   "metadata": {},
   "outputs": [
    {
     "data": {
      "text/plain": [
       "F_onewayResult(statistic=71.81904101270077, pvalue=2.6294321392882095e-225)"
      ]
     },
     "execution_count": 137,
     "metadata": {},
     "output_type": "execute_result"
    }
   ],
   "source": [
    "# 수치화\n",
    "CollgCr = data.loc[data.Neighborhood == 'CollgCr', target]\n",
    "Veenker = data.loc[data.Neighborhood == 'Veenker', target]\n",
    "Crawfor = data.loc[data.Neighborhood == 'Crawfor', target]\n",
    "NoRidge = data.loc[data.Neighborhood == 'NoRidge', target]\n",
    "Mitchel = data.loc[data.Neighborhood == 'Mitchel', target]\n",
    "Somerst = data.loc[data.Neighborhood == 'Somerst', target]\n",
    "\n",
    "NWAmes = data.loc[data.Neighborhood == 'NWAmes', target]\n",
    "OldTown = data.loc[data.Neighborhood == 'OldTown', target]\n",
    "BrkSide = data.loc[data.Neighborhood == 'BrkSide', target]\n",
    "Sawyer = data.loc[data.Neighborhood == 'Sawyer', target]\n",
    "NridgHt = data.loc[data.Neighborhood == 'NridgHt', target]\n",
    "NAmes = data.loc[data.Neighborhood == 'NAmes', target]\n",
    "\n",
    "SawyerW = data.loc[data.Neighborhood == 'SawyerW', target]\n",
    "IDOTRR = data.loc[data.Neighborhood == 'IDOTRR', target]\n",
    "MeadowV = data.loc[data.Neighborhood == 'MeadowV', target]\n",
    "Edwards = data.loc[data.Neighborhood == 'Edwards', target]\n",
    "Timber = data.loc[data.Neighborhood == 'Timber', target]\n",
    "Gilbert = data.loc[data.Neighborhood == 'Gilbert', target]\n",
    "\n",
    "StoneBr = data.loc[data.Neighborhood == 'StoneBr', target]\n",
    "ClearCr = data.loc[data.Neighborhood == 'ClearCr', target]\n",
    "NPkVill = data.loc[data.Neighborhood == 'NPkVill', target]\n",
    "Blmngtn = data.loc[data.Neighborhood == 'Blmngtn', target]\n",
    "BrDale = data.loc[data.Neighborhood == 'BrDale', target]\n",
    "SWISU = data.loc[data.Neighborhood == 'SWISU', target]\n",
    "Blueste = data.loc[data.Neighborhood == 'Blueste', target]\n",
    "\n",
    "\n",
    "\n",
    "spst.f_oneway(CollgCr, Veenker, Crawfor, NoRidge, Mitchel, Somerst,\n",
    "       NWAmes, OldTown, BrkSide, Sawyer, NridgHt, NAmes,\n",
    "       SawyerW, IDOTRR, MeadowV, Edwards, Timber, Gilbert,\n",
    "       StoneBr, ClearCr, NPkVill, Blmngtn, BrDale, SWISU,\n",
    "       Blueste)"
   ]
  },
  {
   "cell_type": "markdown",
   "id": "b380c82d",
   "metadata": {},
   "source": [
    "#### 추가분석_인사이트"
   ]
  },
  {
   "cell_type": "code",
   "execution_count": 138,
   "id": "4ad8a1c8",
   "metadata": {},
   "outputs": [
    {
     "data": {
      "image/png": "[encoded data removed]",
      "text/plain": [
       "<Figure size 1440x720 with 1 Axes>"
      ]
     },
     "metadata": {
      "needs_background": "light"
     },
     "output_type": "display_data"
    }
   ],
   "source": [
    "x = 'Neighborhood'\n",
    "plt.figure(figsize=(20,10))\n",
    "sns.boxplot(x=x,y=target,data=data)\n",
    "plt.show()"
   ]
  },
  {
   "cell_type": "code",
   "execution_count": 139,
   "id": "17d5860a",
   "metadata": {},
   "outputs": [
    {
     "data": {
      "image/png": "[encoded data removed]",
      "text/plain": [
       "<Figure size 1440x720 with 1 Axes>"
      ]
     },
     "metadata": {
      "needs_background": "light"
     },
     "output_type": "display_data"
    }
   ],
   "source": [
    "plt.figure(figsize=(20,10))\n",
    "sns.barplot(x=x,y=target,data=data)\n",
    "plt.show()"
   ]
  },
  {
   "cell_type": "markdown",
   "id": "12f268bd",
   "metadata": {},
   "source": [
    "- 노스리지, 네브래스카 링컨의 아파트 단지(NridgHt), Stone Brook(뉴욕 주립대) 둘 다 학벌 관련된 곳의 집값이 높다. 노스리지의 경우 학군으로 유명해서 집값이 높은 곳으로 추정\n",
    "-   Old Town 캘리포니아 샌디에고의 지역 , Sawyer 위스콘신의 카운티 (이 지역의 총 인구 수는 16,489명) , Brookside 컨트리 클럽 플라자 근방의 집값이 낮음.  \n",
    "- 워싱턴 시애틀의 아파트(NPKVill)의 폭은 좁은데 이유가 뭘까? -> 거래데이터 자체가 적어서 "
   ]
  },
  {
   "cell_type": "markdown",
   "id": "563ace0b",
   "metadata": {},
   "source": [
    "### Condition1 --> Target *"
   ]
  },
  {
   "cell_type": "code",
   "execution_count": 140,
   "id": "87e8eb8e",
   "metadata": {
    "scrolled": true
   },
   "outputs": [
    {
     "data": {
      "image/png": "[encoded data removed]",
      "text/plain": [
       "<Figure size 432x288 with 1 Axes>"
      ]
     },
     "metadata": {
      "needs_background": "light"
     },
     "output_type": "display_data"
    }
   ],
   "source": [
    "feature = 'Condition1'\n",
    "# 시각화\n",
    "sns.barplot(x=feature, y=target, data=data)\n",
    "plt.axhline(data[target].mean(), color='r')  # 전체 평균\n",
    "plt.show()"
   ]
  },
  {
   "cell_type": "code",
   "execution_count": 141,
   "id": "e58de661",
   "metadata": {},
   "outputs": [
    {
     "data": {
      "text/plain": [
       "array(['Norm', 'Feedr', 'PosN', 'Artery', 'RRAe', 'RRNn', 'RRAn', 'PosA',\n",
       "       'RRNe'], dtype=object)"
      ]
     },
     "execution_count": 141,
     "metadata": {},
     "output_type": "execute_result"
    }
   ],
   "source": [
    "data[feature].unique()"
   ]
  },
  {
   "cell_type": "code",
   "execution_count": 142,
   "id": "f1dda7f1",
   "metadata": {},
   "outputs": [
    {
     "data": {
      "text/plain": [
       "F_onewayResult(statistic=5.996034783341746, pvalue=1.3518345854788594e-07)"
      ]
     },
     "execution_count": 142,
     "metadata": {},
     "output_type": "execute_result"
    }
   ],
   "source": [
    "# 수치화\n",
    "Norm = data.loc[data.Condition1 == 'Norm', target]\n",
    "Feedr = data.loc[data.Condition1 == 'Feedr', target]\n",
    "PosN = data.loc[data.Condition1 == 'PosN', target]\n",
    "Artery = data.loc[data.Condition1 == 'Artery', target]\n",
    "RRAe = data.loc[data.Condition1 == 'RRAe', target]\n",
    "RRNn = data.loc[data.Condition1 == 'RRNn', target]\n",
    "RRAn = data.loc[data.Condition1 == 'RRAn', target]\n",
    "PosA = data.loc[data.Condition1 == 'PosA', target]\n",
    "RRNe = data.loc[data.Condition1 == 'RRNe', target]\n",
    "\n",
    "\n",
    "spst.f_oneway(Norm,Feedr,PosN,Artery,RRAe,RRNn,RRAn,PosA,RRNe)"
   ]
  },
  {
   "cell_type": "markdown",
   "id": "af77c4f5",
   "metadata": {},
   "source": [
    "#### 추가분석_새기준(개선)"
   ]
  },
  {
   "cell_type": "code",
   "execution_count": 143,
   "id": "af1948e6",
   "metadata": {},
   "outputs": [
    {
     "data": {
      "text/plain": [
       "Ttest_indResult(statistic=4.341497561381617, pvalue=1.5131719925499023e-05)"
      ]
     },
     "execution_count": 143,
     "metadata": {},
     "output_type": "execute_result"
    }
   ],
   "source": [
    "# norm = 일반적\n",
    "# other = 그 외 특별한 기준\n",
    "\n",
    "# 수치화\n",
    "Norm = data.loc[data.Condition1 == 'Norm', target]\n",
    "other = data.loc[data['Condition1'].isin(['Feedr','PosN','Artery','RRAe','RRNn','RRAn','PosA','RRNe']),  target]\n",
    "\n",
    "spst.ttest_ind(Norm,other)"
   ]
  },
  {
   "cell_type": "code",
   "execution_count": 144,
   "id": "42efa656",
   "metadata": {},
   "outputs": [
    {
     "data": {
      "text/plain": [
       "F_onewayResult(statistic=18.142117934193948, pvalue=1.6515017441916125e-08)"
      ]
     },
     "execution_count": 144,
     "metadata": {},
     "output_type": "execute_result"
    }
   ],
   "source": [
    "# norm = 일반적\n",
    "# other = 그 외 특별한 기준\n",
    "\n",
    "# 수치화 : 3개 ( 긍  / 부 / 평)\n",
    "Norm = data.loc[data.Condition1 == 'Norm', target]\n",
    "pos = data.loc[data['Condition1'].isin(['PosN','PosA']),  target]\n",
    "nat = data.loc[data['Condition1'].isin(['Feedr','Artery','RRAe','RRNn','RRAn','RRNe']),  target]\n",
    "\n",
    "spst.f_oneway(Norm,pos,nat)"
   ]
  },
  {
   "cell_type": "code",
   "execution_count": 145,
   "id": "eb1ce5e7",
   "metadata": {},
   "outputs": [
    {
     "data": {
      "text/plain": [
       "Ttest_indResult(statistic=5.498232784404755, pvalue=4.539482274942506e-08)"
      ]
     },
     "execution_count": 145,
     "metadata": {},
     "output_type": "execute_result"
    }
   ],
   "source": [
    "# norm = 일반적 + 긍정\n",
    "# other = 그 외 특별한 기준\n",
    "\n",
    "# 수치화 : 2개 ( 긍,평 / 부)\n",
    "norm = data.loc[data['Condition1'].isin(['Norm','PosN','PosA']),  target]\n",
    "nat = data.loc[data['Condition1'].isin(['Feedr','Artery','RRAe','RRNn','RRAn','RRNe']),  target]\n",
    "\n",
    "spst.ttest_ind(Norm,nat)"
   ]
  },
  {
   "cell_type": "markdown",
   "id": "bb328525",
   "metadata": {},
   "source": [
    "> 상의 필요"
   ]
  },
  {
   "cell_type": "markdown",
   "id": "2bf32539",
   "metadata": {},
   "source": [
    "#### 전처리_새 열 추가"
   ]
  },
  {
   "cell_type": "code",
   "execution_count": 146,
   "id": "94a71d2d",
   "metadata": {},
   "outputs": [],
   "source": [
    "# 전처리_새 열 생성\n",
    "data['Condition1'].loc[data.LotShape == 'Norm'] = 'Norm' \n",
    "data['Condition1'].loc[data['Condition1'].isin(['PosN','PosA'])] = 'pos'\n",
    "data['Condition1'].loc[data['Condition1'].isin(['Feedr','Artery','RRAe','RRNn','RRAn','RRNe'])] = 'nag'\n",
    "\n",
    "# Norm : norm 일반적 \n",
    "# pos  : 긍정적 주변 환경\n",
    "# nag  : 부정적 주변 환경"
   ]
  },
  {
   "cell_type": "code",
   "execution_count": 147,
   "id": "1437513d",
   "metadata": {},
   "outputs": [
    {
     "data": {
      "text/plain": [
       "array(['Norm', 'nag', 'pos'], dtype=object)"
      ]
     },
     "execution_count": 147,
     "metadata": {},
     "output_type": "execute_result"
    }
   ],
   "source": [
    "data['Condition1'].unique()"
   ]
  },
  {
   "cell_type": "markdown",
   "id": "b3576700",
   "metadata": {},
   "source": [
    "### Condition2 --> Target"
   ]
  },
  {
   "cell_type": "code",
   "execution_count": 148,
   "id": "2b8d91f4",
   "metadata": {
    "scrolled": true
   },
   "outputs": [
    {
     "data": {
      "image/png": "[encoded data removed]",
      "text/plain": [
       "<Figure size 432x288 with 1 Axes>"
      ]
     },
     "metadata": {
      "needs_background": "light"
     },
     "output_type": "display_data"
    }
   ],
   "source": [
    "feature = 'Condition2'\n",
    "# 시각화\n",
    "sns.barplot(x=feature, y=target, data=data)\n",
    "plt.axhline(data[target].mean(), color='r')  # 전체 평균\n",
    "plt.show()"
   ]
  },
  {
   "cell_type": "code",
   "execution_count": 149,
   "id": "66361229",
   "metadata": {},
   "outputs": [
    {
     "data": {
      "text/plain": [
       "array(['Norm', 'Artery', 'RRNn', 'Feedr', 'PosN', 'PosA', 'RRAn', 'RRAe'],\n",
       "      dtype=object)"
      ]
     },
     "execution_count": 149,
     "metadata": {},
     "output_type": "execute_result"
    }
   ],
   "source": [
    "data[feature].unique()"
   ]
  },
  {
   "cell_type": "code",
   "execution_count": 150,
   "id": "a8720b0b",
   "metadata": {},
   "outputs": [
    {
     "data": {
      "text/plain": [
       "F_onewayResult(statistic=1.843655914871547, pvalue=0.08729935530057274)"
      ]
     },
     "execution_count": 150,
     "metadata": {},
     "output_type": "execute_result"
    }
   ],
   "source": [
    "# 수치화\n",
    "Norm = data.loc[data.Condition2 == 'Norm', target]\n",
    "Feedr = data.loc[data.Condition2 == 'Feedr', target]\n",
    "PosN = data.loc[data.Condition2 == 'PosN', target]\n",
    "Artery = data.loc[data.Condition2 == 'Artery', target]\n",
    "RRAe = data.loc[data.Condition2 == 'RRAe', target]\n",
    "RRNn = data.loc[data.Condition2 == 'RRNn', target]\n",
    "RRAn = data.loc[data.Condition2 == 'RRAn', target]\n",
    "PosA = data.loc[data.Condition2 == 'PosA', target]\n",
    "# RRNe = data.loc[data.Condition2 == 'RRNe', target]\n",
    "\n",
    "\n",
    "\n",
    "spst.f_oneway(Norm,Feedr,Artery,RRAe,RRNn,RRAn,PosA)"
   ]
  },
  {
   "cell_type": "markdown",
   "id": "a1ec086f",
   "metadata": {},
   "source": [
    "### BldgType --> Target *"
   ]
  },
  {
   "cell_type": "code",
   "execution_count": 151,
   "id": "6eea4d27",
   "metadata": {
    "scrolled": false
   },
   "outputs": [
    {
     "data": {
      "image/png": "[encoded data removed]",
      "text/plain": [
       "<Figure size 432x288 with 1 Axes>"
      ]
     },
     "metadata": {
      "needs_background": "light"
     },
     "output_type": "display_data"
    }
   ],
   "source": [
    "feature = 'BldgType'\n",
    "# 시각화\n",
    "sns.barplot(x=feature, y=target, data=data)\n",
    "plt.axhline(data[target].mean(), color='r')  # 전체 평균\n",
    "plt.show()"
   ]
  },
  {
   "cell_type": "code",
   "execution_count": 152,
   "id": "db875533",
   "metadata": {},
   "outputs": [
    {
     "data": {
      "text/plain": [
       "array(['1Fam', '2fmCon', 'Duplex', 'TwnhsE', 'Twnhs'], dtype=object)"
      ]
     },
     "execution_count": 152,
     "metadata": {},
     "output_type": "execute_result"
    }
   ],
   "source": [
    "data[feature].unique()"
   ]
  },
  {
   "cell_type": "code",
   "execution_count": 153,
   "id": "6c74a28a",
   "metadata": {},
   "outputs": [
    {
     "data": {
      "text/plain": [
       "F_onewayResult(statistic=13.221803061162818, pvalue=1.3923766591790544e-10)"
      ]
     },
     "execution_count": 153,
     "metadata": {},
     "output_type": "execute_result"
    }
   ],
   "source": [
    "# 수치화\n",
    "Fam = data.loc[data.BldgType == '1Fam', target]\n",
    "fmCon = data.loc[data.BldgType == '2fmCon', target]\n",
    "Duplex = data.loc[data.BldgType == 'Duplex', target]\n",
    "TwnhsE = data.loc[data.BldgType == 'TwnhsE', target]\n",
    "Twnhs = data.loc[data.BldgType == 'Twnhs', target]\n",
    "\n",
    "\n",
    "\n",
    "spst.f_oneway(Fam,fmCon,Duplex,TwnhsE,Twnhs)"
   ]
  },
  {
   "cell_type": "markdown",
   "id": "72d71463",
   "metadata": {},
   "source": [
    "#### 추가분석_인사이트"
   ]
  },
  {
   "cell_type": "code",
   "execution_count": 154,
   "id": "9050ee77",
   "metadata": {},
   "outputs": [
    {
     "data": {
      "image/png": "[encoded data removed]",
      "text/plain": [
       "<Figure size 432x288 with 1 Axes>"
      ]
     },
     "metadata": {
      "needs_background": "light"
     },
     "output_type": "display_data"
    }
   ],
   "source": [
    "x = 'BldgType'\n",
    "sns.boxplot(x=x,y=target,data=data)\n",
    "plt.show()"
   ]
  },
  {
   "cell_type": "code",
   "execution_count": 155,
   "id": "e119c6b8",
   "metadata": {},
   "outputs": [
    {
     "data": {
      "image/png": "[encoded data removed]",
      "text/plain": [
       "<Figure size 432x288 with 1 Axes>"
      ]
     },
     "metadata": {
      "needs_background": "light"
     },
     "output_type": "display_data"
    }
   ],
   "source": [
    "sns.barplot(x=x,y=target,data=data)\n",
    "plt.show()"
   ]
  },
  {
   "cell_type": "markdown",
   "id": "4c7dfeb6",
   "metadata": {},
   "source": [
    "- 1Fam의 분포가 넓다. -> 데이터 양이 많아서\n",
    "- 중위값은 다 비슷하니 데이터 양이 비슷했다면 평균도 비슷했을 수도"
   ]
  },
  {
   "cell_type": "markdown",
   "id": "e3ac9ddd",
   "metadata": {},
   "source": [
    "#### 추가분석_새기준(개선 실패)"
   ]
  },
  {
   "cell_type": "code",
   "execution_count": 156,
   "id": "36f73730",
   "metadata": {},
   "outputs": [
    {
     "data": {
      "text/plain": [
       "Ttest_indResult(statistic=5.2891316524778045, pvalue=1.4171309693351657e-07)"
      ]
     },
     "execution_count": 156,
     "metadata": {},
     "output_type": "execute_result"
    }
   ],
   "source": [
    "# sig = 1가구\n",
    "# mul = 다가구\n",
    "\n",
    "# 수치화\n",
    "sig = data.loc[data.BldgType == '1Fam', target]\n",
    "mul = data.loc[data['BldgType'].isin(['2fmCon','Duplex','TwnhsE','Twnhs']),  target]\n",
    "\n",
    "spst.ttest_ind(sig,mul)"
   ]
  },
  {
   "cell_type": "markdown",
   "id": "31433f5d",
   "metadata": {},
   "source": [
    "### HouseStyle --> Target *"
   ]
  },
  {
   "cell_type": "code",
   "execution_count": 157,
   "id": "bed5ee58",
   "metadata": {
    "scrolled": true
   },
   "outputs": [
    {
     "data": {
      "image/png": "[encoded data removed]",
      "text/plain": [
       "<Figure size 432x288 with 1 Axes>"
      ]
     },
     "metadata": {
      "needs_background": "light"
     },
     "output_type": "display_data"
    }
   ],
   "source": [
    "feature = 'HouseStyle'\n",
    "# 시각화\n",
    "sns.barplot(x=feature, y=target, data=data)\n",
    "plt.axhline(data[target].mean(), color='r')  # 전체 평균\n",
    "plt.show()"
   ]
  },
  {
   "cell_type": "code",
   "execution_count": 158,
   "id": "51224014",
   "metadata": {},
   "outputs": [
    {
     "data": {
      "text/plain": [
       "array(['2Story', '1Story', '1.5Fin', '1.5Unf', 'SFoyer', 'SLvl', '2.5Unf',\n",
       "       '2.5Fin'], dtype=object)"
      ]
     },
     "execution_count": 158,
     "metadata": {},
     "output_type": "execute_result"
    }
   ],
   "source": [
    "data[feature].unique()"
   ]
  },
  {
   "cell_type": "code",
   "execution_count": 159,
   "id": "89e5497e",
   "metadata": {},
   "outputs": [
    {
     "data": {
      "text/plain": [
       "F_onewayResult(statistic=20.216291057201907, pvalue=5.0389804226695897e-26)"
      ]
     },
     "execution_count": 159,
     "metadata": {},
     "output_type": "execute_result"
    }
   ],
   "source": [
    "# 수치화\n",
    "Story2 = data.loc[data.HouseStyle == '2Story', target]\n",
    "Story1 = data.loc[data.HouseStyle == '1Story', target]\n",
    "Fin15 = data.loc[data.HouseStyle == '1.5Fin', target]\n",
    "Unf15 = data.loc[data.HouseStyle == '1.5Unf', target]\n",
    "SFoyer = data.loc[data.HouseStyle == 'SFoyer', target]\n",
    "SLvl = data.loc[data.HouseStyle == 'SLvl', target]\n",
    "Unf25 = data.loc[data.HouseStyle == '2.5Unf', target]\n",
    "Fin25 = data.loc[data.HouseStyle == '2.5Fin', target]\n",
    "\n",
    "\n",
    "\n",
    "spst.f_oneway(Story2,Story1,Fin15,Unf15,SFoyer,SLvl,Unf25,Fin25)"
   ]
  },
  {
   "cell_type": "markdown",
   "id": "c66ee25d",
   "metadata": {},
   "source": [
    "#### 추가분석_인사이트"
   ]
  },
  {
   "cell_type": "code",
   "execution_count": 160,
   "id": "eb4cd6fb",
   "metadata": {},
   "outputs": [
    {
     "data": {
      "image/png": "[encoded data removed]",
      "text/plain": [
       "<Figure size 432x288 with 1 Axes>"
      ]
     },
     "metadata": {
      "needs_background": "light"
     },
     "output_type": "display_data"
    }
   ],
   "source": [
    "BldgTypex = 'HouseStyle'\n",
    "sns.boxplot(x=x,y=target,data=data)\n",
    "plt.show()"
   ]
  },
  {
   "cell_type": "code",
   "execution_count": 161,
   "id": "64f230ce",
   "metadata": {},
   "outputs": [
    {
     "data": {
      "image/png": "[encoded data removed]",
      "text/plain": [
       "<Figure size 432x288 with 1 Axes>"
      ]
     },
     "metadata": {
      "needs_background": "light"
     },
     "output_type": "display_data"
    }
   ],
   "source": [
    "sns.barplot(x=x,y=target,data=data)\n",
    "plt.show()"
   ]
  },
  {
   "cell_type": "markdown",
   "id": "cc3f93cb",
   "metadata": {},
   "source": [
    "- 2.5층 미완성의 경우 분포가 매우 넓다. -> 데이터 양이 적어서 그런 것으로 추정\n",
    "- 1story와 2stroy 빼고는 다 데이터가 적어서 1층과 다층 구조로 새열 만들고 열 삭제하는 게 나을 것으로 추정됨"
   ]
  },
  {
   "cell_type": "markdown",
   "id": "b7033c34",
   "metadata": {},
   "source": [
    "#### 추가분석_새기준(개선)"
   ]
  },
  {
   "cell_type": "code",
   "execution_count": 162,
   "id": "4a3b2355",
   "metadata": {},
   "outputs": [
    {
     "data": {
      "text/plain": [
       "Ttest_indResult(statistic=-7.327669164170643, pvalue=3.8708197677086407e-13)"
      ]
     },
     "execution_count": 162,
     "metadata": {},
     "output_type": "execute_result"
    }
   ],
   "source": [
    "# 시도1 : 개선\n",
    "# 층별 구분 (sto1 =1층 / sto2 = 2층이상)\n",
    "\n",
    "# 수치화\n",
    "sto1 = data.loc[data['HouseStyle'].isin(['1Story','1.5Fin','1.5Unf']), target]\n",
    "sto2 = data.loc[data['HouseStyle'].isin(['2Story','SFoyer','SLvl','2.5Unf','2.5Fin']), target]\n",
    "\n",
    "spst.ttest_ind(sto1,sto2)\n"
   ]
  },
  {
   "cell_type": "code",
   "execution_count": 163,
   "id": "b814faf6",
   "metadata": {
    "scrolled": true
   },
   "outputs": [
    {
     "data": {
      "text/plain": [
       "F_onewayResult(statistic=31.12240355095669, pvalue=5.851930499923667e-14)"
      ]
     },
     "execution_count": 163,
     "metadata": {},
     "output_type": "execute_result"
    }
   ],
   "source": [
    "# 시도2 : 개선\n",
    "# 층별 구분 (f1 =1층 / f2 = 2층이상 / unf = 미완) \n",
    "\n",
    "# 수치화\n",
    "sto1 = data.loc[data['HouseStyle'].isin(['1Story','1.5Fin']), target]\n",
    "sto2 = data.loc[data['HouseStyle'].isin(['2Story','SFoyer','SLvl','2.5Fin']), target]\n",
    "undf= data.loc[data['HouseStyle'].isin(['2.5Unf','1.5Unf']), target]\n",
    "\n",
    "\n",
    "spst.f_oneway(sto1,sto2,unf)\n"
   ]
  },
  {
   "cell_type": "markdown",
   "id": "64a75255",
   "metadata": {},
   "source": [
    "#### 전처리_새 열 추가"
   ]
  },
  {
   "cell_type": "code",
   "execution_count": 164,
   "id": "f090be15",
   "metadata": {},
   "outputs": [],
   "source": [
    "# 전처리_새 열 생성\n",
    "data['HouseStyle'].loc[data['HouseStyle'].isin(['1Story','1.5Fin'])] = 'sto1'\n",
    "data['HouseStyle'].loc[data['HouseStyle'].isin(['2Story','SFoyer','SLvl','2.5Fin'])] = 'sto2'\n",
    "data['HouseStyle'].loc[data['HouseStyle'].isin(['2.5Unf','1.5Unf'])] = 'unf'\n",
    "\n",
    "# sto1 : 1층\n",
    "# sto2  : 2층이상\n",
    "# unf  : 미완성"
   ]
  },
  {
   "cell_type": "code",
   "execution_count": 165,
   "id": "f3ace044",
   "metadata": {},
   "outputs": [
    {
     "data": {
      "text/plain": [
       "array(['sto2', 'sto1', 'unf'], dtype=object)"
      ]
     },
     "execution_count": 165,
     "metadata": {},
     "output_type": "execute_result"
    }
   ],
   "source": [
    "data['HouseStyle'].unique()"
   ]
  }
 ],
 "metadata": {
  "kernelspec": {
   "display_name": "Python 3",
   "language": "python",
   "name": "python3"
  },
  "language_info": {
   "codemirror_mode": {
    "name": "ipython",
    "version": 3
   },
   "file_extension": ".py",
   "mimetype": "text/x-python",
   "name": "python",
   "nbconvert_exporter": "python",
   "pygments_lexer": "ipython3",
   "version": "3.8.8"
  },
  "toc": {
   "base_numbering": 1,
   "nav_menu": {},
   "number_sections": true,
   "sideBar": true,
   "skip_h1_title": false,
   "title_cell": "Table of Contents",
   "title_sidebar": "Contents",
   "toc_cell": false,
   "toc_position": {
    "height": "calc(100% - 180px)",
    "left": "10px",
    "top": "150px",
    "width": "341.306px"
   },
   "toc_section_display": true,
   "toc_window_display": true
  }
 },
 "nbformat": 4,
 "nbformat_minor": 5
}
