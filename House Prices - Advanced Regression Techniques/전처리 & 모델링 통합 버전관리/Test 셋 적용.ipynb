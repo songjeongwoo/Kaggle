{
 "cells": [
  {
   "cell_type": "code",
   "execution_count": 1,
   "id": "e702189a",
   "metadata": {},
   "outputs": [],
   "source": [
    "import pandas as pd\n",
    "import numpy as np"
   ]
  },
  {
   "cell_type": "code",
   "execution_count": 2,
   "id": "8ecd4191",
   "metadata": {},
   "outputs": [
    {
     "data": {
      "text/html": [
       "<div>\n",
       "<style scoped>\n",
       "    .dataframe tbody tr th:only-of-type {\n",
       "        vertical-align: middle;\n",
       "    }\n",
       "\n",
       "    .dataframe tbody tr th {\n",
       "        vertical-align: top;\n",
       "    }\n",
       "\n",
       "    .dataframe thead th {\n",
       "        text-align: right;\n",
       "    }\n",
       "</style>\n",
       "<table border=\"1\" class=\"dataframe\">\n",
       "  <thead>\n",
       "    <tr style=\"text-align: right;\">\n",
       "      <th></th>\n",
       "      <th>Id</th>\n",
       "      <th>MSSubClass</th>\n",
       "      <th>MSZoning</th>\n",
       "      <th>LotFrontage</th>\n",
       "      <th>LotArea</th>\n",
       "      <th>Street</th>\n",
       "      <th>Alley</th>\n",
       "      <th>LotShape</th>\n",
       "      <th>LandContour</th>\n",
       "      <th>Utilities</th>\n",
       "      <th>...</th>\n",
       "      <th>ScreenPorch</th>\n",
       "      <th>PoolArea</th>\n",
       "      <th>PoolQC</th>\n",
       "      <th>Fence</th>\n",
       "      <th>MiscFeature</th>\n",
       "      <th>MiscVal</th>\n",
       "      <th>MoSold</th>\n",
       "      <th>YrSold</th>\n",
       "      <th>SaleType</th>\n",
       "      <th>SaleCondition</th>\n",
       "    </tr>\n",
       "  </thead>\n",
       "  <tbody>\n",
       "    <tr>\n",
       "      <th>1457</th>\n",
       "      <td>2918</td>\n",
       "      <td>85</td>\n",
       "      <td>RL</td>\n",
       "      <td>62.0</td>\n",
       "      <td>10441</td>\n",
       "      <td>Pave</td>\n",
       "      <td>NaN</td>\n",
       "      <td>Reg</td>\n",
       "      <td>Lvl</td>\n",
       "      <td>AllPub</td>\n",
       "      <td>...</td>\n",
       "      <td>0</td>\n",
       "      <td>0</td>\n",
       "      <td>NaN</td>\n",
       "      <td>MnPrv</td>\n",
       "      <td>Shed</td>\n",
       "      <td>700</td>\n",
       "      <td>7</td>\n",
       "      <td>2006</td>\n",
       "      <td>WD</td>\n",
       "      <td>Normal</td>\n",
       "    </tr>\n",
       "    <tr>\n",
       "      <th>1458</th>\n",
       "      <td>2919</td>\n",
       "      <td>60</td>\n",
       "      <td>RL</td>\n",
       "      <td>74.0</td>\n",
       "      <td>9627</td>\n",
       "      <td>Pave</td>\n",
       "      <td>NaN</td>\n",
       "      <td>Reg</td>\n",
       "      <td>Lvl</td>\n",
       "      <td>AllPub</td>\n",
       "      <td>...</td>\n",
       "      <td>0</td>\n",
       "      <td>0</td>\n",
       "      <td>NaN</td>\n",
       "      <td>NaN</td>\n",
       "      <td>NaN</td>\n",
       "      <td>0</td>\n",
       "      <td>11</td>\n",
       "      <td>2006</td>\n",
       "      <td>WD</td>\n",
       "      <td>Normal</td>\n",
       "    </tr>\n",
       "  </tbody>\n",
       "</table>\n",
       "<p>2 rows × 80 columns</p>\n",
       "</div>"
      ],
      "text/plain": [
       "        Id  MSSubClass MSZoning  LotFrontage  LotArea Street Alley LotShape  \\\n",
       "1457  2918          85       RL         62.0    10441   Pave   NaN      Reg   \n",
       "1458  2919          60       RL         74.0     9627   Pave   NaN      Reg   \n",
       "\n",
       "     LandContour Utilities  ... ScreenPorch PoolArea PoolQC  Fence  \\\n",
       "1457         Lvl    AllPub  ...           0        0    NaN  MnPrv   \n",
       "1458         Lvl    AllPub  ...           0        0    NaN    NaN   \n",
       "\n",
       "     MiscFeature MiscVal MoSold  YrSold  SaleType  SaleCondition  \n",
       "1457        Shed     700      7    2006        WD         Normal  \n",
       "1458         NaN       0     11    2006        WD         Normal  \n",
       "\n",
       "[2 rows x 80 columns]"
      ]
     },
     "execution_count": 2,
     "metadata": {},
     "output_type": "execute_result"
    }
   ],
   "source": [
    "data = pd.read_csv('test.csv')\n",
    "data.tail(2)"
   ]
  },
  {
   "cell_type": "code",
   "execution_count": 3,
   "id": "3bcd52e0",
   "metadata": {},
   "outputs": [],
   "source": [
    "# 변수 1~16\n",
    "def fe1(df):\n",
    "    temp = df.copy()\n",
    "    \n",
    "    fre_D = temp['LotFrontage'].value_counts().idxmax()  # 최빈값\n",
    "    temp['LotFrontage'].fillna(fre_D, inplace=True)\n",
    "    \n",
    "    temp = temp.drop('Alley', axis=1)\n",
    "    temp = temp.drop('Utilities', axis=1)\n",
    "    \n",
    "    temp['MSSubClass'].loc[temp['MSSubClass'].isin([20,60,120])] = 'new'\n",
    "    temp['MSSubClass'].loc[temp['MSSubClass'].isin([30,70,160])] = 'older'\n",
    "    temp['MSSubClass'].loc[temp['MSSubClass'].isin([40,45])] = 'unf'\n",
    "    temp['MSSubClass'].loc[temp['MSSubClass'].isin([80,85,180])] = 'split'\n",
    "    temp['MSSubClass'].loc[temp['MSSubClass'].isin([50,75,90,150,190])] = 'other'\n",
    "    \n",
    "    temp['LotShape'].loc[temp.LotShape == 'Reg'] = 'reg'\n",
    "    temp['LotShape'].loc[temp['LotShape'].isin(['IR1','IR2','IR3'])] = 'ir'\n",
    "    \n",
    "    temp['LandSlope'].loc[temp.LotShape == 'Gtl'] = 'Gtl'\n",
    "    temp['LandSlope'].loc[temp['LandSlope'].isin(['Sev','Mod'])] = 'ste'\n",
    "    \n",
    "    temp['Condition1'].loc[temp.LotShape == 'Norm'] = 'Norm'\n",
    "    temp['Condition1'].loc[temp['Condition1'].isin(['PosN','PosA'])] = 'pos'\n",
    "    temp['Condition1'].loc[temp['Condition1']\\\n",
    "                        .isin(['Feedr','Artery','RRAe','RRNn','RRAn','RRNe'])] = 'nag'\n",
    "\n",
    "    temp['HouseStyle'].loc[temp['HouseStyle'].isin(['1Story','1.5Fin'])] = 'sto1'\n",
    "    temp['HouseStyle'].loc[temp['HouseStyle'].isin(['2Story','SFoyer','SLvl','2.5Fin'])] = 'sto2'\n",
    "    temp['HouseStyle'].loc[temp['HouseStyle'].isin(['2.5Unf','1.5Unf'])] = 'unf'\n",
    "    \n",
    "    return temp\n",
    "\n",
    "# 변수 17~32\n",
    "def fe2(df):\n",
    "    temp = df.copy()\n",
    "    \n",
    "    temp['MasVnrArea'].fillna(0, inplace=True)\n",
    "    temp['MasVnrType'].fillna('None', inplace=True)\n",
    "    temp['BsmtQual'].fillna('Na', inplace=True)\n",
    "    temp['BsmtCond'].fillna('Na', inplace=True)\n",
    "    temp['BsmtExposure'].fillna('Na', inplace=True)\n",
    "    \n",
    "    temp['RoofStyle'] = temp['RoofStyle']\\\n",
    "        .map({'Gable':'Gable', 'Hip':'Hip', 'Flat':'Others',\n",
    "          'Gambrel':'Others', 'Mansard':'Others','Shed':'Others'})\n",
    "    \n",
    "    temp['RoofMatl'] = temp['RoofMatl']\\\n",
    "        .map({'CompShg':'CompShg', 'WdShngl':'Wood','WdShake':'Wood', 'Metal':'Others',\n",
    "          'Membran':'Others','Tar&Grv':'Others', 'Roll':'Others','ClyTile':'Others'})\n",
    "    \n",
    "    temp['Exterior1st'] = temp['Exterior1st']\\\n",
    "        .map({'VinylSd':'VinylSd', 'HdBoard':'HdBoard','MetalSd':'MetalSd','Wd Sdng':'Wood',\n",
    "              'WdShing':'Wood','Plywood':'Panull', 'CemntBd':'Panull','BrkComm':'Brick',\n",
    "              'BrkFace':'Brick','CBlock':'Brick','Stone':'Brick', 'PreCast': 'Brick',\n",
    "              'AsphShn':'Shn', 'AsbShng':'Shn','ImStucc':'Other','Stucco':'Other','Other':'Other'})\n",
    "    \n",
    "    temp['Exterior2nd'] = temp['Exterior2nd']\\\n",
    "        .map({'VinylSd':'VinylSd', 'HdBoard':'HdBoard','MetalSd':'MetalSd',\n",
    "          'Wd Sdng':'Wood', 'Wd Shng':'Wood','Plywood':'Panull',\n",
    "          'CmentBd':'Panull','Brk Cmn':'Brick','BrkFace':'Brick',\n",
    "          'CBlock':'Brick','Stone':'Brick', 'PreCast': 'Brick', 'AsphShn':'Shn','AsbShng':'Shn',\n",
    "          'ImStucc':'Other','Stucco':'Other','Other':'Other'})\n",
    "    \n",
    "    # 지어진 년도: 1800 후반, ~1950, ~2000, 2000~\n",
    "    bin = [-np.inf, 1900, 1951, 2001, np.inf]\n",
    "    label = ['1800 후반', '~1950', '~2000', '2000~']\n",
    "    temp['YearBuilt_grp'] = pd.cut(temp['YearBuilt'], bins=bin, right=False, labels=label)\n",
    "    # 기존 변수 제거\n",
    "    temp.drop('YearBuilt', axis=1, inplace=True)\n",
    "    \n",
    "    # 리모델링 년도: ~1950, ~2000, 2000~\n",
    "    bin = [-np.inf, 1951, 2001, np.inf]\n",
    "    label = ['~1950', '~2000', '2000~']\n",
    "    temp['YearRemodAdd_grp'] = pd.cut(temp['YearRemodAdd'], bins=bin, right=False, labels=label)\n",
    "    # 기존 변수 제거\n",
    "    temp.drop('YearRemodAdd', axis=1, inplace=True)\n",
    "    \n",
    "    return temp\n",
    "\n",
    "# 변수 33~48 전처리\n",
    "def fe3(df):\n",
    "    temp = df.copy()\n",
    "    \n",
    "    temp['BsmtFinType1'].fillna(\"NA\", inplace = True)\n",
    "    temp['BsmtFinType2'].fillna(\"NA\", inplace = True)\n",
    "\n",
    "    ## 최빈값으로 채움\n",
    "    temp['Electrical'].fillna(temp['Electrical'].mode()[0], inplace = True)\n",
    "    \n",
    "    bins = [-np.inf, 1, 500, 1000, 1500, np.inf]\n",
    "    labels = ['없음', '500미만', '1000미만', '1500미만', '1500이상']\n",
    "    temp['BsmtFinSF1_grp'] = pd.cut(temp['BsmtFinSF1'], bins, labels=labels, right=False)\n",
    "    \n",
    "    bins = [-np.inf, 1, 500, 1000, 1500, 2000, np.inf]\n",
    "    labels = ['없음', '500미만', '1000미만', '1500미만', '2000미만', '2000이상']\n",
    "    temp['BsmtUnfSF_grp'] = pd.cut(temp['BsmtUnfSF'], bins, labels=labels, right=False)    \n",
    "    \n",
    "    return temp\n",
    "\n",
    "# 변수 49~64 전처리\n",
    "def fe4(df):\n",
    "    temp = df.copy()\n",
    "    \n",
    "    temp['FireplaceQu'].fillna('No', inplace=True)\n",
    "    temp['GarageType'].fillna('No', inplace=True)\n",
    "    temp['GarageYrBlt'].fillna(0, inplace=True)\n",
    "    temp['GarageFinish'].fillna('No', inplace=True)\n",
    "    temp['GarageQual'].fillna('No', inplace=True)\n",
    "    temp['GarageCond'].fillna('No', inplace=True)\n",
    "    \n",
    "    temp['KitchenAbvGr'] = temp['KitchenAbvGr'].map({ 1:'1개', 2:'2개 이상', 3:'2개 이상'})\n",
    "    \n",
    "    bin = [1, 5, 9, np.inf]\n",
    "    label = ['~4', '5~8', '9~']\n",
    "    temp['TotRmsAbvGrd'] = pd.cut(temp['TotRmsAbvGrd'], bins=bin, labels=label, right=False)\n",
    "    \n",
    "    temp['Functional'] = temp['Functional']\\\n",
    "        .map({'Min1':'Min', 'Min2':'Min', 'Maj1':'Maj', 'Maj2':'Maj', 'Mod':'Typ','Typ':'Typ',\n",
    "             'Sev': 'Sev', 'Sal': 'Sal'})\n",
    "    \n",
    "    temp['GarageType'] = temp['GarageType']\\\n",
    "        .map({'Attchd':'At', 'Detchd':'Dt', 'BuiltIn':'Others', 'CarPort':'Others',\n",
    "              'Basment':'Others', '2Types':'Others', 'No':'No'})\n",
    "    \n",
    "    bin = [-np.inf, 1, 1910, 1920, 1930, 1940, 1950, 1960, 1970, 1980, 1990, 2000, np.inf]\n",
    "    label = ['No', '1900년대', '1910년대', '1920년대', '1930년대',\n",
    "             '1940년대', '1950년대', '1960년대', '1970년대', '1980년대', '1990년대', '2000년대']\n",
    "    temp['GarageYrBlt'] = pd.cut(temp['GarageYrBlt'], bins=bin, labels=label, right=False)\n",
    "    \n",
    "    temp['GarageCond'] = temp['GarageCond']\\\n",
    "        .map({'TA':'TA', 'No':'No', 'Ex':'Gd','Gd':'Gd','Fa':'Po','Po':'Po'})\n",
    "    \n",
    "    return temp\n",
    "\n",
    "# 변수 65~80 전처리\n",
    "def fe5(df):\n",
    "    temp = df.copy()\n",
    "        \n",
    "    # 변수 65~80 전처리\n",
    "    temp['PoolQC'].fillna('NO', inplace=True)\n",
    "    temp['Fence'].fillna('NO', inplace=True)\n",
    "    temp['MiscFeature'].fillna('NO', inplace=True)\n",
    "    \n",
    "    bin = [-np.inf, 1, 200, np.inf]\n",
    "    label = ['No', '200미만', '200이상']\n",
    "    temp['WoodDeckSF_cut'] = pd.cut(temp['WoodDeckSF'], bins=bin, labels=label, right=False)\n",
    "    \n",
    "    bin = [-np.inf, 1, 100, np.inf]\n",
    "    label = ['No', '100미만', '100이상']\n",
    "    temp['OpenPorchSF_cut'] = pd.cut(temp['OpenPorchSF'], bins=bin, labels=label, right=False)\n",
    "    \n",
    "    bin = [-np.inf, 1, 100, 200, 300, np.inf]\n",
    "    label = ['No', '100미만', '200미만', '300미만', '300이상']\n",
    "    temp['EnclosedPorch_cut'] = pd.cut(temp['EnclosedPorch'], bins=bin, labels=label, right=False)\n",
    "    \n",
    "    return temp\n",
    "\n",
    "def del_fe(df):\n",
    "    temp = df.copy()\n",
    "    \n",
    "    # 이변량 분석을 통한 변수 제거\n",
    "    cols = ['Street', 'LandSlope', 'Condition2', 'OverallCond', 'BsmtFinSF2', 'LowQualFinSF',\n",
    "            '3SsnPorch', 'PoolArea', 'MiscFeature', 'MiscVal', 'MoSold', 'YrSold']\n",
    "    temp.drop(cols, axis=1, inplace=True)\n",
    "    \n",
    "    # 다중공선성을 위한 변수명 변경(밑에서 제거)\n",
    "    temp.rename(columns={'1stFlrSF':'firstFlrSF', '2ndFlrSF':'secondFlrSF'}, inplace=True)\n",
    "    \n",
    "    # 다중공선성 변수 제거\n",
    "    cols = ['firstFlrSF', 'secondFlrSF']\n",
    "    temp.drop(cols, axis=1, inplace=True)\n",
    "    \n",
    "    # 고유값 변수 제거\n",
    "    temp.drop('Id', axis=1, inplace=True)\n",
    "    \n",
    "    return temp\n",
    "\n",
    "def dumm_fe(df, cat):\n",
    "    temp = df.copy()\n",
    "    \n",
    "    # category로 타입변경\n",
    "    for k, v in cat.items():\n",
    "        temp[k] = pd.Categorical(temp[k], categories=v, ordered=False)\n",
    "    \n",
    "    # 가변수화\n",
    "    cat_cols = [col for col in temp.columns if temp[col].dtype != 'float64' if temp[col].dtype != 'int64']\n",
    "    temp = pd.get_dummies(temp, columns=cat_cols, drop_first=True)\n",
    "    \n",
    "    return temp\n",
    "\n",
    "def df(df):\n",
    "    temp = df.copy()\n",
    "\n",
    "    x_cols = list(temp)\n",
    "\n",
    "    return pd.DataFrame(temp, columns = x_cols)"
   ]
  },
  {
   "cell_type": "markdown",
   "id": "a4fcf8ff",
   "metadata": {},
   "source": [
    "## 오브젝트 불러오기"
   ]
  },
  {
   "cell_type": "code",
   "execution_count": 4,
   "id": "e1dddbc9",
   "metadata": {},
   "outputs": [],
   "source": [
    "import joblib"
   ]
  },
  {
   "cell_type": "code",
   "execution_count": 5,
   "id": "0cbf7fd7",
   "metadata": {},
   "outputs": [],
   "source": [
    "cat = joblib.load('cat.pkl')\n",
    "\n",
    "lr = joblib.load('model_lr.pkl')\n",
    "xgbr = joblib.load('model_xgbr.pkl')"
   ]
  },
  {
   "cell_type": "markdown",
   "id": "dada33d6",
   "metadata": {},
   "source": [
    "## 전처리 함수 적용"
   ]
  },
  {
   "cell_type": "code",
   "execution_count": 6,
   "id": "8348a5e1",
   "metadata": {},
   "outputs": [
    {
     "name": "stderr",
     "output_type": "stream",
     "text": [
      "C:\\Users\\User\\anaconda3\\lib\\site-packages\\pandas\\core\\indexing.py:1637: SettingWithCopyWarning: \n",
      "A value is trying to be set on a copy of a slice from a DataFrame\n",
      "\n",
      "See the caveats in the documentation: https://pandas.pydata.org/pandas-docs/stable/user_guide/indexing.html#returning-a-view-versus-a-copy\n",
      "  self._setitem_single_block(indexer, value, name)\n"
     ]
    }
   ],
   "source": [
    "data = fe1(data)\n",
    "data = fe2(data)\n",
    "data = fe3(data)\n",
    "data = fe4(data)\n",
    "data = fe5(data)\n",
    "data = del_fe(data)"
   ]
  },
  {
   "cell_type": "markdown",
   "id": "cd310391",
   "metadata": {},
   "source": [
    "## 결측치 이슈"
   ]
  },
  {
   "cell_type": "code",
   "execution_count": 7,
   "id": "f3c668c5",
   "metadata": {},
   "outputs": [
    {
     "name": "stdout",
     "output_type": "stream",
     "text": [
      "MSZoning          4\n",
      "Exterior1st       1\n",
      "Exterior2nd       1\n",
      "BsmtFinSF1        1\n",
      "BsmtUnfSF         1\n",
      "TotalBsmtSF       1\n",
      "BsmtFullBath      2\n",
      "BsmtHalfBath      2\n",
      "KitchenAbvGr      2\n",
      "KitchenQual       1\n",
      "Functional        2\n",
      "GarageCars        1\n",
      "GarageArea        1\n",
      "SaleType          1\n",
      "BsmtFinSF1_grp    1\n",
      "BsmtUnfSF_grp     1\n",
      "dtype: int64\n"
     ]
    }
   ],
   "source": [
    "tmp = data.isna().sum()\n",
    "print(tmp[tmp>0])"
   ]
  },
  {
   "cell_type": "markdown",
   "id": "509d07f8",
   "metadata": {},
   "source": [
    "## 결측치 채우기"
   ]
  },
  {
   "cell_type": "code",
   "execution_count": 8,
   "id": "6d00998b",
   "metadata": {},
   "outputs": [],
   "source": [
    "from sklearn.impute import SimpleImputer"
   ]
  },
  {
   "cell_type": "code",
   "execution_count": 9,
   "id": "fa89dd2f",
   "metadata": {},
   "outputs": [],
   "source": [
    "imputer_list = ['MSZoning', 'Exterior1st', 'Exterior2nd', 'BsmtFullBath', 'BsmtHalfBath', 'KitchenAbvGr',\n",
    "                'KitchenQual', 'Functional', 'GarageCars', 'SaleType', 'BsmtFinSF1_grp', 'BsmtUnfSF_grp']\n",
    "imputer = SimpleImputer(strategy = 'most_frequent')\n",
    "data[imputer_list] = imputer.fit_transform(data[imputer_list])"
   ]
  },
  {
   "cell_type": "code",
   "execution_count": 10,
   "id": "8696c56c",
   "metadata": {},
   "outputs": [],
   "source": [
    "imputer_list2 = ['BsmtFinSF1', 'BsmtUnfSF', 'TotalBsmtSF', 'GarageArea']\n",
    "imputer2 = SimpleImputer(strategy = 'mean')\n",
    "data[imputer_list2] = imputer2.fit_transform(data[imputer_list2])"
   ]
  },
  {
   "cell_type": "markdown",
   "id": "cb9a941b",
   "metadata": {},
   "source": [
    "## 가변수화 및 df화"
   ]
  },
  {
   "cell_type": "code",
   "execution_count": 11,
   "id": "e02852f0",
   "metadata": {},
   "outputs": [
    {
     "data": {
      "text/html": [
       "<div>\n",
       "<style scoped>\n",
       "    .dataframe tbody tr th:only-of-type {\n",
       "        vertical-align: middle;\n",
       "    }\n",
       "\n",
       "    .dataframe tbody tr th {\n",
       "        vertical-align: top;\n",
       "    }\n",
       "\n",
       "    .dataframe thead th {\n",
       "        text-align: right;\n",
       "    }\n",
       "</style>\n",
       "<table border=\"1\" class=\"dataframe\">\n",
       "  <thead>\n",
       "    <tr style=\"text-align: right;\">\n",
       "      <th></th>\n",
       "      <th>LotFrontage</th>\n",
       "      <th>LotArea</th>\n",
       "      <th>OverallQual</th>\n",
       "      <th>MasVnrArea</th>\n",
       "      <th>BsmtFinSF1</th>\n",
       "      <th>BsmtUnfSF</th>\n",
       "      <th>TotalBsmtSF</th>\n",
       "      <th>GrLivArea</th>\n",
       "      <th>BsmtFullBath</th>\n",
       "      <th>BsmtHalfBath</th>\n",
       "      <th>...</th>\n",
       "      <th>BsmtUnfSF_grp_500미만</th>\n",
       "      <th>BsmtUnfSF_grp_없음</th>\n",
       "      <th>WoodDeckSF_cut_200미만</th>\n",
       "      <th>WoodDeckSF_cut_200이상</th>\n",
       "      <th>OpenPorchSF_cut_100미만</th>\n",
       "      <th>OpenPorchSF_cut_100이상</th>\n",
       "      <th>EnclosedPorch_cut_100미만</th>\n",
       "      <th>EnclosedPorch_cut_200미만</th>\n",
       "      <th>EnclosedPorch_cut_300미만</th>\n",
       "      <th>EnclosedPorch_cut_300이상</th>\n",
       "    </tr>\n",
       "  </thead>\n",
       "  <tbody>\n",
       "    <tr>\n",
       "      <th>1457</th>\n",
       "      <td>62.0</td>\n",
       "      <td>10441</td>\n",
       "      <td>5</td>\n",
       "      <td>0.0</td>\n",
       "      <td>337.0</td>\n",
       "      <td>575.0</td>\n",
       "      <td>912.0</td>\n",
       "      <td>970</td>\n",
       "      <td>0.0</td>\n",
       "      <td>1.0</td>\n",
       "      <td>...</td>\n",
       "      <td>0</td>\n",
       "      <td>0</td>\n",
       "      <td>1</td>\n",
       "      <td>0</td>\n",
       "      <td>1</td>\n",
       "      <td>0</td>\n",
       "      <td>0</td>\n",
       "      <td>0</td>\n",
       "      <td>0</td>\n",
       "      <td>0</td>\n",
       "    </tr>\n",
       "    <tr>\n",
       "      <th>1458</th>\n",
       "      <td>74.0</td>\n",
       "      <td>9627</td>\n",
       "      <td>7</td>\n",
       "      <td>94.0</td>\n",
       "      <td>758.0</td>\n",
       "      <td>238.0</td>\n",
       "      <td>996.0</td>\n",
       "      <td>2000</td>\n",
       "      <td>0.0</td>\n",
       "      <td>0.0</td>\n",
       "      <td>...</td>\n",
       "      <td>1</td>\n",
       "      <td>0</td>\n",
       "      <td>1</td>\n",
       "      <td>0</td>\n",
       "      <td>1</td>\n",
       "      <td>0</td>\n",
       "      <td>0</td>\n",
       "      <td>0</td>\n",
       "      <td>0</td>\n",
       "      <td>0</td>\n",
       "    </tr>\n",
       "  </tbody>\n",
       "</table>\n",
       "<p>2 rows × 233 columns</p>\n",
       "</div>"
      ],
      "text/plain": [
       "      LotFrontage  LotArea  OverallQual  MasVnrArea  BsmtFinSF1  BsmtUnfSF  \\\n",
       "1457         62.0    10441            5         0.0       337.0      575.0   \n",
       "1458         74.0     9627            7        94.0       758.0      238.0   \n",
       "\n",
       "      TotalBsmtSF  GrLivArea  BsmtFullBath  BsmtHalfBath  ...  \\\n",
       "1457        912.0        970           0.0           1.0  ...   \n",
       "1458        996.0       2000           0.0           0.0  ...   \n",
       "\n",
       "      BsmtUnfSF_grp_500미만  BsmtUnfSF_grp_없음  WoodDeckSF_cut_200미만  \\\n",
       "1457                    0                 0                     1   \n",
       "1458                    1                 0                     1   \n",
       "\n",
       "      WoodDeckSF_cut_200이상  OpenPorchSF_cut_100미만  OpenPorchSF_cut_100이상  \\\n",
       "1457                     0                      1                      0   \n",
       "1458                     0                      1                      0   \n",
       "\n",
       "      EnclosedPorch_cut_100미만  EnclosedPorch_cut_200미만  \\\n",
       "1457                        0                        0   \n",
       "1458                        0                        0   \n",
       "\n",
       "      EnclosedPorch_cut_300미만  EnclosedPorch_cut_300이상  \n",
       "1457                        0                        0  \n",
       "1458                        0                        0  \n",
       "\n",
       "[2 rows x 233 columns]"
      ]
     },
     "execution_count": 11,
     "metadata": {},
     "output_type": "execute_result"
    }
   ],
   "source": [
    "data = dumm_fe(data, cat)\n",
    "data = df(data)\n",
    "data.tail(2)"
   ]
  },
  {
   "cell_type": "code",
   "execution_count": 12,
   "id": "ba627d4e",
   "metadata": {
    "scrolled": true
   },
   "outputs": [
    {
     "data": {
      "text/plain": [
       "(1459, 233)"
      ]
     },
     "execution_count": 12,
     "metadata": {},
     "output_type": "execute_result"
    }
   ],
   "source": [
    "data.shape"
   ]
  },
  {
   "cell_type": "code",
   "execution_count": 13,
   "id": "0fdbf459",
   "metadata": {},
   "outputs": [
    {
     "name": "stderr",
     "output_type": "stream",
     "text": [
      "C:\\Users\\User\\anaconda3\\lib\\site-packages\\sklearn\\base.py:493: FutureWarning: The feature names should match those that were passed during fit. Starting version 1.2, an error will be raised.\n",
      "Feature names unseen at fit time:\n",
      "- BsmtFinSF1_grp_없음\n",
      "- BsmtUnfSF_grp_없음\n",
      "Feature names seen at fit time, yet now missing:\n",
      "- BsmtFinSF1_grp_1000미만\n",
      "- BsmtUnfSF_grp_1000미만\n",
      "\n",
      "  warnings.warn(message, FutureWarning)\n"
     ]
    }
   ],
   "source": [
    "lr_pred = lr.predict(data)"
   ]
  },
  {
   "cell_type": "code",
   "execution_count": 18,
   "id": "52d23434",
   "metadata": {},
   "outputs": [
    {
     "data": {
      "text/plain": [
       "1459"
      ]
     },
     "execution_count": 18,
     "metadata": {},
     "output_type": "execute_result"
    }
   ],
   "source": [
    "len(lr_pred)"
   ]
  },
  {
   "cell_type": "code",
   "execution_count": 20,
   "id": "51c4aa2d",
   "metadata": {},
   "outputs": [
    {
     "data": {
      "text/plain": [
       "0       133789.843974\n",
       "1       193189.717871\n",
       "2       221744.260538\n",
       "3       212491.203602\n",
       "4       201555.349036\n",
       "            ...      \n",
       "1454     74218.189284\n",
       "1455     85312.896626\n",
       "1456    191584.511021\n",
       "1457    102219.613021\n",
       "1458    229266.503112\n",
       "Length: 1459, dtype: float64"
      ]
     },
     "execution_count": 20,
     "metadata": {},
     "output_type": "execute_result"
    }
   ],
   "source": [
    "lr_pred = pd.Series(lr_pred)\n",
    "lr_pred"
   ]
  },
  {
   "cell_type": "code",
   "execution_count": 22,
   "id": "c1584ff4",
   "metadata": {},
   "outputs": [],
   "source": [
    "lr_pred.to_csv('predict_lr.csv')"
   ]
  },
  {
   "cell_type": "code",
   "execution_count": 15,
   "id": "94968de9",
   "metadata": {},
   "outputs": [],
   "source": [
    "xgbr_pred = xgbr.predict(data)"
   ]
  },
  {
   "cell_type": "code",
   "execution_count": 17,
   "id": "b891fe53",
   "metadata": {},
   "outputs": [
    {
     "data": {
      "text/plain": [
       "1459"
      ]
     },
     "execution_count": 17,
     "metadata": {},
     "output_type": "execute_result"
    }
   ],
   "source": [
    "len(xgbr_pred)"
   ]
  },
  {
   "cell_type": "code",
   "execution_count": 23,
   "id": "a2c37d33",
   "metadata": {},
   "outputs": [
    {
     "data": {
      "text/plain": [
       "0       143791.796875\n",
       "1       149373.656250\n",
       "2       173373.812500\n",
       "3       188055.640625\n",
       "4       212082.234375\n",
       "            ...      \n",
       "1454     77032.632812\n",
       "1455     75705.156250\n",
       "1456    123624.718750\n",
       "1457    119919.789062\n",
       "1458    215451.343750\n",
       "Length: 1459, dtype: float32"
      ]
     },
     "execution_count": 23,
     "metadata": {},
     "output_type": "execute_result"
    }
   ],
   "source": [
    "xgbr_pred = pd.Series(xgbr_pred)\n",
    "xgbr_pred"
   ]
  },
  {
   "cell_type": "code",
   "execution_count": 24,
   "id": "415f84e6",
   "metadata": {},
   "outputs": [],
   "source": [
    "xgbr_pred.to_csv('predict_xgbr.csv')"
   ]
  }
 ],
 "metadata": {
  "kernelspec": {
   "display_name": "Python 3",
   "language": "python",
   "name": "python3"
  },
  "language_info": {
   "codemirror_mode": {
    "name": "ipython",
    "version": 3
   },
   "file_extension": ".py",
   "mimetype": "text/x-python",
   "name": "python",
   "nbconvert_exporter": "python",
   "pygments_lexer": "ipython3",
   "version": "3.8.8"
  },
  "toc": {
   "base_numbering": 1,
   "nav_menu": {},
   "number_sections": true,
   "sideBar": true,
   "skip_h1_title": false,
   "title_cell": "Table of Contents",
   "title_sidebar": "Contents",
   "toc_cell": false,
   "toc_position": {},
   "toc_section_display": true,
   "toc_window_display": false
  }
 },
 "nbformat": 4,
 "nbformat_minor": 5
}
